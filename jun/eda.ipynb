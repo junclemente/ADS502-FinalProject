{
 "cells": [
  {
   "cell_type": "markdown",
   "metadata": {},
   "source": [
    "# Exploratory Data Analysis"
   ]
  },
  {
   "cell_type": "code",
   "execution_count": 47,
   "metadata": {},
   "outputs": [],
   "source": [
    "import pandas as pd\n",
    "import numpy as np\n",
    "import matplotlib.pyplot as plt\n",
    "import seaborn as sns\n",
    "\n",
    "from pathlib import Path\n",
    "from sklearn.preprocessing import LabelEncoder"
   ]
  },
  {
   "cell_type": "code",
   "execution_count": 48,
   "metadata": {},
   "outputs": [
    {
     "data": {
      "text/html": [
       "<div>\n",
       "<style scoped>\n",
       "    .dataframe tbody tr th:only-of-type {\n",
       "        vertical-align: middle;\n",
       "    }\n",
       "\n",
       "    .dataframe tbody tr th {\n",
       "        vertical-align: top;\n",
       "    }\n",
       "\n",
       "    .dataframe thead th {\n",
       "        text-align: right;\n",
       "    }\n",
       "</style>\n",
       "<table border=\"1\" class=\"dataframe\">\n",
       "  <thead>\n",
       "    <tr style=\"text-align: right;\">\n",
       "      <th></th>\n",
       "      <th>Num</th>\n",
       "      <th>Time</th>\n",
       "      <th>Day_of_week</th>\n",
       "      <th>Age_band_of_driver</th>\n",
       "      <th>Sex_of_driver</th>\n",
       "      <th>Educational_level</th>\n",
       "      <th>Vehicle_driver_relation</th>\n",
       "      <th>Driving_experience</th>\n",
       "      <th>Type_of_vehicle</th>\n",
       "      <th>Owner_of_vehicle</th>\n",
       "      <th>...</th>\n",
       "      <th>Vehicle_movement</th>\n",
       "      <th>Casualty_class</th>\n",
       "      <th>Sex_of_casualty</th>\n",
       "      <th>Age_band_of_casualty</th>\n",
       "      <th>Casualty_severity</th>\n",
       "      <th>Work_of_casuality</th>\n",
       "      <th>Fitness_of_casuality</th>\n",
       "      <th>Pedestrian_movement</th>\n",
       "      <th>Cause_of_accident</th>\n",
       "      <th>Accident_severity</th>\n",
       "    </tr>\n",
       "  </thead>\n",
       "  <tbody>\n",
       "    <tr>\n",
       "      <th>0</th>\n",
       "      <td>1</td>\n",
       "      <td>17:02:00</td>\n",
       "      <td>Monday</td>\n",
       "      <td>18-30</td>\n",
       "      <td>Male</td>\n",
       "      <td>Above high school</td>\n",
       "      <td>Employee</td>\n",
       "      <td>1-2yr</td>\n",
       "      <td>Automobile</td>\n",
       "      <td>Owner</td>\n",
       "      <td>...</td>\n",
       "      <td>Going straight</td>\n",
       "      <td>na</td>\n",
       "      <td>na</td>\n",
       "      <td>na</td>\n",
       "      <td>na</td>\n",
       "      <td>NaN</td>\n",
       "      <td>NaN</td>\n",
       "      <td>Not a Pedestrian</td>\n",
       "      <td>Moving Backward</td>\n",
       "      <td>Slight Injury</td>\n",
       "    </tr>\n",
       "    <tr>\n",
       "      <th>1</th>\n",
       "      <td>2</td>\n",
       "      <td>17:02:00</td>\n",
       "      <td>Monday</td>\n",
       "      <td>31-50</td>\n",
       "      <td>Male</td>\n",
       "      <td>Junior high school</td>\n",
       "      <td>Employee</td>\n",
       "      <td>Above 10yr</td>\n",
       "      <td>Public (&gt; 45 seats)</td>\n",
       "      <td>Owner</td>\n",
       "      <td>...</td>\n",
       "      <td>Going straight</td>\n",
       "      <td>na</td>\n",
       "      <td>na</td>\n",
       "      <td>na</td>\n",
       "      <td>na</td>\n",
       "      <td>NaN</td>\n",
       "      <td>NaN</td>\n",
       "      <td>Not a Pedestrian</td>\n",
       "      <td>Overtaking</td>\n",
       "      <td>Slight Injury</td>\n",
       "    </tr>\n",
       "    <tr>\n",
       "      <th>2</th>\n",
       "      <td>3</td>\n",
       "      <td>17:02:00</td>\n",
       "      <td>Monday</td>\n",
       "      <td>18-30</td>\n",
       "      <td>Male</td>\n",
       "      <td>Junior high school</td>\n",
       "      <td>Employee</td>\n",
       "      <td>1-2yr</td>\n",
       "      <td>Lorry (41?100Q)</td>\n",
       "      <td>Owner</td>\n",
       "      <td>...</td>\n",
       "      <td>Going straight</td>\n",
       "      <td>Driver or rider</td>\n",
       "      <td>Male</td>\n",
       "      <td>31-50</td>\n",
       "      <td>3</td>\n",
       "      <td>Driver</td>\n",
       "      <td>NaN</td>\n",
       "      <td>Not a Pedestrian</td>\n",
       "      <td>Changing lane to the left</td>\n",
       "      <td>Serious Injury</td>\n",
       "    </tr>\n",
       "    <tr>\n",
       "      <th>3</th>\n",
       "      <td>4</td>\n",
       "      <td>1:06:00</td>\n",
       "      <td>Sunday</td>\n",
       "      <td>18-30</td>\n",
       "      <td>Male</td>\n",
       "      <td>Junior high school</td>\n",
       "      <td>Employee</td>\n",
       "      <td>5-10yr</td>\n",
       "      <td>Public (&gt; 45 seats)</td>\n",
       "      <td>Governmental</td>\n",
       "      <td>...</td>\n",
       "      <td>Going straight</td>\n",
       "      <td>Pedestrian</td>\n",
       "      <td>Female</td>\n",
       "      <td>18-30</td>\n",
       "      <td>3</td>\n",
       "      <td>Driver</td>\n",
       "      <td>Normal</td>\n",
       "      <td>Not a Pedestrian</td>\n",
       "      <td>Changing lane to the right</td>\n",
       "      <td>Slight Injury</td>\n",
       "    </tr>\n",
       "    <tr>\n",
       "      <th>4</th>\n",
       "      <td>5</td>\n",
       "      <td>1:06:00</td>\n",
       "      <td>Sunday</td>\n",
       "      <td>18-30</td>\n",
       "      <td>Male</td>\n",
       "      <td>Junior high school</td>\n",
       "      <td>Employee</td>\n",
       "      <td>2-5yr</td>\n",
       "      <td>NaN</td>\n",
       "      <td>Owner</td>\n",
       "      <td>...</td>\n",
       "      <td>Going straight</td>\n",
       "      <td>na</td>\n",
       "      <td>na</td>\n",
       "      <td>na</td>\n",
       "      <td>na</td>\n",
       "      <td>NaN</td>\n",
       "      <td>NaN</td>\n",
       "      <td>Not a Pedestrian</td>\n",
       "      <td>Overtaking</td>\n",
       "      <td>Slight Injury</td>\n",
       "    </tr>\n",
       "  </tbody>\n",
       "</table>\n",
       "<p>5 rows × 33 columns</p>\n",
       "</div>"
      ],
      "text/plain": [
       "   Num      Time Day_of_week Age_band_of_driver Sex_of_driver  \\\n",
       "0    1  17:02:00      Monday              18-30          Male   \n",
       "1    2  17:02:00      Monday              31-50          Male   \n",
       "2    3  17:02:00      Monday              18-30          Male   \n",
       "3    4   1:06:00      Sunday              18-30          Male   \n",
       "4    5   1:06:00      Sunday              18-30          Male   \n",
       "\n",
       "    Educational_level Vehicle_driver_relation Driving_experience  \\\n",
       "0   Above high school                Employee              1-2yr   \n",
       "1  Junior high school                Employee         Above 10yr   \n",
       "2  Junior high school                Employee              1-2yr   \n",
       "3  Junior high school                Employee             5-10yr   \n",
       "4  Junior high school                Employee              2-5yr   \n",
       "\n",
       "       Type_of_vehicle Owner_of_vehicle  ... Vehicle_movement  \\\n",
       "0           Automobile            Owner  ...   Going straight   \n",
       "1  Public (> 45 seats)            Owner  ...   Going straight   \n",
       "2      Lorry (41?100Q)            Owner  ...   Going straight   \n",
       "3  Public (> 45 seats)     Governmental  ...   Going straight   \n",
       "4                  NaN            Owner  ...   Going straight   \n",
       "\n",
       "    Casualty_class Sex_of_casualty Age_band_of_casualty Casualty_severity  \\\n",
       "0               na              na                   na                na   \n",
       "1               na              na                   na                na   \n",
       "2  Driver or rider            Male                31-50                 3   \n",
       "3       Pedestrian          Female                18-30                 3   \n",
       "4               na              na                   na                na   \n",
       "\n",
       "  Work_of_casuality Fitness_of_casuality Pedestrian_movement  \\\n",
       "0               NaN                  NaN    Not a Pedestrian   \n",
       "1               NaN                  NaN    Not a Pedestrian   \n",
       "2            Driver                  NaN    Not a Pedestrian   \n",
       "3            Driver               Normal    Not a Pedestrian   \n",
       "4               NaN                  NaN    Not a Pedestrian   \n",
       "\n",
       "            Cause_of_accident Accident_severity  \n",
       "0             Moving Backward     Slight Injury  \n",
       "1                  Overtaking     Slight Injury  \n",
       "2   Changing lane to the left    Serious Injury  \n",
       "3  Changing lane to the right     Slight Injury  \n",
       "4                  Overtaking     Slight Injury  \n",
       "\n",
       "[5 rows x 33 columns]"
      ]
     },
     "execution_count": 48,
     "metadata": {},
     "output_type": "execute_result"
    }
   ],
   "source": [
    "# Import training dataset\n",
    "dataset = Path('../dataset')\n",
    "df = pd.read_csv(dataset/\"accidents_train.csv\")\n",
    "df.head()"
   ]
  },
  {
   "cell_type": "code",
   "execution_count": 49,
   "metadata": {},
   "outputs": [
    {
     "data": {
      "text/plain": [
       "Index(['Num', 'Time', 'Day_of_week', 'Age_band_of_driver', 'Sex_of_driver',\n",
       "       'Educational_level', 'Vehicle_driver_relation', 'Driving_experience',\n",
       "       'Type_of_vehicle', 'Owner_of_vehicle', 'Service_year_of_vehicle',\n",
       "       'Defect_of_vehicle', 'Area_accident_occured', 'Lanes_or_Medians',\n",
       "       'Road_allignment', 'Types_of_Junction', 'Road_surface_type',\n",
       "       'Road_surface_conditions', 'Light_conditions', 'Weather_conditions',\n",
       "       'Type_of_collision', 'Number_of_vehicles_involved',\n",
       "       'Number_of_casualties', 'Vehicle_movement', 'Casualty_class',\n",
       "       'Sex_of_casualty', 'Age_band_of_casualty', 'Casualty_severity',\n",
       "       'Work_of_casuality', 'Fitness_of_casuality', 'Pedestrian_movement',\n",
       "       'Cause_of_accident', 'Accident_severity'],\n",
       "      dtype='object')"
      ]
     },
     "execution_count": 49,
     "metadata": {},
     "output_type": "execute_result"
    }
   ],
   "source": [
    "df.columns"
   ]
  },
  {
   "cell_type": "code",
   "execution_count": 50,
   "metadata": {},
   "outputs": [
    {
     "data": {
      "text/plain": [
       "(8210, 33)"
      ]
     },
     "execution_count": 50,
     "metadata": {},
     "output_type": "execute_result"
    }
   ],
   "source": [
    "df.shape"
   ]
  },
  {
   "cell_type": "markdown",
   "metadata": {},
   "source": [
    "Original dataset has 8210 rows  and 33 features. \n",
    "The target feature is \"Accident_severity\". "
   ]
  },
  {
   "cell_type": "code",
   "execution_count": 51,
   "metadata": {},
   "outputs": [
    {
     "name": "stdout",
     "output_type": "stream",
     "text": [
      "12 ['Number_of_vehicles_involved', 'Number_of_casualties', 'Vehicle_movement', 'Casualty_class', 'Sex_of_casualty', 'Age_band_of_casualty', 'Casualty_severity', 'Work_of_casuality', 'Fitness_of_casuality', 'Pedestrian_movement', 'Cause_of_accident', 'Accident_severity']\n"
     ]
    }
   ],
   "source": [
    "target = 'Accident_severity'\n",
    "my_list = df.columns.tolist()\n",
    "set3 = my_list[21:33]\n",
    "print(len(set3), set3)"
   ]
  },
  {
   "cell_type": "markdown",
   "metadata": {},
   "source": [
    "## Dataset split into 3 sets of features for EDA by team"
   ]
  },
  {
   "cell_type": "code",
   "execution_count": 52,
   "metadata": {},
   "outputs": [
    {
     "data": {
      "text/html": [
       "<div>\n",
       "<style scoped>\n",
       "    .dataframe tbody tr th:only-of-type {\n",
       "        vertical-align: middle;\n",
       "    }\n",
       "\n",
       "    .dataframe tbody tr th {\n",
       "        vertical-align: top;\n",
       "    }\n",
       "\n",
       "    .dataframe thead th {\n",
       "        text-align: right;\n",
       "    }\n",
       "</style>\n",
       "<table border=\"1\" class=\"dataframe\">\n",
       "  <thead>\n",
       "    <tr style=\"text-align: right;\">\n",
       "      <th></th>\n",
       "      <th>Number_of_vehicles_involved</th>\n",
       "      <th>Number_of_casualties</th>\n",
       "      <th>Vehicle_movement</th>\n",
       "      <th>Casualty_class</th>\n",
       "      <th>Sex_of_casualty</th>\n",
       "      <th>Age_band_of_casualty</th>\n",
       "      <th>Casualty_severity</th>\n",
       "      <th>Work_of_casuality</th>\n",
       "      <th>Fitness_of_casuality</th>\n",
       "      <th>Pedestrian_movement</th>\n",
       "      <th>Cause_of_accident</th>\n",
       "      <th>Accident_severity</th>\n",
       "    </tr>\n",
       "  </thead>\n",
       "  <tbody>\n",
       "    <tr>\n",
       "      <th>0</th>\n",
       "      <td>2</td>\n",
       "      <td>2</td>\n",
       "      <td>Going straight</td>\n",
       "      <td>na</td>\n",
       "      <td>na</td>\n",
       "      <td>na</td>\n",
       "      <td>na</td>\n",
       "      <td>NaN</td>\n",
       "      <td>NaN</td>\n",
       "      <td>Not a Pedestrian</td>\n",
       "      <td>Moving Backward</td>\n",
       "      <td>Slight Injury</td>\n",
       "    </tr>\n",
       "    <tr>\n",
       "      <th>1</th>\n",
       "      <td>2</td>\n",
       "      <td>2</td>\n",
       "      <td>Going straight</td>\n",
       "      <td>na</td>\n",
       "      <td>na</td>\n",
       "      <td>na</td>\n",
       "      <td>na</td>\n",
       "      <td>NaN</td>\n",
       "      <td>NaN</td>\n",
       "      <td>Not a Pedestrian</td>\n",
       "      <td>Overtaking</td>\n",
       "      <td>Slight Injury</td>\n",
       "    </tr>\n",
       "    <tr>\n",
       "      <th>2</th>\n",
       "      <td>2</td>\n",
       "      <td>2</td>\n",
       "      <td>Going straight</td>\n",
       "      <td>Driver or rider</td>\n",
       "      <td>Male</td>\n",
       "      <td>31-50</td>\n",
       "      <td>3</td>\n",
       "      <td>Driver</td>\n",
       "      <td>NaN</td>\n",
       "      <td>Not a Pedestrian</td>\n",
       "      <td>Changing lane to the left</td>\n",
       "      <td>Serious Injury</td>\n",
       "    </tr>\n",
       "    <tr>\n",
       "      <th>3</th>\n",
       "      <td>2</td>\n",
       "      <td>2</td>\n",
       "      <td>Going straight</td>\n",
       "      <td>Pedestrian</td>\n",
       "      <td>Female</td>\n",
       "      <td>18-30</td>\n",
       "      <td>3</td>\n",
       "      <td>Driver</td>\n",
       "      <td>Normal</td>\n",
       "      <td>Not a Pedestrian</td>\n",
       "      <td>Changing lane to the right</td>\n",
       "      <td>Slight Injury</td>\n",
       "    </tr>\n",
       "    <tr>\n",
       "      <th>4</th>\n",
       "      <td>2</td>\n",
       "      <td>2</td>\n",
       "      <td>Going straight</td>\n",
       "      <td>na</td>\n",
       "      <td>na</td>\n",
       "      <td>na</td>\n",
       "      <td>na</td>\n",
       "      <td>NaN</td>\n",
       "      <td>NaN</td>\n",
       "      <td>Not a Pedestrian</td>\n",
       "      <td>Overtaking</td>\n",
       "      <td>Slight Injury</td>\n",
       "    </tr>\n",
       "  </tbody>\n",
       "</table>\n",
       "</div>"
      ],
      "text/plain": [
       "   Number_of_vehicles_involved  Number_of_casualties Vehicle_movement  \\\n",
       "0                            2                     2   Going straight   \n",
       "1                            2                     2   Going straight   \n",
       "2                            2                     2   Going straight   \n",
       "3                            2                     2   Going straight   \n",
       "4                            2                     2   Going straight   \n",
       "\n",
       "    Casualty_class Sex_of_casualty Age_band_of_casualty Casualty_severity  \\\n",
       "0               na              na                   na                na   \n",
       "1               na              na                   na                na   \n",
       "2  Driver or rider            Male                31-50                 3   \n",
       "3       Pedestrian          Female                18-30                 3   \n",
       "4               na              na                   na                na   \n",
       "\n",
       "  Work_of_casuality Fitness_of_casuality Pedestrian_movement  \\\n",
       "0               NaN                  NaN    Not a Pedestrian   \n",
       "1               NaN                  NaN    Not a Pedestrian   \n",
       "2            Driver                  NaN    Not a Pedestrian   \n",
       "3            Driver               Normal    Not a Pedestrian   \n",
       "4               NaN                  NaN    Not a Pedestrian   \n",
       "\n",
       "            Cause_of_accident Accident_severity  \n",
       "0             Moving Backward     Slight Injury  \n",
       "1                  Overtaking     Slight Injury  \n",
       "2   Changing lane to the left    Serious Injury  \n",
       "3  Changing lane to the right     Slight Injury  \n",
       "4                  Overtaking     Slight Injury  "
      ]
     },
     "execution_count": 52,
     "metadata": {},
     "output_type": "execute_result"
    }
   ],
   "source": [
    "features = my_list[21:33]\n",
    "df1 = df[features]\n",
    "\n",
    "df1.head()"
   ]
  },
  {
   "cell_type": "code",
   "execution_count": 53,
   "metadata": {},
   "outputs": [],
   "source": [
    "# Import custom functions\n",
    "%run ../custom/jc-functions.ipynb"
   ]
  },
  {
   "cell_type": "markdown",
   "metadata": {},
   "source": [
    "## Data Understanding"
   ]
  },
  {
   "cell_type": "code",
   "execution_count": 54,
   "metadata": {},
   "outputs": [],
   "source": [
    "# Set continuous and categorical features \n",
    "cont_feat = ['Number_of_vehicles_involved', 'Number_of_casualties']\n",
    "cat_feat = ['Vehicle_movement', 'Casualty_class', 'Sex_of_casualty', 'Age_band_of_casualty', 'Casualty_severity', 'Work_of_casuality', 'Fitness_of_casuality', 'Pedestrian_movement', 'Cause_of_accident', 'Accident_severity']"
   ]
  },
  {
   "cell_type": "markdown",
   "metadata": {},
   "source": [
    "#### Unique values for continuous features:"
   ]
  },
  {
   "cell_type": "code",
   "execution_count": 55,
   "metadata": {},
   "outputs": [
    {
     "name": "stdout",
     "output_type": "stream",
     "text": [
      "Number_of_vehicles_involved: There are 6 unique items in this list. \n",
      " [2 1 3 6 4 7]\n",
      "Number_of_casualties: There are 8 unique items in this list. \n",
      " [2 1 3 4 6 5 8 7]\n"
     ]
    }
   ],
   "source": [
    "for feat in cont_feat:\n",
    "    list = df1[feat].unique()\n",
    "    print(f\"{feat}: There are {len(list)} unique items in this list. \\n {list}\")"
   ]
  },
  {
   "cell_type": "markdown",
   "metadata": {},
   "source": [
    "#### Unique values for categorical features: "
   ]
  },
  {
   "cell_type": "code",
   "execution_count": 56,
   "metadata": {},
   "outputs": [
    {
     "name": "stdout",
     "output_type": "stream",
     "text": [
      "Vehicle_movement: There are 14 unique items in this list. \n",
      " ['Going straight' 'U-Turn' 'Moving Backward' 'Turnover' 'Waiting to go'\n",
      " 'Getting off' 'Reversing' 'Unknown' 'Parked' 'Stopping' 'Overtaking'\n",
      " 'Other' 'Entering a junction' nan]\n",
      "Casualty_class: There are 4 unique items in this list. \n",
      " ['na' 'Driver or rider' 'Pedestrian' 'Passenger']\n",
      "Sex_of_casualty: There are 3 unique items in this list. \n",
      " ['na' 'Male' 'Female']\n",
      "Age_band_of_casualty: There are 6 unique items in this list. \n",
      " ['na' '31-50' '18-30' 'Under 18' 'Over 51' '5']\n",
      "Casualty_severity: There are 4 unique items in this list. \n",
      " ['na' '3' '2' '1']\n",
      "Work_of_casuality: There are 8 unique items in this list. \n",
      " [nan 'Driver' 'Other' 'Unemployed' 'Employee' 'Self-employed' 'Student'\n",
      " 'Unknown']\n",
      "Fitness_of_casuality: There are 6 unique items in this list. \n",
      " [nan 'Normal' 'Deaf' 'Other' 'Blind' 'NormalNormal']\n",
      "Pedestrian_movement: There are 9 unique items in this list. \n",
      " ['Not a Pedestrian' \"Crossing from driver's nearside\"\n",
      " 'Crossing from nearside - masked by parked or statioNot a Pedestrianry vehicle'\n",
      " 'Unknown or other'\n",
      " 'Crossing from offside - masked by  parked or statioNot a Pedestrianry vehicle'\n",
      " 'In carriageway, statioNot a Pedestrianry - not crossing  (standing or playing)'\n",
      " 'Walking along in carriageway, back to traffic'\n",
      " 'Walking along in carriageway, facing traffic'\n",
      " 'In carriageway, statioNot a Pedestrianry - not crossing  (standing or playing) - masked by parked or statioNot a Pedestrianry vehicle']\n",
      "Cause_of_accident: There are 20 unique items in this list. \n",
      " ['Moving Backward' 'Overtaking' 'Changing lane to the left'\n",
      " 'Changing lane to the right' 'Overloading' 'Other'\n",
      " 'No priority to vehicle' 'No priority to pedestrian' 'No distancing'\n",
      " 'Getting off the vehicle improperly' 'Improper parking' 'Overspeed'\n",
      " 'Driving carelessly' 'Driving at high speed' 'Driving to the left'\n",
      " 'Unknown' 'Overturning' 'Turnover' 'Driving under the influence of drugs'\n",
      " 'Drunk driving']\n",
      "Accident_severity: There are 3 unique items in this list. \n",
      " ['Slight Injury' 'Serious Injury' 'Fatal injury']\n"
     ]
    }
   ],
   "source": [
    "for feat in cat_feat:\n",
    "    list = df1[feat].unique()\n",
    "    print(f\"{feat}: There are {len(list)} unique items in this list. \\n {list}\")"
   ]
  },
  {
   "cell_type": "code",
   "execution_count": 57,
   "metadata": {},
   "outputs": [
    {
     "name": "stderr",
     "output_type": "stream",
     "text": [
      "C:\\Users\\Jun C\\AppData\\Local\\Temp\\ipykernel_24432\\3649334962.py:8: SettingWithCopyWarning: \n",
      "A value is trying to be set on a copy of a slice from a DataFrame.\n",
      "Try using .loc[row_indexer,col_indexer] = value instead\n",
      "\n",
      "See the caveats in the documentation: https://pandas.pydata.org/pandas-docs/stable/user_guide/indexing.html#returning-a-view-versus-a-copy\n",
      "  df1['Accident_severity_enc'] = df1['Accident_severity'].map(severity_mapping)\n"
     ]
    },
    {
     "data": {
      "text/html": [
       "<div>\n",
       "<style scoped>\n",
       "    .dataframe tbody tr th:only-of-type {\n",
       "        vertical-align: middle;\n",
       "    }\n",
       "\n",
       "    .dataframe tbody tr th {\n",
       "        vertical-align: top;\n",
       "    }\n",
       "\n",
       "    .dataframe thead th {\n",
       "        text-align: right;\n",
       "    }\n",
       "</style>\n",
       "<table border=\"1\" class=\"dataframe\">\n",
       "  <thead>\n",
       "    <tr style=\"text-align: right;\">\n",
       "      <th></th>\n",
       "      <th>Number_of_vehicles_involved</th>\n",
       "      <th>Number_of_casualties</th>\n",
       "      <th>Vehicle_movement</th>\n",
       "      <th>Casualty_class</th>\n",
       "      <th>Sex_of_casualty</th>\n",
       "      <th>Age_band_of_casualty</th>\n",
       "      <th>Casualty_severity</th>\n",
       "      <th>Work_of_casuality</th>\n",
       "      <th>Fitness_of_casuality</th>\n",
       "      <th>Pedestrian_movement</th>\n",
       "      <th>Cause_of_accident</th>\n",
       "      <th>Accident_severity</th>\n",
       "      <th>Accident_severity_enc</th>\n",
       "    </tr>\n",
       "  </thead>\n",
       "  <tbody>\n",
       "    <tr>\n",
       "      <th>0</th>\n",
       "      <td>2</td>\n",
       "      <td>2</td>\n",
       "      <td>Going straight</td>\n",
       "      <td>na</td>\n",
       "      <td>na</td>\n",
       "      <td>na</td>\n",
       "      <td>na</td>\n",
       "      <td>NaN</td>\n",
       "      <td>NaN</td>\n",
       "      <td>Not a Pedestrian</td>\n",
       "      <td>Moving Backward</td>\n",
       "      <td>Slight Injury</td>\n",
       "      <td>0</td>\n",
       "    </tr>\n",
       "    <tr>\n",
       "      <th>1</th>\n",
       "      <td>2</td>\n",
       "      <td>2</td>\n",
       "      <td>Going straight</td>\n",
       "      <td>na</td>\n",
       "      <td>na</td>\n",
       "      <td>na</td>\n",
       "      <td>na</td>\n",
       "      <td>NaN</td>\n",
       "      <td>NaN</td>\n",
       "      <td>Not a Pedestrian</td>\n",
       "      <td>Overtaking</td>\n",
       "      <td>Slight Injury</td>\n",
       "      <td>0</td>\n",
       "    </tr>\n",
       "    <tr>\n",
       "      <th>2</th>\n",
       "      <td>2</td>\n",
       "      <td>2</td>\n",
       "      <td>Going straight</td>\n",
       "      <td>Driver or rider</td>\n",
       "      <td>Male</td>\n",
       "      <td>31-50</td>\n",
       "      <td>3</td>\n",
       "      <td>Driver</td>\n",
       "      <td>NaN</td>\n",
       "      <td>Not a Pedestrian</td>\n",
       "      <td>Changing lane to the left</td>\n",
       "      <td>Serious Injury</td>\n",
       "      <td>1</td>\n",
       "    </tr>\n",
       "    <tr>\n",
       "      <th>3</th>\n",
       "      <td>2</td>\n",
       "      <td>2</td>\n",
       "      <td>Going straight</td>\n",
       "      <td>Pedestrian</td>\n",
       "      <td>Female</td>\n",
       "      <td>18-30</td>\n",
       "      <td>3</td>\n",
       "      <td>Driver</td>\n",
       "      <td>Normal</td>\n",
       "      <td>Not a Pedestrian</td>\n",
       "      <td>Changing lane to the right</td>\n",
       "      <td>Slight Injury</td>\n",
       "      <td>0</td>\n",
       "    </tr>\n",
       "    <tr>\n",
       "      <th>4</th>\n",
       "      <td>2</td>\n",
       "      <td>2</td>\n",
       "      <td>Going straight</td>\n",
       "      <td>na</td>\n",
       "      <td>na</td>\n",
       "      <td>na</td>\n",
       "      <td>na</td>\n",
       "      <td>NaN</td>\n",
       "      <td>NaN</td>\n",
       "      <td>Not a Pedestrian</td>\n",
       "      <td>Overtaking</td>\n",
       "      <td>Slight Injury</td>\n",
       "      <td>0</td>\n",
       "    </tr>\n",
       "  </tbody>\n",
       "</table>\n",
       "</div>"
      ],
      "text/plain": [
       "   Number_of_vehicles_involved  Number_of_casualties Vehicle_movement  \\\n",
       "0                            2                     2   Going straight   \n",
       "1                            2                     2   Going straight   \n",
       "2                            2                     2   Going straight   \n",
       "3                            2                     2   Going straight   \n",
       "4                            2                     2   Going straight   \n",
       "\n",
       "    Casualty_class Sex_of_casualty Age_band_of_casualty Casualty_severity  \\\n",
       "0               na              na                   na                na   \n",
       "1               na              na                   na                na   \n",
       "2  Driver or rider            Male                31-50                 3   \n",
       "3       Pedestrian          Female                18-30                 3   \n",
       "4               na              na                   na                na   \n",
       "\n",
       "  Work_of_casuality Fitness_of_casuality Pedestrian_movement  \\\n",
       "0               NaN                  NaN    Not a Pedestrian   \n",
       "1               NaN                  NaN    Not a Pedestrian   \n",
       "2            Driver                  NaN    Not a Pedestrian   \n",
       "3            Driver               Normal    Not a Pedestrian   \n",
       "4               NaN                  NaN    Not a Pedestrian   \n",
       "\n",
       "            Cause_of_accident Accident_severity  Accident_severity_enc  \n",
       "0             Moving Backward     Slight Injury                      0  \n",
       "1                  Overtaking     Slight Injury                      0  \n",
       "2   Changing lane to the left    Serious Injury                      1  \n",
       "3  Changing lane to the right     Slight Injury                      0  \n",
       "4                  Overtaking     Slight Injury                      0  "
      ]
     },
     "execution_count": 57,
     "metadata": {},
     "output_type": "execute_result"
    }
   ],
   "source": [
    "# Create column for Accident_severity_enc\n",
    "severity_mapping = {\n",
    "    'Slight Injury': 0, \n",
    "    'Serious Injury': 1, \n",
    "    'Fatal injury': 2\n",
    "}\n",
    "\n",
    "df1['Accident_severity_enc'] = df1['Accident_severity'].map(severity_mapping)\n",
    "\n",
    "df1.head()"
   ]
  },
  {
   "cell_type": "markdown",
   "metadata": {},
   "source": [
    "## Data Quality Report"
   ]
  },
  {
   "cell_type": "markdown",
   "metadata": {},
   "source": [
    "### Continuous Features"
   ]
  },
  {
   "cell_type": "code",
   "execution_count": 58,
   "metadata": {},
   "outputs": [
    {
     "name": "stdout",
     "output_type": "stream",
     "text": [
      "Data Quality for Continous Features\n",
      "Total Features: 2\n",
      "                       Feature  Count  Missing  % missing  Cardinality\n",
      "0  Number_of_vehicles_involved   8210        0        0.0            6\n",
      "1         Number_of_casualties   8210        0        0.0            8\n",
      "\n",
      "\n",
      "Descriptive Stats\n",
      "                              count  mean   std  min  25%  50%  75%  max\n",
      "Number_of_vehicles_involved  8210.0  2.01  0.64  1.0  2.0  2.0  2.0  7.0\n",
      "Number_of_casualties         8210.0  1.51  0.97  1.0  1.0  1.0  2.0  8.0\n"
     ]
    }
   ],
   "source": [
    "data_quality_report_cont(df1, cont_feat)"
   ]
  },
  {
   "cell_type": "markdown",
   "metadata": {},
   "source": [
    "There are no missing values in the continuous variables. \n",
    "Therefore, no imputation or data cleaning required."
   ]
  },
  {
   "cell_type": "markdown",
   "metadata": {},
   "source": [
    "### Categorical Features"
   ]
  },
  {
   "cell_type": "code",
   "execution_count": 59,
   "metadata": {},
   "outputs": [
    {
     "name": "stdout",
     "output_type": "stream",
     "text": [
      "Data Quality Report for Categorical Features\n",
      "============================================\n",
      "Stats\n",
      "-----\n",
      "                Feature  Count  Missing  % Missing  Cardinality\n",
      "0      Vehicle_movement   8026      184       2.29           14\n",
      "1        Casualty_class   8210        0       0.00            4\n",
      "2       Sex_of_casualty   8210        0       0.00            3\n",
      "3  Age_band_of_casualty   8210        0       0.00            6\n",
      "4     Casualty_severity   8210        0       0.00            4\n",
      "5     Work_of_casuality   6062     2148      35.43            8\n",
      "6  Fitness_of_casuality   6440     1770      27.48            6\n",
      "7   Pedestrian_movement   8210        0       0.00            9\n",
      "8     Cause_of_accident   8210        0       0.00           20\n",
      "9     Accident_severity   8210        0       0.00            3\n",
      "\n",
      "\n",
      "Mode 1\n",
      "------\n",
      "                Feature            Mode 1  Mode 1 Freq.  Mode 1 %\n",
      "0      Vehicle_movement    Going straight          5481     68.29\n",
      "1        Casualty_class   Driver or rider          3201     38.99\n",
      "2       Sex_of_casualty              Male          3491     42.52\n",
      "3  Age_band_of_casualty                na          2907     35.41\n",
      "4     Casualty_severity                 3          4715     57.43\n",
      "5     Work_of_casuality            Driver          3923     64.71\n",
      "6  Fitness_of_casuality            Normal          6391     99.24\n",
      "7   Pedestrian_movement  Not a Pedestrian          7571     92.22\n",
      "8     Cause_of_accident     No distancing          1520     18.51\n",
      "9     Accident_severity     Slight Injury          7082     86.26\n",
      "\n",
      "\n",
      "Mode 2\n",
      "------\n",
      "                Feature                      Mode 2  Mode 2 Freq.  Mode 2 %\n",
      "0      Vehicle_movement             Moving Backward           642      8.00\n",
      "1        Casualty_class                          na          2907     35.41\n",
      "2       Sex_of_casualty                          na          2907     35.41\n",
      "3  Age_band_of_casualty                       18-30          2013     24.52\n",
      "4     Casualty_severity                          na          2907     35.41\n",
      "5     Work_of_casuality               Self-employed          1343     22.15\n",
      "6  Fitness_of_casuality                NormalNormal            13      0.20\n",
      "7   Pedestrian_movement            Unknown or other           231      2.81\n",
      "8     Cause_of_accident  Changing lane to the right          1233     15.02\n",
      "9     Accident_severity              Serious Injury          1046     12.74\n",
      "\n",
      "\n",
      "Descriptive Stats\n",
      "-----------------\n",
      "                     count unique               top  freq\n",
      "Vehicle_movement      8026     13    Going straight  5481\n",
      "Casualty_class        8210      4   Driver or rider  3201\n",
      "Sex_of_casualty       8210      3              Male  3491\n",
      "Age_band_of_casualty  8210      6                na  2907\n",
      "Casualty_severity     8210      4                 3  4715\n",
      "Work_of_casuality     6062      7            Driver  3923\n",
      "Fitness_of_casuality  6440      5            Normal  6391\n",
      "Pedestrian_movement   8210      9  Not a Pedestrian  7571\n",
      "Cause_of_accident     8210     20     No distancing  1520\n",
      "Accident_severity     8210      3     Slight Injury  7082\n"
     ]
    }
   ],
   "source": [
    "data_quality_report_cat(df1, cat_feat)"
   ]
  },
  {
   "cell_type": "markdown",
   "metadata": {},
   "source": [
    "Three features have missing values. Less than 60% of the values are missing therefore missing values will be imputed using the mode.  "
   ]
  },
  {
   "cell_type": "code",
   "execution_count": 60,
   "metadata": {},
   "outputs": [
    {
     "name": "stdout",
     "output_type": "stream",
     "text": [
      "<class 'pandas.core.frame.DataFrame'>\n",
      "RangeIndex: 8210 entries, 0 to 8209\n",
      "Data columns (total 13 columns):\n",
      " #   Column                       Non-Null Count  Dtype \n",
      "---  ------                       --------------  ----- \n",
      " 0   Number_of_vehicles_involved  8210 non-null   int64 \n",
      " 1   Number_of_casualties         8210 non-null   int64 \n",
      " 2   Vehicle_movement             8026 non-null   object\n",
      " 3   Casualty_class               8210 non-null   object\n",
      " 4   Sex_of_casualty              8210 non-null   object\n",
      " 5   Age_band_of_casualty         8210 non-null   object\n",
      " 6   Casualty_severity            8210 non-null   object\n",
      " 7   Work_of_casuality            6062 non-null   object\n",
      " 8   Fitness_of_casuality         6440 non-null   object\n",
      " 9   Pedestrian_movement          8210 non-null   object\n",
      " 10  Cause_of_accident            8210 non-null   object\n",
      " 11  Accident_severity            8210 non-null   object\n",
      " 12  Accident_severity_enc        8210 non-null   int64 \n",
      "dtypes: int64(3), object(10)\n",
      "memory usage: 5.3 MB\n"
     ]
    }
   ],
   "source": [
    "df1.info(memory_usage='deep')"
   ]
  },
  {
   "cell_type": "code",
   "execution_count": 61,
   "metadata": {},
   "outputs": [
    {
     "name": "stdout",
     "output_type": "stream",
     "text": [
      "Going straight\n"
     ]
    }
   ],
   "source": [
    "most_frequent = df['Vehicle_movement'].mode()[0]\n",
    "print(most_frequent)"
   ]
  },
  {
   "cell_type": "code",
   "execution_count": 62,
   "metadata": {},
   "outputs": [
    {
     "name": "stderr",
     "output_type": "stream",
     "text": [
      "C:\\Users\\Jun C\\AppData\\Local\\Temp\\ipykernel_24432\\416963250.py:5: SettingWithCopyWarning: \n",
      "A value is trying to be set on a copy of a slice from a DataFrame.\n",
      "Try using .loc[row_indexer,col_indexer] = value instead\n",
      "\n",
      "See the caveats in the documentation: https://pandas.pydata.org/pandas-docs/stable/user_guide/indexing.html#returning-a-view-versus-a-copy\n",
      "  df1[col] = df1[col].replace(np.nan, most_frequent)\n"
     ]
    }
   ],
   "source": [
    "col_impute = ['Vehicle_movement', 'Work_of_casuality', 'Fitness_of_casuality']\n",
    "\n",
    "for col in col_impute:\n",
    "    most_frequent = df1[col].mode()[0]\n",
    "    df1[col] = df1[col].replace(np.nan, most_frequent)\n"
   ]
  },
  {
   "cell_type": "code",
   "execution_count": 63,
   "metadata": {},
   "outputs": [
    {
     "name": "stdout",
     "output_type": "stream",
     "text": [
      "Data Quality Report for Categorical Features\n",
      "============================================\n",
      "Stats\n",
      "-----\n",
      "                Feature  Count  Missing  % Missing  Cardinality\n",
      "0      Vehicle_movement   8210        0        0.0           13\n",
      "1        Casualty_class   8210        0        0.0            4\n",
      "2       Sex_of_casualty   8210        0        0.0            3\n",
      "3  Age_band_of_casualty   8210        0        0.0            6\n",
      "4     Casualty_severity   8210        0        0.0            4\n",
      "5     Work_of_casuality   8210        0        0.0            7\n",
      "6  Fitness_of_casuality   8210        0        0.0            5\n",
      "7   Pedestrian_movement   8210        0        0.0            9\n",
      "8     Cause_of_accident   8210        0        0.0           20\n",
      "9     Accident_severity   8210        0        0.0            3\n",
      "\n",
      "\n",
      "Mode 1\n",
      "------\n",
      "                Feature            Mode 1  Mode 1 Freq.  Mode 1 %\n",
      "0      Vehicle_movement    Going straight          5665     69.00\n",
      "1        Casualty_class   Driver or rider          3201     38.99\n",
      "2       Sex_of_casualty              Male          3491     42.52\n",
      "3  Age_band_of_casualty                na          2907     35.41\n",
      "4     Casualty_severity                 3          4715     57.43\n",
      "5     Work_of_casuality            Driver          6071     73.95\n",
      "6  Fitness_of_casuality            Normal          8161     99.40\n",
      "7   Pedestrian_movement  Not a Pedestrian          7571     92.22\n",
      "8     Cause_of_accident     No distancing          1520     18.51\n",
      "9     Accident_severity     Slight Injury          7082     86.26\n",
      "\n",
      "\n",
      "Mode 2\n",
      "------\n",
      "                Feature                      Mode 2  Mode 2 Freq.  Mode 2 %\n",
      "0      Vehicle_movement             Moving Backward           642      7.82\n",
      "1        Casualty_class                          na          2907     35.41\n",
      "2       Sex_of_casualty                          na          2907     35.41\n",
      "3  Age_band_of_casualty                       18-30          2013     24.52\n",
      "4     Casualty_severity                          na          2907     35.41\n",
      "5     Work_of_casuality               Self-employed          1343     16.36\n",
      "6  Fitness_of_casuality                NormalNormal            13      0.16\n",
      "7   Pedestrian_movement            Unknown or other           231      2.81\n",
      "8     Cause_of_accident  Changing lane to the right          1233     15.02\n",
      "9     Accident_severity              Serious Injury          1046     12.74\n",
      "\n",
      "\n",
      "Descriptive Stats\n",
      "-----------------\n",
      "                     count unique               top  freq\n",
      "Vehicle_movement      8210     13    Going straight  5665\n",
      "Casualty_class        8210      4   Driver or rider  3201\n",
      "Sex_of_casualty       8210      3              Male  3491\n",
      "Age_band_of_casualty  8210      6                na  2907\n",
      "Casualty_severity     8210      4                 3  4715\n",
      "Work_of_casuality     8210      7            Driver  6071\n",
      "Fitness_of_casuality  8210      5            Normal  8161\n",
      "Pedestrian_movement   8210      9  Not a Pedestrian  7571\n",
      "Cause_of_accident     8210     20     No distancing  1520\n",
      "Accident_severity     8210      3     Slight Injury  7082\n"
     ]
    }
   ],
   "source": [
    "# Check imputation\n",
    "data_quality_report_cat(df1, cat_feat)"
   ]
  },
  {
   "cell_type": "markdown",
   "metadata": {},
   "source": [
    "### Analysis of Data"
   ]
  },
  {
   "cell_type": "markdown",
   "metadata": {},
   "source": [
    "#### Continuous features"
   ]
  },
  {
   "cell_type": "code",
   "execution_count": 64,
   "metadata": {},
   "outputs": [
    {
     "name": "stdout",
     "output_type": "stream",
     "text": [
      "                             Number_of_vehicles_involved  \\\n",
      "Number_of_vehicles_involved                     1.000000   \n",
      "Number_of_casualties                            0.203409   \n",
      "Accident_severity_enc                          -0.081317   \n",
      "\n",
      "                             Number_of_casualties  Accident_severity_enc  \n",
      "Number_of_vehicles_involved              0.203409              -0.081317  \n",
      "Number_of_casualties                     1.000000               0.041555  \n",
      "Accident_severity_enc                    0.041555               1.000000  \n"
     ]
    }
   ],
   "source": [
    "# df1.columns\n",
    "cont1 = cont_feat\n",
    "cont1.append('Accident_severity_enc')\n",
    "cont1\n",
    "cont_var = df1[cont1]\n",
    "correlation_matrix = cont_var.corr()\n",
    "print(correlation_matrix)"
   ]
  },
  {
   "cell_type": "code",
   "execution_count": 65,
   "metadata": {},
   "outputs": [
    {
     "data": {
      "image/png": "[encoded data removed]",
      "text/plain": [
       "<Figure size 1000x800 with 2 Axes>"
      ]
     },
     "metadata": {},
     "output_type": "display_data"
    }
   ],
   "source": [
    "plt.figure(figsize = (10, 8))\n",
    "sns.heatmap(correlation_matrix, annot=True, cmap='coolwarm', linewidths=.5)\n",
    "\n",
    "plt.show()"
   ]
  },
  {
   "cell_type": "code",
   "execution_count": 66,
   "metadata": {},
   "outputs": [
    {
     "data": {
      "image/png": "[encoded data removed]",
      "text/plain": [
       "<Figure size 750x750 with 12 Axes>"
      ]
     },
     "metadata": {},
     "output_type": "display_data"
    }
   ],
   "source": [
    "sns.pairplot(cont_var)\n",
    "plt.show()"
   ]
  },
  {
   "cell_type": "markdown",
   "metadata": {},
   "source": [
    "#### Categorical Features"
   ]
  },
  {
   "cell_type": "code",
   "execution_count": 74,
   "metadata": {},
   "outputs": [
    {
     "ename": "NameError",
     "evalue": "name 'categorical_columns' is not defined",
     "output_type": "error",
     "traceback": [
      "\u001b[1;31m---------------------------------------------------------------------------\u001b[0m",
      "\u001b[1;31mNameError\u001b[0m                                 Traceback (most recent call last)",
      "Cell \u001b[1;32mIn[74], line 8\u001b[0m\n\u001b[0;32m      5\u001b[0m     \u001b[38;5;28;01mreturn\u001b[39;00m {\u001b[38;5;124m'\u001b[39m\u001b[38;5;124mVariable 1\u001b[39m\u001b[38;5;124m'\u001b[39m: col1, \u001b[38;5;124m'\u001b[39m\u001b[38;5;124mVariable 2\u001b[39m\u001b[38;5;124m'\u001b[39m: col2, \u001b[38;5;124m'\u001b[39m\u001b[38;5;124mChi2\u001b[39m\u001b[38;5;124m'\u001b[39m: chi2, \u001b[38;5;124m'\u001b[39m\u001b[38;5;124mp-value\u001b[39m\u001b[38;5;124m'\u001b[39m: p}\n\u001b[0;32m      7\u001b[0m \u001b[38;5;66;03m# Perform Chi-Square test for each pair of categorical columns and store significant results\u001b[39;00m\n\u001b[1;32m----> 8\u001b[0m results \u001b[38;5;241m=\u001b[39m [chi_square_test(df1, col1, col2) \u001b[38;5;28;01mfor\u001b[39;00m col1 \u001b[38;5;129;01min\u001b[39;00m \u001b[43mcategorical_columns\u001b[49m \u001b[38;5;28;01mfor\u001b[39;00m col2 \u001b[38;5;129;01min\u001b[39;00m categorical_columns \u001b[38;5;28;01mif\u001b[39;00m col1 \u001b[38;5;241m!=\u001b[39m col2]\n\u001b[0;32m      9\u001b[0m results_df \u001b[38;5;241m=\u001b[39m pd\u001b[38;5;241m.\u001b[39mDataFrame(results)\n\u001b[0;32m     10\u001b[0m significant_results \u001b[38;5;241m=\u001b[39m results_df[results_df[\u001b[38;5;124m'\u001b[39m\u001b[38;5;124mp-value\u001b[39m\u001b[38;5;124m'\u001b[39m] \u001b[38;5;241m<\u001b[39m \u001b[38;5;241m0.05\u001b[39m]\n",
      "\u001b[1;31mNameError\u001b[0m: name 'categorical_columns' is not defined"
     ]
    }
   ],
   "source": []
  },
  {
   "cell_type": "code",
   "execution_count": null,
   "metadata": {},
   "outputs": [],
   "source": []
  }
 ],
 "metadata": {
  "kernelspec": {
   "display_name": "py310",
   "language": "python",
   "name": "python3"
  },
  "language_info": {
   "codemirror_mode": {
    "name": "ipython",
    "version": 3
   },
   "file_extension": ".py",
   "mimetype": "text/x-python",
   "name": "python",
   "nbconvert_exporter": "python",
   "pygments_lexer": "ipython3",
   "version": "3.10.12"
  }
 },
 "nbformat": 4,
 "nbformat_minor": 2
}

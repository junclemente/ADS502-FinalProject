{
 "cells": [
  {
   "cell_type": "markdown",
   "metadata": {},
   "source": [
    "# Exploratory Data Analysis"
   ]
  },
  {
   "cell_type": "code",
   "execution_count": 108,
   "metadata": {},
   "outputs": [],
   "source": [
    "import pandas as pd\n",
    "import numpy as np\n",
    "import matplotlib.pyplot as plt\n",
    "import scipy.stats as stats\n",
    "import seaborn as sns\n",
    "\n",
    "from pathlib import Path\n",
    "from scipy.stats import chi2_contingency\n",
    "from sklearn.preprocessing import LabelEncoder\n",
    "from statsmodels.graphics.mosaicplot import mosaic\n"
   ]
  },
  {
   "cell_type": "code",
   "execution_count": 81,
   "metadata": {},
   "outputs": [
    {
     "data": {
      "text/html": [
       "<div>\n",
       "<style scoped>\n",
       "    .dataframe tbody tr th:only-of-type {\n",
       "        vertical-align: middle;\n",
       "    }\n",
       "\n",
       "    .dataframe tbody tr th {\n",
       "        vertical-align: top;\n",
       "    }\n",
       "\n",
       "    .dataframe thead th {\n",
       "        text-align: right;\n",
       "    }\n",
       "</style>\n",
       "<table border=\"1\" class=\"dataframe\">\n",
       "  <thead>\n",
       "    <tr style=\"text-align: right;\">\n",
       "      <th></th>\n",
       "      <th>Num</th>\n",
       "      <th>Time</th>\n",
       "      <th>Day_of_week</th>\n",
       "      <th>Age_band_of_driver</th>\n",
       "      <th>Sex_of_driver</th>\n",
       "      <th>Educational_level</th>\n",
       "      <th>Vehicle_driver_relation</th>\n",
       "      <th>Driving_experience</th>\n",
       "      <th>Type_of_vehicle</th>\n",
       "      <th>Owner_of_vehicle</th>\n",
       "      <th>...</th>\n",
       "      <th>Vehicle_movement</th>\n",
       "      <th>Casualty_class</th>\n",
       "      <th>Sex_of_casualty</th>\n",
       "      <th>Age_band_of_casualty</th>\n",
       "      <th>Casualty_severity</th>\n",
       "      <th>Work_of_casuality</th>\n",
       "      <th>Fitness_of_casuality</th>\n",
       "      <th>Pedestrian_movement</th>\n",
       "      <th>Cause_of_accident</th>\n",
       "      <th>Accident_severity</th>\n",
       "    </tr>\n",
       "  </thead>\n",
       "  <tbody>\n",
       "    <tr>\n",
       "      <th>0</th>\n",
       "      <td>1</td>\n",
       "      <td>17:02:00</td>\n",
       "      <td>Monday</td>\n",
       "      <td>18-30</td>\n",
       "      <td>Male</td>\n",
       "      <td>Above high school</td>\n",
       "      <td>Employee</td>\n",
       "      <td>1-2yr</td>\n",
       "      <td>Automobile</td>\n",
       "      <td>Owner</td>\n",
       "      <td>...</td>\n",
       "      <td>Going straight</td>\n",
       "      <td>na</td>\n",
       "      <td>na</td>\n",
       "      <td>na</td>\n",
       "      <td>na</td>\n",
       "      <td>NaN</td>\n",
       "      <td>NaN</td>\n",
       "      <td>Not a Pedestrian</td>\n",
       "      <td>Moving Backward</td>\n",
       "      <td>Slight Injury</td>\n",
       "    </tr>\n",
       "    <tr>\n",
       "      <th>1</th>\n",
       "      <td>2</td>\n",
       "      <td>17:02:00</td>\n",
       "      <td>Monday</td>\n",
       "      <td>31-50</td>\n",
       "      <td>Male</td>\n",
       "      <td>Junior high school</td>\n",
       "      <td>Employee</td>\n",
       "      <td>Above 10yr</td>\n",
       "      <td>Public (&gt; 45 seats)</td>\n",
       "      <td>Owner</td>\n",
       "      <td>...</td>\n",
       "      <td>Going straight</td>\n",
       "      <td>na</td>\n",
       "      <td>na</td>\n",
       "      <td>na</td>\n",
       "      <td>na</td>\n",
       "      <td>NaN</td>\n",
       "      <td>NaN</td>\n",
       "      <td>Not a Pedestrian</td>\n",
       "      <td>Overtaking</td>\n",
       "      <td>Slight Injury</td>\n",
       "    </tr>\n",
       "    <tr>\n",
       "      <th>2</th>\n",
       "      <td>3</td>\n",
       "      <td>17:02:00</td>\n",
       "      <td>Monday</td>\n",
       "      <td>18-30</td>\n",
       "      <td>Male</td>\n",
       "      <td>Junior high school</td>\n",
       "      <td>Employee</td>\n",
       "      <td>1-2yr</td>\n",
       "      <td>Lorry (41?100Q)</td>\n",
       "      <td>Owner</td>\n",
       "      <td>...</td>\n",
       "      <td>Going straight</td>\n",
       "      <td>Driver or rider</td>\n",
       "      <td>Male</td>\n",
       "      <td>31-50</td>\n",
       "      <td>3</td>\n",
       "      <td>Driver</td>\n",
       "      <td>NaN</td>\n",
       "      <td>Not a Pedestrian</td>\n",
       "      <td>Changing lane to the left</td>\n",
       "      <td>Serious Injury</td>\n",
       "    </tr>\n",
       "    <tr>\n",
       "      <th>3</th>\n",
       "      <td>4</td>\n",
       "      <td>1:06:00</td>\n",
       "      <td>Sunday</td>\n",
       "      <td>18-30</td>\n",
       "      <td>Male</td>\n",
       "      <td>Junior high school</td>\n",
       "      <td>Employee</td>\n",
       "      <td>5-10yr</td>\n",
       "      <td>Public (&gt; 45 seats)</td>\n",
       "      <td>Governmental</td>\n",
       "      <td>...</td>\n",
       "      <td>Going straight</td>\n",
       "      <td>Pedestrian</td>\n",
       "      <td>Female</td>\n",
       "      <td>18-30</td>\n",
       "      <td>3</td>\n",
       "      <td>Driver</td>\n",
       "      <td>Normal</td>\n",
       "      <td>Not a Pedestrian</td>\n",
       "      <td>Changing lane to the right</td>\n",
       "      <td>Slight Injury</td>\n",
       "    </tr>\n",
       "    <tr>\n",
       "      <th>4</th>\n",
       "      <td>5</td>\n",
       "      <td>1:06:00</td>\n",
       "      <td>Sunday</td>\n",
       "      <td>18-30</td>\n",
       "      <td>Male</td>\n",
       "      <td>Junior high school</td>\n",
       "      <td>Employee</td>\n",
       "      <td>2-5yr</td>\n",
       "      <td>NaN</td>\n",
       "      <td>Owner</td>\n",
       "      <td>...</td>\n",
       "      <td>Going straight</td>\n",
       "      <td>na</td>\n",
       "      <td>na</td>\n",
       "      <td>na</td>\n",
       "      <td>na</td>\n",
       "      <td>NaN</td>\n",
       "      <td>NaN</td>\n",
       "      <td>Not a Pedestrian</td>\n",
       "      <td>Overtaking</td>\n",
       "      <td>Slight Injury</td>\n",
       "    </tr>\n",
       "  </tbody>\n",
       "</table>\n",
       "<p>5 rows × 33 columns</p>\n",
       "</div>"
      ],
      "text/plain": [
       "   Num      Time Day_of_week Age_band_of_driver Sex_of_driver  \\\n",
       "0    1  17:02:00      Monday              18-30          Male   \n",
       "1    2  17:02:00      Monday              31-50          Male   \n",
       "2    3  17:02:00      Monday              18-30          Male   \n",
       "3    4   1:06:00      Sunday              18-30          Male   \n",
       "4    5   1:06:00      Sunday              18-30          Male   \n",
       "\n",
       "    Educational_level Vehicle_driver_relation Driving_experience  \\\n",
       "0   Above high school                Employee              1-2yr   \n",
       "1  Junior high school                Employee         Above 10yr   \n",
       "2  Junior high school                Employee              1-2yr   \n",
       "3  Junior high school                Employee             5-10yr   \n",
       "4  Junior high school                Employee              2-5yr   \n",
       "\n",
       "       Type_of_vehicle Owner_of_vehicle  ... Vehicle_movement  \\\n",
       "0           Automobile            Owner  ...   Going straight   \n",
       "1  Public (> 45 seats)            Owner  ...   Going straight   \n",
       "2      Lorry (41?100Q)            Owner  ...   Going straight   \n",
       "3  Public (> 45 seats)     Governmental  ...   Going straight   \n",
       "4                  NaN            Owner  ...   Going straight   \n",
       "\n",
       "    Casualty_class Sex_of_casualty Age_band_of_casualty Casualty_severity  \\\n",
       "0               na              na                   na                na   \n",
       "1               na              na                   na                na   \n",
       "2  Driver or rider            Male                31-50                 3   \n",
       "3       Pedestrian          Female                18-30                 3   \n",
       "4               na              na                   na                na   \n",
       "\n",
       "  Work_of_casuality Fitness_of_casuality Pedestrian_movement  \\\n",
       "0               NaN                  NaN    Not a Pedestrian   \n",
       "1               NaN                  NaN    Not a Pedestrian   \n",
       "2            Driver                  NaN    Not a Pedestrian   \n",
       "3            Driver               Normal    Not a Pedestrian   \n",
       "4               NaN                  NaN    Not a Pedestrian   \n",
       "\n",
       "            Cause_of_accident Accident_severity  \n",
       "0             Moving Backward     Slight Injury  \n",
       "1                  Overtaking     Slight Injury  \n",
       "2   Changing lane to the left    Serious Injury  \n",
       "3  Changing lane to the right     Slight Injury  \n",
       "4                  Overtaking     Slight Injury  \n",
       "\n",
       "[5 rows x 33 columns]"
      ]
     },
     "execution_count": 81,
     "metadata": {},
     "output_type": "execute_result"
    }
   ],
   "source": [
    "# Import training dataset\n",
    "dataset = Path('../dataset')\n",
    "df = pd.read_csv(dataset/\"accidents_train.csv\")\n",
    "df.head()"
   ]
  },
  {
   "cell_type": "code",
   "execution_count": 82,
   "metadata": {},
   "outputs": [
    {
     "data": {
      "text/plain": [
       "Index(['Num', 'Time', 'Day_of_week', 'Age_band_of_driver', 'Sex_of_driver',\n",
       "       'Educational_level', 'Vehicle_driver_relation', 'Driving_experience',\n",
       "       'Type_of_vehicle', 'Owner_of_vehicle', 'Service_year_of_vehicle',\n",
       "       'Defect_of_vehicle', 'Area_accident_occured', 'Lanes_or_Medians',\n",
       "       'Road_allignment', 'Types_of_Junction', 'Road_surface_type',\n",
       "       'Road_surface_conditions', 'Light_conditions', 'Weather_conditions',\n",
       "       'Type_of_collision', 'Number_of_vehicles_involved',\n",
       "       'Number_of_casualties', 'Vehicle_movement', 'Casualty_class',\n",
       "       'Sex_of_casualty', 'Age_band_of_casualty', 'Casualty_severity',\n",
       "       'Work_of_casuality', 'Fitness_of_casuality', 'Pedestrian_movement',\n",
       "       'Cause_of_accident', 'Accident_severity'],\n",
       "      dtype='object')"
      ]
     },
     "execution_count": 82,
     "metadata": {},
     "output_type": "execute_result"
    }
   ],
   "source": [
    "df.columns"
   ]
  },
  {
   "cell_type": "code",
   "execution_count": 83,
   "metadata": {},
   "outputs": [
    {
     "data": {
      "text/plain": [
       "(8210, 33)"
      ]
     },
     "execution_count": 83,
     "metadata": {},
     "output_type": "execute_result"
    }
   ],
   "source": [
    "df.shape"
   ]
  },
  {
   "cell_type": "markdown",
   "metadata": {},
   "source": [
    "Original dataset has 8210 rows  and 33 features. \n",
    "The target feature is \"Accident_severity\". "
   ]
  },
  {
   "cell_type": "code",
   "execution_count": 84,
   "metadata": {},
   "outputs": [
    {
     "name": "stdout",
     "output_type": "stream",
     "text": [
      "12 ['Number_of_vehicles_involved', 'Number_of_casualties', 'Vehicle_movement', 'Casualty_class', 'Sex_of_casualty', 'Age_band_of_casualty', 'Casualty_severity', 'Work_of_casuality', 'Fitness_of_casuality', 'Pedestrian_movement', 'Cause_of_accident', 'Accident_severity']\n"
     ]
    }
   ],
   "source": [
    "target = 'Accident_severity'\n",
    "my_list = df.columns.tolist()\n",
    "set3 = my_list[21:33]\n",
    "print(len(set3), set3)"
   ]
  },
  {
   "cell_type": "markdown",
   "metadata": {},
   "source": [
    "## Dataset split into 3 sets of features for EDA by team"
   ]
  },
  {
   "cell_type": "code",
   "execution_count": 85,
   "metadata": {},
   "outputs": [
    {
     "data": {
      "text/html": [
       "<div>\n",
       "<style scoped>\n",
       "    .dataframe tbody tr th:only-of-type {\n",
       "        vertical-align: middle;\n",
       "    }\n",
       "\n",
       "    .dataframe tbody tr th {\n",
       "        vertical-align: top;\n",
       "    }\n",
       "\n",
       "    .dataframe thead th {\n",
       "        text-align: right;\n",
       "    }\n",
       "</style>\n",
       "<table border=\"1\" class=\"dataframe\">\n",
       "  <thead>\n",
       "    <tr style=\"text-align: right;\">\n",
       "      <th></th>\n",
       "      <th>Number_of_vehicles_involved</th>\n",
       "      <th>Number_of_casualties</th>\n",
       "      <th>Vehicle_movement</th>\n",
       "      <th>Casualty_class</th>\n",
       "      <th>Sex_of_casualty</th>\n",
       "      <th>Age_band_of_casualty</th>\n",
       "      <th>Casualty_severity</th>\n",
       "      <th>Work_of_casuality</th>\n",
       "      <th>Fitness_of_casuality</th>\n",
       "      <th>Pedestrian_movement</th>\n",
       "      <th>Cause_of_accident</th>\n",
       "      <th>Accident_severity</th>\n",
       "    </tr>\n",
       "  </thead>\n",
       "  <tbody>\n",
       "    <tr>\n",
       "      <th>0</th>\n",
       "      <td>2</td>\n",
       "      <td>2</td>\n",
       "      <td>Going straight</td>\n",
       "      <td>na</td>\n",
       "      <td>na</td>\n",
       "      <td>na</td>\n",
       "      <td>na</td>\n",
       "      <td>NaN</td>\n",
       "      <td>NaN</td>\n",
       "      <td>Not a Pedestrian</td>\n",
       "      <td>Moving Backward</td>\n",
       "      <td>Slight Injury</td>\n",
       "    </tr>\n",
       "    <tr>\n",
       "      <th>1</th>\n",
       "      <td>2</td>\n",
       "      <td>2</td>\n",
       "      <td>Going straight</td>\n",
       "      <td>na</td>\n",
       "      <td>na</td>\n",
       "      <td>na</td>\n",
       "      <td>na</td>\n",
       "      <td>NaN</td>\n",
       "      <td>NaN</td>\n",
       "      <td>Not a Pedestrian</td>\n",
       "      <td>Overtaking</td>\n",
       "      <td>Slight Injury</td>\n",
       "    </tr>\n",
       "    <tr>\n",
       "      <th>2</th>\n",
       "      <td>2</td>\n",
       "      <td>2</td>\n",
       "      <td>Going straight</td>\n",
       "      <td>Driver or rider</td>\n",
       "      <td>Male</td>\n",
       "      <td>31-50</td>\n",
       "      <td>3</td>\n",
       "      <td>Driver</td>\n",
       "      <td>NaN</td>\n",
       "      <td>Not a Pedestrian</td>\n",
       "      <td>Changing lane to the left</td>\n",
       "      <td>Serious Injury</td>\n",
       "    </tr>\n",
       "    <tr>\n",
       "      <th>3</th>\n",
       "      <td>2</td>\n",
       "      <td>2</td>\n",
       "      <td>Going straight</td>\n",
       "      <td>Pedestrian</td>\n",
       "      <td>Female</td>\n",
       "      <td>18-30</td>\n",
       "      <td>3</td>\n",
       "      <td>Driver</td>\n",
       "      <td>Normal</td>\n",
       "      <td>Not a Pedestrian</td>\n",
       "      <td>Changing lane to the right</td>\n",
       "      <td>Slight Injury</td>\n",
       "    </tr>\n",
       "    <tr>\n",
       "      <th>4</th>\n",
       "      <td>2</td>\n",
       "      <td>2</td>\n",
       "      <td>Going straight</td>\n",
       "      <td>na</td>\n",
       "      <td>na</td>\n",
       "      <td>na</td>\n",
       "      <td>na</td>\n",
       "      <td>NaN</td>\n",
       "      <td>NaN</td>\n",
       "      <td>Not a Pedestrian</td>\n",
       "      <td>Overtaking</td>\n",
       "      <td>Slight Injury</td>\n",
       "    </tr>\n",
       "  </tbody>\n",
       "</table>\n",
       "</div>"
      ],
      "text/plain": [
       "   Number_of_vehicles_involved  Number_of_casualties Vehicle_movement  \\\n",
       "0                            2                     2   Going straight   \n",
       "1                            2                     2   Going straight   \n",
       "2                            2                     2   Going straight   \n",
       "3                            2                     2   Going straight   \n",
       "4                            2                     2   Going straight   \n",
       "\n",
       "    Casualty_class Sex_of_casualty Age_band_of_casualty Casualty_severity  \\\n",
       "0               na              na                   na                na   \n",
       "1               na              na                   na                na   \n",
       "2  Driver or rider            Male                31-50                 3   \n",
       "3       Pedestrian          Female                18-30                 3   \n",
       "4               na              na                   na                na   \n",
       "\n",
       "  Work_of_casuality Fitness_of_casuality Pedestrian_movement  \\\n",
       "0               NaN                  NaN    Not a Pedestrian   \n",
       "1               NaN                  NaN    Not a Pedestrian   \n",
       "2            Driver                  NaN    Not a Pedestrian   \n",
       "3            Driver               Normal    Not a Pedestrian   \n",
       "4               NaN                  NaN    Not a Pedestrian   \n",
       "\n",
       "            Cause_of_accident Accident_severity  \n",
       "0             Moving Backward     Slight Injury  \n",
       "1                  Overtaking     Slight Injury  \n",
       "2   Changing lane to the left    Serious Injury  \n",
       "3  Changing lane to the right     Slight Injury  \n",
       "4                  Overtaking     Slight Injury  "
      ]
     },
     "execution_count": 85,
     "metadata": {},
     "output_type": "execute_result"
    }
   ],
   "source": [
    "features = my_list[21:33]\n",
    "df1 = df[features]\n",
    "\n",
    "df1.head()"
   ]
  },
  {
   "cell_type": "code",
   "execution_count": 86,
   "metadata": {},
   "outputs": [],
   "source": [
    "# Import custom functions\n",
    "%run ../custom/jc-functions.ipynb"
   ]
  },
  {
   "cell_type": "markdown",
   "metadata": {},
   "source": [
    "## Data Understanding"
   ]
  },
  {
   "cell_type": "code",
   "execution_count": 87,
   "metadata": {},
   "outputs": [],
   "source": [
    "# Set continuous and categorical features \n",
    "cont_feat = ['Number_of_vehicles_involved', 'Number_of_casualties']\n",
    "cat_feat = ['Vehicle_movement', 'Casualty_class', 'Sex_of_casualty', 'Age_band_of_casualty', 'Casualty_severity', 'Work_of_casuality', 'Fitness_of_casuality', 'Pedestrian_movement', 'Cause_of_accident', 'Accident_severity']"
   ]
  },
  {
   "cell_type": "markdown",
   "metadata": {},
   "source": [
    "#### Unique values for continuous features:"
   ]
  },
  {
   "cell_type": "code",
   "execution_count": 88,
   "metadata": {},
   "outputs": [
    {
     "name": "stdout",
     "output_type": "stream",
     "text": [
      "Number_of_vehicles_involved: There are 6 unique items in this list. \n",
      " [2 1 3 6 4 7]\n",
      "Number_of_casualties: There are 8 unique items in this list. \n",
      " [2 1 3 4 6 5 8 7]\n"
     ]
    }
   ],
   "source": [
    "for feat in cont_feat:\n",
    "    list = df1[feat].unique()\n",
    "    print(f\"{feat}: There are {len(list)} unique items in this list. \\n {list}\")"
   ]
  },
  {
   "cell_type": "markdown",
   "metadata": {},
   "source": [
    "#### Unique values for categorical features: "
   ]
  },
  {
   "cell_type": "code",
   "execution_count": 89,
   "metadata": {},
   "outputs": [
    {
     "name": "stdout",
     "output_type": "stream",
     "text": [
      "Vehicle_movement: There are 14 unique items in this list. \n",
      " ['Going straight' 'U-Turn' 'Moving Backward' 'Turnover' 'Waiting to go'\n",
      " 'Getting off' 'Reversing' 'Unknown' 'Parked' 'Stopping' 'Overtaking'\n",
      " 'Other' 'Entering a junction' nan]\n",
      "Casualty_class: There are 4 unique items in this list. \n",
      " ['na' 'Driver or rider' 'Pedestrian' 'Passenger']\n",
      "Sex_of_casualty: There are 3 unique items in this list. \n",
      " ['na' 'Male' 'Female']\n",
      "Age_band_of_casualty: There are 6 unique items in this list. \n",
      " ['na' '31-50' '18-30' 'Under 18' 'Over 51' '5']\n",
      "Casualty_severity: There are 4 unique items in this list. \n",
      " ['na' '3' '2' '1']\n",
      "Work_of_casuality: There are 8 unique items in this list. \n",
      " [nan 'Driver' 'Other' 'Unemployed' 'Employee' 'Self-employed' 'Student'\n",
      " 'Unknown']\n",
      "Fitness_of_casuality: There are 6 unique items in this list. \n",
      " [nan 'Normal' 'Deaf' 'Other' 'Blind' 'NormalNormal']\n",
      "Pedestrian_movement: There are 9 unique items in this list. \n",
      " ['Not a Pedestrian' \"Crossing from driver's nearside\"\n",
      " 'Crossing from nearside - masked by parked or statioNot a Pedestrianry vehicle'\n",
      " 'Unknown or other'\n",
      " 'Crossing from offside - masked by  parked or statioNot a Pedestrianry vehicle'\n",
      " 'In carriageway, statioNot a Pedestrianry - not crossing  (standing or playing)'\n",
      " 'Walking along in carriageway, back to traffic'\n",
      " 'Walking along in carriageway, facing traffic'\n",
      " 'In carriageway, statioNot a Pedestrianry - not crossing  (standing or playing) - masked by parked or statioNot a Pedestrianry vehicle']\n",
      "Cause_of_accident: There are 20 unique items in this list. \n",
      " ['Moving Backward' 'Overtaking' 'Changing lane to the left'\n",
      " 'Changing lane to the right' 'Overloading' 'Other'\n",
      " 'No priority to vehicle' 'No priority to pedestrian' 'No distancing'\n",
      " 'Getting off the vehicle improperly' 'Improper parking' 'Overspeed'\n",
      " 'Driving carelessly' 'Driving at high speed' 'Driving to the left'\n",
      " 'Unknown' 'Overturning' 'Turnover' 'Driving under the influence of drugs'\n",
      " 'Drunk driving']\n",
      "Accident_severity: There are 3 unique items in this list. \n",
      " ['Slight Injury' 'Serious Injury' 'Fatal injury']\n"
     ]
    }
   ],
   "source": [
    "for feat in cat_feat:\n",
    "    list = df1[feat].unique()\n",
    "    print(f\"{feat}: There are {len(list)} unique items in this list. \\n {list}\")"
   ]
  },
  {
   "cell_type": "markdown",
   "metadata": {},
   "source": [
    "## Data Quality Report"
   ]
  },
  {
   "cell_type": "markdown",
   "metadata": {},
   "source": [
    "### Continuous Features"
   ]
  },
  {
   "cell_type": "code",
   "execution_count": 90,
   "metadata": {},
   "outputs": [
    {
     "name": "stdout",
     "output_type": "stream",
     "text": [
      "Data Quality for Continous Features\n",
      "Total Features: 2\n",
      "                       Feature  Count  Missing  % missing  Cardinality\n",
      "0  Number_of_vehicles_involved   8210        0        0.0            6\n",
      "1         Number_of_casualties   8210        0        0.0            8\n",
      "\n",
      "\n",
      "Descriptive Stats\n",
      "                              count  mean   std  min  25%  50%  75%  max\n",
      "Number_of_vehicles_involved  8210.0  2.01  0.64  1.0  2.0  2.0  2.0  7.0\n",
      "Number_of_casualties         8210.0  1.51  0.97  1.0  1.0  1.0  2.0  8.0\n"
     ]
    }
   ],
   "source": [
    "data_quality_report_cont(df1, cont_feat)"
   ]
  },
  {
   "cell_type": "markdown",
   "metadata": {},
   "source": [
    "There are no missing values in the continuous variables. \n",
    "Therefore, no imputation or data cleaning required."
   ]
  },
  {
   "cell_type": "markdown",
   "metadata": {},
   "source": [
    "### Categorical Features"
   ]
  },
  {
   "cell_type": "code",
   "execution_count": 91,
   "metadata": {},
   "outputs": [
    {
     "name": "stdout",
     "output_type": "stream",
     "text": [
      "Data Quality Report for Categorical Features\n",
      "============================================\n",
      "Stats\n",
      "-----\n",
      "                Feature  Count  Missing  % Missing  Cardinality\n",
      "0      Vehicle_movement   8026      184       2.29           14\n",
      "1        Casualty_class   8210        0       0.00            4\n",
      "2       Sex_of_casualty   8210        0       0.00            3\n",
      "3  Age_band_of_casualty   8210        0       0.00            6\n",
      "4     Casualty_severity   8210        0       0.00            4\n",
      "5     Work_of_casuality   6062     2148      35.43            8\n",
      "6  Fitness_of_casuality   6440     1770      27.48            6\n",
      "7   Pedestrian_movement   8210        0       0.00            9\n",
      "8     Cause_of_accident   8210        0       0.00           20\n",
      "9     Accident_severity   8210        0       0.00            3\n",
      "\n",
      "\n",
      "Mode 1\n",
      "------\n",
      "                Feature            Mode 1  Mode 1 Freq.  Mode 1 %\n",
      "0      Vehicle_movement    Going straight          5481     68.29\n",
      "1        Casualty_class   Driver or rider          3201     38.99\n",
      "2       Sex_of_casualty              Male          3491     42.52\n",
      "3  Age_band_of_casualty                na          2907     35.41\n",
      "4     Casualty_severity                 3          4715     57.43\n",
      "5     Work_of_casuality            Driver          3923     64.71\n",
      "6  Fitness_of_casuality            Normal          6391     99.24\n",
      "7   Pedestrian_movement  Not a Pedestrian          7571     92.22\n",
      "8     Cause_of_accident     No distancing          1520     18.51\n",
      "9     Accident_severity     Slight Injury          7082     86.26\n",
      "\n",
      "\n",
      "Mode 2\n",
      "------\n",
      "                Feature                      Mode 2  Mode 2 Freq.  Mode 2 %\n",
      "0      Vehicle_movement             Moving Backward           642      8.00\n",
      "1        Casualty_class                          na          2907     35.41\n",
      "2       Sex_of_casualty                          na          2907     35.41\n",
      "3  Age_band_of_casualty                       18-30          2013     24.52\n",
      "4     Casualty_severity                          na          2907     35.41\n",
      "5     Work_of_casuality               Self-employed          1343     22.15\n",
      "6  Fitness_of_casuality                NormalNormal            13      0.20\n",
      "7   Pedestrian_movement            Unknown or other           231      2.81\n",
      "8     Cause_of_accident  Changing lane to the right          1233     15.02\n",
      "9     Accident_severity              Serious Injury          1046     12.74\n",
      "\n",
      "\n",
      "Descriptive Stats\n",
      "-----------------\n",
      "                     count unique               top  freq\n",
      "Vehicle_movement      8026     13    Going straight  5481\n",
      "Casualty_class        8210      4   Driver or rider  3201\n",
      "Sex_of_casualty       8210      3              Male  3491\n",
      "Age_band_of_casualty  8210      6                na  2907\n",
      "Casualty_severity     8210      4                 3  4715\n",
      "Work_of_casuality     6062      7            Driver  3923\n",
      "Fitness_of_casuality  6440      5            Normal  6391\n",
      "Pedestrian_movement   8210      9  Not a Pedestrian  7571\n",
      "Cause_of_accident     8210     20     No distancing  1520\n",
      "Accident_severity     8210      3     Slight Injury  7082\n"
     ]
    }
   ],
   "source": [
    "data_quality_report_cat(df1, cat_feat)"
   ]
  },
  {
   "cell_type": "markdown",
   "metadata": {},
   "source": [
    "Three features have missing values. Since less than 60% of the values are \n",
    "missing, missing values will be imputed with the mode.  "
   ]
  },
  {
   "cell_type": "code",
   "execution_count": 92,
   "metadata": {},
   "outputs": [
    {
     "name": "stdout",
     "output_type": "stream",
     "text": [
      "<class 'pandas.core.frame.DataFrame'>\n",
      "RangeIndex: 8210 entries, 0 to 8209\n",
      "Data columns (total 12 columns):\n",
      " #   Column                       Non-Null Count  Dtype \n",
      "---  ------                       --------------  ----- \n",
      " 0   Number_of_vehicles_involved  8210 non-null   int64 \n",
      " 1   Number_of_casualties         8210 non-null   int64 \n",
      " 2   Vehicle_movement             8026 non-null   object\n",
      " 3   Casualty_class               8210 non-null   object\n",
      " 4   Sex_of_casualty              8210 non-null   object\n",
      " 5   Age_band_of_casualty         8210 non-null   object\n",
      " 6   Casualty_severity            8210 non-null   object\n",
      " 7   Work_of_casuality            6062 non-null   object\n",
      " 8   Fitness_of_casuality         6440 non-null   object\n",
      " 9   Pedestrian_movement          8210 non-null   object\n",
      " 10  Cause_of_accident            8210 non-null   object\n",
      " 11  Accident_severity            8210 non-null   object\n",
      "dtypes: int64(2), object(10)\n",
      "memory usage: 5.2 MB\n"
     ]
    }
   ],
   "source": [
    "df1.info(memory_usage='deep')"
   ]
  },
  {
   "cell_type": "code",
   "execution_count": 93,
   "metadata": {},
   "outputs": [
    {
     "name": "stderr",
     "output_type": "stream",
     "text": [
      "C:\\Users\\manuel.clemente\\AppData\\Local\\Temp\\ipykernel_18204\\408343183.py:6: SettingWithCopyWarning: \n",
      "A value is trying to be set on a copy of a slice from a DataFrame.\n",
      "Try using .loc[row_indexer,col_indexer] = value instead\n",
      "\n",
      "See the caveats in the documentation: https://pandas.pydata.org/pandas-docs/stable/user_guide/indexing.html#returning-a-view-versus-a-copy\n",
      "  df1[col] = df1[col].replace(np.nan, most_frequent)\n"
     ]
    }
   ],
   "source": [
    "# Impute mode into missing values\n",
    "col_impute = ['Vehicle_movement', 'Work_of_casuality', 'Fitness_of_casuality']\n",
    "\n",
    "for col in col_impute:\n",
    "    most_frequent = df1[col].mode()[0]\n",
    "    df1[col] = df1[col].replace(np.nan, most_frequent)\n"
   ]
  },
  {
   "cell_type": "code",
   "execution_count": 94,
   "metadata": {},
   "outputs": [
    {
     "name": "stdout",
     "output_type": "stream",
     "text": [
      "Data Quality Report for Categorical Features\n",
      "============================================\n",
      "Stats\n",
      "-----\n",
      "                Feature  Count  Missing  % Missing  Cardinality\n",
      "0      Vehicle_movement   8210        0        0.0           13\n",
      "1     Work_of_casuality   8210        0        0.0            7\n",
      "2  Fitness_of_casuality   8210        0        0.0            5\n",
      "\n",
      "\n",
      "Mode 1\n",
      "------\n",
      "                Feature          Mode 1  Mode 1 Freq.  Mode 1 %\n",
      "0      Vehicle_movement  Going straight          5665     69.00\n",
      "1     Work_of_casuality          Driver          6071     73.95\n",
      "2  Fitness_of_casuality          Normal          8161     99.40\n",
      "\n",
      "\n",
      "Mode 2\n",
      "------\n",
      "                Feature           Mode 2  Mode 2 Freq.  Mode 2 %\n",
      "0      Vehicle_movement  Moving Backward           642      7.82\n",
      "1     Work_of_casuality    Self-employed          1343     16.36\n",
      "2  Fitness_of_casuality     NormalNormal            13      0.16\n",
      "\n",
      "\n",
      "Descriptive Stats\n",
      "-----------------\n",
      "                     count unique             top  freq\n",
      "Vehicle_movement      8210     13  Going straight  5665\n",
      "Work_of_casuality     8210      7          Driver  6071\n",
      "Fitness_of_casuality  8210      5          Normal  8161\n"
     ]
    }
   ],
   "source": [
    "# Check imputation\n",
    "data_quality_report_cat(df1, col_impute)"
   ]
  },
  {
   "cell_type": "markdown",
   "metadata": {},
   "source": [
    "## Data Analysis of Continuous Features "
   ]
  },
  {
   "cell_type": "markdown",
   "metadata": {},
   "source": [
    "### Descriptive Statistics and Box Plots"
   ]
  },
  {
   "cell_type": "code",
   "execution_count": 95,
   "metadata": {},
   "outputs": [
    {
     "name": "stdout",
     "output_type": "stream",
     "text": [
      "Descriptive Statistics for Number_of_vehicles_involved:\n",
      "                     count  mean  std  min  25%  50%  75%  max\n",
      "Accident_severity                                            \n",
      "Fatal injury         82.0   2.0  0.0  1.0  2.0  2.0  2.0  3.0\n",
      "Serious Injury     1046.0   2.0  1.0  1.0  1.0  2.0  2.0  4.0\n",
      "Slight Injury      7082.0   2.0  1.0  1.0  2.0  2.0  2.0  7.0\n"
     ]
    },
    {
     "data": {
      "image/png": "[encoded data removed]",
      "text/plain": [
       "<Figure size 640x480 with 1 Axes>"
      ]
     },
     "metadata": {},
     "output_type": "display_data"
    },
    {
     "name": "stdout",
     "output_type": "stream",
     "text": [
      "Descriptive Statistics for Number_of_casualties:\n",
      "                     count  mean  std  min  25%  50%  75%  max\n",
      "Accident_severity                                            \n",
      "Fatal injury         82.0   2.0  1.0  1.0  1.0  2.0  4.0  5.0\n",
      "Serious Injury     1046.0   2.0  1.0  1.0  1.0  1.0  2.0  6.0\n",
      "Slight Injury      7082.0   1.0  1.0  1.0  1.0  1.0  2.0  8.0\n"
     ]
    },
    {
     "data": {
      "image/png": "[encoded data removed]",
      "text/plain": [
       "<Figure size 640x480 with 1 Axes>"
      ]
     },
     "metadata": {},
     "output_type": "display_data"
    }
   ],
   "source": [
    "# Descriptive stats and box plots\n",
    "for col in cont_feat:\n",
    "    descriptive_stats = df1.groupby(target)[col].describe().round()\n",
    "    print(f\"Descriptive Statistics for {col}:\\n {descriptive_stats}\")\n",
    "    sns.boxplot(x=target, y=col, data = df1)\n",
    "    plt.show()"
   ]
  },
  {
   "cell_type": "markdown",
   "metadata": {},
   "source": [
    "### ANOVA"
   ]
  },
  {
   "cell_type": "code",
   "execution_count": 96,
   "metadata": {},
   "outputs": [
    {
     "name": "stdout",
     "output_type": "stream",
     "text": [
      "ANOVA results for Number_of_vehicles_involved:\n",
      "F-statistic: 27.787\n",
      "p-value: 9.398e-13\n",
      "\n",
      "ANOVA results for Number_of_casualties:\n",
      "F-statistic: 27.269\n",
      "p-value: 1.572e-12\n",
      "\n"
     ]
    }
   ],
   "source": [
    "# ANOVA \n",
    "for col in cont_feat:\n",
    "    # Group data by target var\n",
    "    grouped_data = []\n",
    "\n",
    "    for group in df1[target].unique():\n",
    "        group_data = df1[col][df1[target] == group]\n",
    "\n",
    "        grouped_data.append(group_data)\n",
    "\n",
    "    anova_result = stats.f_oneway(*grouped_data)\n",
    "\n",
    "    print(f\"ANOVA results for {col}:\")\n",
    "    print(f\"F-statistic: {anova_result.statistic:.3f}\") \n",
    "    print(f\"p-value: {anova_result.pvalue:.3e}\\n\")\n"
   ]
  },
  {
   "cell_type": "markdown",
   "metadata": {},
   "source": [
    "### Conclusion of Analysis of Continuous Features\n",
    "Based on the high F-statistics and low p-values, these features are statistically significant to the target variable:\n",
    "- Number_of_vehicles_involved\n",
    "- Number_of_casualties"
   ]
  },
  {
   "cell_type": "markdown",
   "metadata": {},
   "source": [
    "### Data Analysis of Categorical Features"
   ]
  },
  {
   "cell_type": "code",
   "execution_count": 99,
   "metadata": {},
   "outputs": [
    {
     "data": {
      "text/html": [
       "<div>\n",
       "<style scoped>\n",
       "    .dataframe tbody tr th:only-of-type {\n",
       "        vertical-align: middle;\n",
       "    }\n",
       "\n",
       "    .dataframe tbody tr th {\n",
       "        vertical-align: top;\n",
       "    }\n",
       "\n",
       "    .dataframe thead th {\n",
       "        text-align: right;\n",
       "    }\n",
       "</style>\n",
       "<table border=\"1\" class=\"dataframe\">\n",
       "  <thead>\n",
       "    <tr style=\"text-align: right;\">\n",
       "      <th></th>\n",
       "      <th>Vehicle_movement</th>\n",
       "      <th>Casualty_class</th>\n",
       "      <th>Sex_of_casualty</th>\n",
       "      <th>Age_band_of_casualty</th>\n",
       "      <th>Casualty_severity</th>\n",
       "      <th>Work_of_casuality</th>\n",
       "      <th>Fitness_of_casuality</th>\n",
       "      <th>Pedestrian_movement</th>\n",
       "      <th>Cause_of_accident</th>\n",
       "      <th>Accident_severity</th>\n",
       "    </tr>\n",
       "  </thead>\n",
       "  <tbody>\n",
       "    <tr>\n",
       "      <th>0</th>\n",
       "      <td>Going straight</td>\n",
       "      <td>na</td>\n",
       "      <td>na</td>\n",
       "      <td>na</td>\n",
       "      <td>na</td>\n",
       "      <td>Driver</td>\n",
       "      <td>Normal</td>\n",
       "      <td>Not a Pedestrian</td>\n",
       "      <td>Moving Backward</td>\n",
       "      <td>Slight Injury</td>\n",
       "    </tr>\n",
       "    <tr>\n",
       "      <th>1</th>\n",
       "      <td>Going straight</td>\n",
       "      <td>na</td>\n",
       "      <td>na</td>\n",
       "      <td>na</td>\n",
       "      <td>na</td>\n",
       "      <td>Driver</td>\n",
       "      <td>Normal</td>\n",
       "      <td>Not a Pedestrian</td>\n",
       "      <td>Overtaking</td>\n",
       "      <td>Slight Injury</td>\n",
       "    </tr>\n",
       "    <tr>\n",
       "      <th>2</th>\n",
       "      <td>Going straight</td>\n",
       "      <td>Driver or rider</td>\n",
       "      <td>Male</td>\n",
       "      <td>31-50</td>\n",
       "      <td>3</td>\n",
       "      <td>Driver</td>\n",
       "      <td>Normal</td>\n",
       "      <td>Not a Pedestrian</td>\n",
       "      <td>Changing lane to the left</td>\n",
       "      <td>Serious Injury</td>\n",
       "    </tr>\n",
       "    <tr>\n",
       "      <th>3</th>\n",
       "      <td>Going straight</td>\n",
       "      <td>Pedestrian</td>\n",
       "      <td>Female</td>\n",
       "      <td>18-30</td>\n",
       "      <td>3</td>\n",
       "      <td>Driver</td>\n",
       "      <td>Normal</td>\n",
       "      <td>Not a Pedestrian</td>\n",
       "      <td>Changing lane to the right</td>\n",
       "      <td>Slight Injury</td>\n",
       "    </tr>\n",
       "    <tr>\n",
       "      <th>4</th>\n",
       "      <td>Going straight</td>\n",
       "      <td>na</td>\n",
       "      <td>na</td>\n",
       "      <td>na</td>\n",
       "      <td>na</td>\n",
       "      <td>Driver</td>\n",
       "      <td>Normal</td>\n",
       "      <td>Not a Pedestrian</td>\n",
       "      <td>Overtaking</td>\n",
       "      <td>Slight Injury</td>\n",
       "    </tr>\n",
       "  </tbody>\n",
       "</table>\n",
       "</div>"
      ],
      "text/plain": [
       "  Vehicle_movement   Casualty_class Sex_of_casualty Age_band_of_casualty  \\\n",
       "0   Going straight               na              na                   na   \n",
       "1   Going straight               na              na                   na   \n",
       "2   Going straight  Driver or rider            Male                31-50   \n",
       "3   Going straight       Pedestrian          Female                18-30   \n",
       "4   Going straight               na              na                   na   \n",
       "\n",
       "  Casualty_severity Work_of_casuality Fitness_of_casuality  \\\n",
       "0                na            Driver               Normal   \n",
       "1                na            Driver               Normal   \n",
       "2                 3            Driver               Normal   \n",
       "3                 3            Driver               Normal   \n",
       "4                na            Driver               Normal   \n",
       "\n",
       "  Pedestrian_movement           Cause_of_accident Accident_severity  \n",
       "0    Not a Pedestrian             Moving Backward     Slight Injury  \n",
       "1    Not a Pedestrian                  Overtaking     Slight Injury  \n",
       "2    Not a Pedestrian   Changing lane to the left    Serious Injury  \n",
       "3    Not a Pedestrian  Changing lane to the right     Slight Injury  \n",
       "4    Not a Pedestrian                  Overtaking     Slight Injury  "
      ]
     },
     "execution_count": 99,
     "metadata": {},
     "output_type": "execute_result"
    }
   ],
   "source": [
    "df_cat = df1[cat_feat]\n",
    "df_cat.head()"
   ]
  },
  {
   "cell_type": "code",
   "execution_count": 105,
   "metadata": {},
   "outputs": [
    {
     "data": {
      "text/plain": [
       "['Vehicle_movement',\n",
       " 'Casualty_class',\n",
       " 'Sex_of_casualty',\n",
       " 'Age_band_of_casualty',\n",
       " 'Casualty_severity',\n",
       " 'Work_of_casuality',\n",
       " 'Fitness_of_casuality',\n",
       " 'Pedestrian_movement',\n",
       " 'Cause_of_accident',\n",
       " 'Accident_severity']"
      ]
     },
     "execution_count": 105,
     "metadata": {},
     "output_type": "execute_result"
    }
   ],
   "source": [
    "cat_feat"
   ]
  },
  {
   "cell_type": "markdown",
   "metadata": {},
   "source": [
    "#### Contingency Tables"
   ]
  },
  {
   "cell_type": "code",
   "execution_count": 110,
   "metadata": {},
   "outputs": [
    {
     "name": "stdout",
     "output_type": "stream",
     "text": [
      "Accident_severity    Fatal injury  Serious Injury  Slight Injury\n",
      "Vehicle_movement                                                \n",
      "Entering a junction             1              11            117\n",
      "Getting off                     1              26            198\n",
      "Going straight                 63             718           4884\n",
      "Moving Backward                 9              85            548\n",
      "Other                           1              63            516\n",
      "Overtaking                      2               4             58\n",
      "Parked                          0               2              8\n",
      "Reversing                       2              57            321\n",
      "Stopping                        0               8             32\n",
      "Turnover                        3              49            278\n",
      "U-Turn                          0               7             23\n",
      "Unknown                         0              13             71\n",
      "Waiting to go                   0               3             28\n"
     ]
    },
    {
     "ename": "TypeError",
     "evalue": "'str' object is not callable",
     "output_type": "error",
     "traceback": [
      "\u001b[1;31m---------------------------------------------------------------------------\u001b[0m",
      "\u001b[1;31mTypeError\u001b[0m                                 Traceback (most recent call last)",
      "Cell \u001b[1;32mIn[110], line 9\u001b[0m\n\u001b[0;32m      7\u001b[0m plt\u001b[38;5;241m.\u001b[39mfigure(figsize\u001b[38;5;241m=\u001b[39m(\u001b[38;5;241m10\u001b[39m,\u001b[38;5;241m6\u001b[39m))\n\u001b[0;32m      8\u001b[0m sns\u001b[38;5;241m.\u001b[39mheatmap(contingency_table, annot\u001b[38;5;241m=\u001b[39m\u001b[38;5;28;01mTrue\u001b[39;00m, fmt\u001b[38;5;241m=\u001b[39m\u001b[38;5;124m'\u001b[39m\u001b[38;5;124md\u001b[39m\u001b[38;5;124m'\u001b[39m, cmap\u001b[38;5;241m=\u001b[39m\u001b[38;5;124m'\u001b[39m\u001b[38;5;124mBlues\u001b[39m\u001b[38;5;124m'\u001b[39m)\n\u001b[1;32m----> 9\u001b[0m \u001b[43mplt\u001b[49m\u001b[38;5;241;43m.\u001b[39;49m\u001b[43mtitle\u001b[49m\u001b[43m(\u001b[49m\u001b[38;5;124;43mf\u001b[39;49m\u001b[38;5;124;43m\"\u001b[39;49m\u001b[38;5;124;43mHeatmap of \u001b[39;49m\u001b[38;5;132;43;01m{\u001b[39;49;00m\u001b[43mcol\u001b[49m\u001b[38;5;132;43;01m}\u001b[39;49;00m\u001b[38;5;124;43m vs \u001b[39;49m\u001b[38;5;132;43;01m{\u001b[39;49;00m\u001b[43mtarget\u001b[49m\u001b[38;5;132;43;01m}\u001b[39;49;00m\u001b[38;5;124;43m\"\u001b[39;49m\u001b[43m)\u001b[49m\n\u001b[0;32m     10\u001b[0m plot\u001b[38;5;241m.\u001b[39mshow()\n",
      "\u001b[1;31mTypeError\u001b[0m: 'str' object is not callable"
     ]
    },
    {
     "data": {
      "image/png": "[encoded data removed]",
      "text/plain": [
       "<Figure size 1000x600 with 2 Axes>"
      ]
     },
     "metadata": {},
     "output_type": "display_data"
    }
   ],
   "source": [
    "# Contingency tables\n",
    "for col in cat_feat[:-1]:\n",
    "    contingency_table = pd.crosstab(df_cat[col], df_cat[target])\n",
    "    print(contingency_table)\n",
    "\n",
    "    # Create mosaic plot\n",
    "    plt.figure(figsize=(10,6))\n",
    "    sns.heatmap(contingency_table, annot=True, fmt='d', cmap='Blues')\n",
    "    plt.title(f\"Heatmap of {col} vs {target}\")\n",
    "    plot.show()\n"
   ]
  },
  {
   "cell_type": "code",
   "execution_count": 102,
   "metadata": {},
   "outputs": [],
   "source": [
    "# print(cat_feat)\n",
    "# for col in cat_feat:\n",
    "#     df[col].value_counts().plot(kind='bar')\n",
    "#     plt.title(f'Value Counts of {col}')\n",
    "#     plt.xlabel(col)\n",
    "#     plt.ylabel('Count')\n",
    "#     plt.xticks(rotation=45)\n",
    "#     plt.show()"
   ]
  },
  {
   "cell_type": "code",
   "execution_count": 103,
   "metadata": {},
   "outputs": [],
   "source": [
    "# plt.figure(figsize=(10, 6))\n",
    "# for col in cat_feat:\n",
    "#     ct = pd.crosstab(df[col], df['Accident_severity'])\n",
    "#     # print(ct)\n",
    "#     sns.heatmap(ct, annot=True, cmap='coolwarm')\n",
    "#     plt.title(f'Contingency Heatmap of {col} and Accident_severity')\n",
    "#     plt.show()\n"
   ]
  },
  {
   "cell_type": "code",
   "execution_count": 104,
   "metadata": {},
   "outputs": [],
   "source": [
    "# plt.figure(figsize=(10, 6))\n",
    "# for col in cat_feat:\n",
    "#     ct = pd.crosstab(df[col], df['Accident_severity'])\n",
    "#     chi2, p, dof, expected = chi2_contingency(ct)\n",
    "#     print(f\"Chi-Square Test for '{col}':\")\n",
    "#     print(f\"Chi2: {chi2:.02f}\")\n",
    "#     print(f\"P-values: {p:.02f}\")\n",
    "#     print(f\"Degrees of Freedom: {dof:.02f}\\n\")"
   ]
  },
  {
   "cell_type": "code",
   "execution_count": null,
   "metadata": {},
   "outputs": [],
   "source": []
  }
 ],
 "metadata": {
  "kernelspec": {
   "display_name": "py310",
   "language": "python",
   "name": "python3"
  },
  "language_info": {
   "codemirror_mode": {
    "name": "ipython",
    "version": 3
   },
   "file_extension": ".py",
   "mimetype": "text/x-python",
   "name": "python",
   "nbconvert_exporter": "python",
   "pygments_lexer": "ipython3",
   "version": "3.10.12"
  }
 },
 "nbformat": 4,
 "nbformat_minor": 2
}

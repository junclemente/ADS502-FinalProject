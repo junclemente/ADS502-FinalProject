{
 "cells": [
  {
   "cell_type": "code",
   "execution_count": 2,
   "metadata": {},
   "outputs": [],
   "source": [
    "import pandas as pd\n",
    "import numpy as np\n",
    "\n",
    "from pathlib import Path"
   ]
  },
  {
   "cell_type": "code",
   "execution_count": 3,
   "metadata": {},
   "outputs": [],
   "source": [
    "%run ../custom/jc-functions.ipynb"
   ]
  },
  {
   "cell_type": "code",
   "execution_count": 4,
   "metadata": {},
   "outputs": [
    {
     "data": {
      "text/html": [
       "<div>\n",
       "<style scoped>\n",
       "    .dataframe tbody tr th:only-of-type {\n",
       "        vertical-align: middle;\n",
       "    }\n",
       "\n",
       "    .dataframe tbody tr th {\n",
       "        vertical-align: top;\n",
       "    }\n",
       "\n",
       "    .dataframe thead th {\n",
       "        text-align: right;\n",
       "    }\n",
       "</style>\n",
       "<table border=\"1\" class=\"dataframe\">\n",
       "  <thead>\n",
       "    <tr style=\"text-align: right;\">\n",
       "      <th></th>\n",
       "      <th>Area_accident_occured</th>\n",
       "      <th>Types_of_Junction</th>\n",
       "      <th>Light_conditions</th>\n",
       "      <th>Number_of_vehicles_involved</th>\n",
       "      <th>Number_of_casualties</th>\n",
       "      <th>Cause_of_accident</th>\n",
       "      <th>Day_of_week</th>\n",
       "      <th>Sex_of_driver</th>\n",
       "      <th>Age_band_of_driver</th>\n",
       "      <th>Accident_severity</th>\n",
       "    </tr>\n",
       "  </thead>\n",
       "  <tbody>\n",
       "    <tr>\n",
       "      <th>0</th>\n",
       "      <td>Residential areas</td>\n",
       "      <td>No junction</td>\n",
       "      <td>Daylight</td>\n",
       "      <td>2</td>\n",
       "      <td>2</td>\n",
       "      <td>Moving Backward</td>\n",
       "      <td>Monday</td>\n",
       "      <td>Male</td>\n",
       "      <td>18-30</td>\n",
       "      <td>Slight Injury</td>\n",
       "    </tr>\n",
       "    <tr>\n",
       "      <th>1</th>\n",
       "      <td>Office areas</td>\n",
       "      <td>No junction</td>\n",
       "      <td>Daylight</td>\n",
       "      <td>2</td>\n",
       "      <td>2</td>\n",
       "      <td>Overtaking</td>\n",
       "      <td>Monday</td>\n",
       "      <td>Male</td>\n",
       "      <td>31-50</td>\n",
       "      <td>Slight Injury</td>\n",
       "    </tr>\n",
       "    <tr>\n",
       "      <th>2</th>\n",
       "      <td>Recreational areas</td>\n",
       "      <td>No junction</td>\n",
       "      <td>Daylight</td>\n",
       "      <td>2</td>\n",
       "      <td>2</td>\n",
       "      <td>Changing lane to the left</td>\n",
       "      <td>Monday</td>\n",
       "      <td>Male</td>\n",
       "      <td>18-30</td>\n",
       "      <td>Serious Injury</td>\n",
       "    </tr>\n",
       "    <tr>\n",
       "      <th>3</th>\n",
       "      <td>Office areas</td>\n",
       "      <td>Y Shape</td>\n",
       "      <td>Darkness - lights lit</td>\n",
       "      <td>2</td>\n",
       "      <td>2</td>\n",
       "      <td>Changing lane to the right</td>\n",
       "      <td>Sunday</td>\n",
       "      <td>Male</td>\n",
       "      <td>18-30</td>\n",
       "      <td>Slight Injury</td>\n",
       "    </tr>\n",
       "    <tr>\n",
       "      <th>4</th>\n",
       "      <td>Industrial areas</td>\n",
       "      <td>Y Shape</td>\n",
       "      <td>Darkness - lights lit</td>\n",
       "      <td>2</td>\n",
       "      <td>2</td>\n",
       "      <td>Overtaking</td>\n",
       "      <td>Sunday</td>\n",
       "      <td>Male</td>\n",
       "      <td>18-30</td>\n",
       "      <td>Slight Injury</td>\n",
       "    </tr>\n",
       "  </tbody>\n",
       "</table>\n",
       "</div>"
      ],
      "text/plain": [
       "  Area_accident_occured Types_of_Junction       Light_conditions  \\\n",
       "0     Residential areas       No junction               Daylight   \n",
       "1          Office areas       No junction               Daylight   \n",
       "2    Recreational areas       No junction               Daylight   \n",
       "3          Office areas           Y Shape  Darkness - lights lit   \n",
       "4      Industrial areas           Y Shape  Darkness - lights lit   \n",
       "\n",
       "   Number_of_vehicles_involved  Number_of_casualties  \\\n",
       "0                            2                     2   \n",
       "1                            2                     2   \n",
       "2                            2                     2   \n",
       "3                            2                     2   \n",
       "4                            2                     2   \n",
       "\n",
       "            Cause_of_accident Day_of_week Sex_of_driver Age_band_of_driver  \\\n",
       "0             Moving Backward      Monday          Male              18-30   \n",
       "1                  Overtaking      Monday          Male              31-50   \n",
       "2   Changing lane to the left      Monday          Male              18-30   \n",
       "3  Changing lane to the right      Sunday          Male              18-30   \n",
       "4                  Overtaking      Sunday          Male              18-30   \n",
       "\n",
       "  Accident_severity  \n",
       "0     Slight Injury  \n",
       "1     Slight Injury  \n",
       "2    Serious Injury  \n",
       "3     Slight Injury  \n",
       "4     Slight Injury  "
      ]
     },
     "execution_count": 4,
     "metadata": {},
     "output_type": "execute_result"
    }
   ],
   "source": [
    "dataset = Path('../dataset')\n",
    "df = pd.read_csv(dataset/\"accidents_clean_train.csv\")\n",
    "df.head()"
   ]
  },
  {
   "cell_type": "code",
   "execution_count": 6,
   "metadata": {},
   "outputs": [
    {
     "data": {
      "text/plain": [
       "(8210, 10)"
      ]
     },
     "execution_count": 6,
     "metadata": {},
     "output_type": "execute_result"
    }
   ],
   "source": [
    "df.shape"
   ]
  },
  {
   "cell_type": "code",
   "execution_count": 10,
   "metadata": {},
   "outputs": [],
   "source": [
    "cont_feat = ['Number_of_vehicles_involved', 'Number_of_casualties']\n",
    "cat_feat = [\"Area_accident_occured\", \"Types_of_Junction\", \"Light_conditions\",\n",
    "           \"Number_of_vehicles_involved\", \"Number_of_casualties\", \"Cause_of_accident\",\n",
    "           \"Day_of_week\", \"Sex_of_driver\", \"Age_band_of_driver\"]\n",
    "target = [\"Accident_severity\"]"
   ]
  },
  {
   "cell_type": "code",
   "execution_count": 13,
   "metadata": {},
   "outputs": [
    {
     "name": "stdout",
     "output_type": "stream",
     "text": [
      "Data Quality for Continous Features\n",
      "Total Features: 2\n",
      "                       Feature  Count  Missing  % missing  Cardinality\n",
      "0  Number_of_vehicles_involved   8210        0        0.0            6\n",
      "1         Number_of_casualties   8210        0        0.0            8\n",
      "\n",
      "\n",
      "Descriptive Stats\n",
      "                              count  mean   std  min  25%  50%  75%  max\n",
      "Number_of_vehicles_involved  8210.0  2.01  0.64  1.0  2.0  2.0  2.0  7.0\n",
      "Number_of_casualties         8210.0  1.51  0.97  1.0  1.0  1.0  2.0  8.0\n"
     ]
    }
   ],
   "source": [
    "data_quality_report_cont(df, cont_feat)"
   ]
  },
  {
   "cell_type": "code",
   "execution_count": 15,
   "metadata": {},
   "outputs": [
    {
     "name": "stdout",
     "output_type": "stream",
     "text": [
      "Data Quality Report for Categorical Features\n",
      "============================================\n",
      "Stats\n",
      "-----\n",
      "                       Feature  Count  Missing  % Missing  Cardinality\n",
      "0        Area_accident_occured   8210        0        0.0           14\n",
      "1            Types_of_Junction   8210        0        0.0            8\n",
      "2             Light_conditions   8210        0        0.0            4\n",
      "3  Number_of_vehicles_involved   8210        0        0.0            6\n",
      "4         Number_of_casualties   8210        0        0.0            8\n",
      "5            Cause_of_accident   8210        0        0.0           20\n",
      "6                  Day_of_week   8210        0        0.0            7\n",
      "7                Sex_of_driver   8210        0        0.0            3\n",
      "8           Age_band_of_driver   8210        0        0.0            5\n",
      "\n",
      "\n",
      "Mode 1\n",
      "------\n",
      "                       Feature         Mode 1  Mode 1 Freq.  Mode 1 %\n",
      "0        Area_accident_occured          Other          2671     32.53\n",
      "1            Types_of_Junction        Y Shape          3118     37.98\n",
      "2             Light_conditions       Daylight          5924     72.16\n",
      "3  Number_of_vehicles_involved              2          5740     69.91\n",
      "4         Number_of_casualties              1          5786     70.48\n",
      "5            Cause_of_accident  No distancing          1520     18.51\n",
      "6                  Day_of_week         Friday          1326     16.15\n",
      "7                Sex_of_driver           Male          7582     92.35\n",
      "8           Age_band_of_driver          18-30          2728     33.23\n",
      "\n",
      "\n",
      "Mode 2\n",
      "------\n",
      "                       Feature                      Mode 2  Mode 2 Freq.  \\\n",
      "0        Area_accident_occured                Office areas          2323   \n",
      "1            Types_of_Junction                 No junction          2924   \n",
      "2             Light_conditions       Darkness - lights lit          2171   \n",
      "3  Number_of_vehicles_involved                           1          1323   \n",
      "4         Number_of_casualties                           2          1440   \n",
      "5            Cause_of_accident  Changing lane to the right          1233   \n",
      "6                  Day_of_week                    Thursday          1288   \n",
      "7                Sex_of_driver                      Female           462   \n",
      "8           Age_band_of_driver                       31-50          2688   \n",
      "\n",
      "   Mode 2 %  \n",
      "0     28.29  \n",
      "1     35.62  \n",
      "2     26.44  \n",
      "3     16.11  \n",
      "4     17.54  \n",
      "5     15.02  \n",
      "6     15.69  \n",
      "7      5.63  \n",
      "8     32.74  \n",
      "\n",
      "\n",
      "Descriptive Stats\n",
      "-----------------\n",
      "                      count unique            top  freq\n",
      "Area_accident_occured  8210     14          Other  2671\n",
      "Types_of_Junction      8210      8        Y Shape  3118\n",
      "Light_conditions       8210      4       Daylight  5924\n",
      "Cause_of_accident      8210     20  No distancing  1520\n",
      "Day_of_week            8210      7         Friday  1326\n",
      "Sex_of_driver          8210      3           Male  7582\n",
      "Age_band_of_driver     8210      5          18-30  2728\n"
     ]
    }
   ],
   "source": [
    "data_quality_report_cat(df, cat_feat)"
   ]
  },
  {
   "cell_type": "code",
   "execution_count": null,
   "metadata": {},
   "outputs": [],
   "source": []
  }
 ],
 "metadata": {
  "kernelspec": {
   "display_name": "cobRa",
   "language": "python",
   "name": "python3"
  },
  "language_info": {
   "codemirror_mode": {
    "name": "ipython",
    "version": 3
   },
   "file_extension": ".py",
   "mimetype": "text/x-python",
   "name": "python",
   "nbconvert_exporter": "python",
   "pygments_lexer": "ipython3",
   "version": "3.10.14"
  }
 },
 "nbformat": 4,
 "nbformat_minor": 2
}

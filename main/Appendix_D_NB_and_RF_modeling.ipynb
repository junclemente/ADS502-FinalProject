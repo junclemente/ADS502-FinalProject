{
 "cells": [
  {
   "cell_type": "markdown",
   "metadata": {},
   "source": [
    "# Naϊve Bayes and Random Forest Modeling\n",
    "\n",
    "This notebook contains the code and details for Naïve Bayes and Random Forest modeling."
   ]
  },
  {
   "cell_type": "code",
   "execution_count": 1,
   "metadata": {},
   "outputs": [],
   "source": [
    "import warnings\n",
    "warnings.filterwarnings('ignore')"
   ]
  },
  {
   "cell_type": "code",
   "execution_count": 30,
   "metadata": {},
   "outputs": [],
   "source": [
    "# Import libraries\n",
    "import pandas as pd\n",
    "import numpy as np\n",
    "\n",
    "from pathlib import Path\n",
    "from imblearn.over_sampling import RandomOverSampler, SMOTE\n",
    "from imblearn.under_sampling import RandomUnderSampler\n",
    "from sklearn.dummy import DummyClassifier\n",
    "from sklearn.ensemble import RandomForestClassifier \n",
    "from sklearn.metrics import classification_report, accuracy_score, confusion_matrix\n",
    "from sklearn.model_selection import cross_val_score, train_test_split\n",
    "from sklearn.naive_bayes import CategoricalNB"
   ]
  },
  {
   "cell_type": "code",
   "execution_count": 3,
   "metadata": {},
   "outputs": [],
   "source": [
    "%run ../custom/jc-functions.ipynb"
   ]
  },
  {
   "cell_type": "markdown",
   "metadata": {},
   "source": [
    "## Prepare Dataset"
   ]
  },
  {
   "cell_type": "code",
   "execution_count": 4,
   "metadata": {},
   "outputs": [
    {
     "data": {
      "text/html": [
       "<div>\n",
       "<style scoped>\n",
       "    .dataframe tbody tr th:only-of-type {\n",
       "        vertical-align: middle;\n",
       "    }\n",
       "\n",
       "    .dataframe tbody tr th {\n",
       "        vertical-align: top;\n",
       "    }\n",
       "\n",
       "    .dataframe thead th {\n",
       "        text-align: right;\n",
       "    }\n",
       "</style>\n",
       "<table border=\"1\" class=\"dataframe\">\n",
       "  <thead>\n",
       "    <tr style=\"text-align: right;\">\n",
       "      <th></th>\n",
       "      <th>Area_accident_occured</th>\n",
       "      <th>Types_of_Junction</th>\n",
       "      <th>Light_conditions</th>\n",
       "      <th>Number_of_vehicles_involved</th>\n",
       "      <th>Number_of_casualties</th>\n",
       "      <th>Cause_of_accident</th>\n",
       "      <th>Day_of_week</th>\n",
       "      <th>Sex_of_driver</th>\n",
       "      <th>Age_band_of_driver</th>\n",
       "      <th>Accident_severity</th>\n",
       "    </tr>\n",
       "  </thead>\n",
       "  <tbody>\n",
       "    <tr>\n",
       "      <th>0</th>\n",
       "      <td>Residential areas</td>\n",
       "      <td>No junction</td>\n",
       "      <td>Daylight</td>\n",
       "      <td>2</td>\n",
       "      <td>2</td>\n",
       "      <td>Moving Backward</td>\n",
       "      <td>Monday</td>\n",
       "      <td>Male</td>\n",
       "      <td>18-30</td>\n",
       "      <td>Slight Injury</td>\n",
       "    </tr>\n",
       "    <tr>\n",
       "      <th>1</th>\n",
       "      <td>Office areas</td>\n",
       "      <td>No junction</td>\n",
       "      <td>Daylight</td>\n",
       "      <td>2</td>\n",
       "      <td>2</td>\n",
       "      <td>Overtaking</td>\n",
       "      <td>Monday</td>\n",
       "      <td>Male</td>\n",
       "      <td>31-50</td>\n",
       "      <td>Slight Injury</td>\n",
       "    </tr>\n",
       "    <tr>\n",
       "      <th>2</th>\n",
       "      <td>Recreational areas</td>\n",
       "      <td>No junction</td>\n",
       "      <td>Daylight</td>\n",
       "      <td>2</td>\n",
       "      <td>2</td>\n",
       "      <td>Changing lane to the left</td>\n",
       "      <td>Monday</td>\n",
       "      <td>Male</td>\n",
       "      <td>18-30</td>\n",
       "      <td>Serious Injury</td>\n",
       "    </tr>\n",
       "    <tr>\n",
       "      <th>3</th>\n",
       "      <td>Office areas</td>\n",
       "      <td>Y Shape</td>\n",
       "      <td>Darkness - lights lit</td>\n",
       "      <td>2</td>\n",
       "      <td>2</td>\n",
       "      <td>Changing lane to the right</td>\n",
       "      <td>Sunday</td>\n",
       "      <td>Male</td>\n",
       "      <td>18-30</td>\n",
       "      <td>Slight Injury</td>\n",
       "    </tr>\n",
       "    <tr>\n",
       "      <th>4</th>\n",
       "      <td>Industrial areas</td>\n",
       "      <td>Y Shape</td>\n",
       "      <td>Darkness - lights lit</td>\n",
       "      <td>2</td>\n",
       "      <td>2</td>\n",
       "      <td>Overtaking</td>\n",
       "      <td>Sunday</td>\n",
       "      <td>Male</td>\n",
       "      <td>18-30</td>\n",
       "      <td>Slight Injury</td>\n",
       "    </tr>\n",
       "  </tbody>\n",
       "</table>\n",
       "</div>"
      ],
      "text/plain": [
       "  Area_accident_occured Types_of_Junction       Light_conditions  \\\n",
       "0     Residential areas       No junction               Daylight   \n",
       "1          Office areas       No junction               Daylight   \n",
       "2    Recreational areas       No junction               Daylight   \n",
       "3          Office areas           Y Shape  Darkness - lights lit   \n",
       "4      Industrial areas           Y Shape  Darkness - lights lit   \n",
       "\n",
       "   Number_of_vehicles_involved  Number_of_casualties  \\\n",
       "0                            2                     2   \n",
       "1                            2                     2   \n",
       "2                            2                     2   \n",
       "3                            2                     2   \n",
       "4                            2                     2   \n",
       "\n",
       "            Cause_of_accident Day_of_week Sex_of_driver Age_band_of_driver  \\\n",
       "0             Moving Backward      Monday          Male              18-30   \n",
       "1                  Overtaking      Monday          Male              31-50   \n",
       "2   Changing lane to the left      Monday          Male              18-30   \n",
       "3  Changing lane to the right      Sunday          Male              18-30   \n",
       "4                  Overtaking      Sunday          Male              18-30   \n",
       "\n",
       "  Accident_severity  \n",
       "0     Slight Injury  \n",
       "1     Slight Injury  \n",
       "2    Serious Injury  \n",
       "3     Slight Injury  \n",
       "4     Slight Injury  "
      ]
     },
     "execution_count": 4,
     "metadata": {},
     "output_type": "execute_result"
    }
   ],
   "source": [
    "# Import training dataset \n",
    "dataset = Path('../dataset')\n",
    "df = pd.read_csv(dataset/'accidents_clean_train.csv')\n",
    "df.head()"
   ]
  },
  {
   "cell_type": "code",
   "execution_count": 5,
   "metadata": {},
   "outputs": [
    {
     "data": {
      "text/plain": [
       "(8210, 10)"
      ]
     },
     "execution_count": 5,
     "metadata": {},
     "output_type": "execute_result"
    }
   ],
   "source": [
    "df.shape"
   ]
  },
  {
   "cell_type": "code",
   "execution_count": 6,
   "metadata": {},
   "outputs": [
    {
     "name": "stdout",
     "output_type": "stream",
     "text": [
      "['Area_accident_occured', 'Types_of_Junction', 'Light_conditions', 'Number_of_vehicles_involved', 'Number_of_casualties', 'Cause_of_accident', 'Day_of_week', 'Sex_of_driver', 'Age_band_of_driver', 'Accident_severity']\n"
     ]
    }
   ],
   "source": [
    "# Get feature columns\n",
    "columns = df.columns.tolist()\n",
    "print(columns)\n",
    "\n",
    "features = ['Area_accident_occured', 'Types_of_Junction', 'Light_conditions', 'Number_of_vehicles_involved', 'Number_of_casualties', 'Cause_of_accident', 'Day_of_week', 'Sex_of_driver', 'Age_band_of_driver']\n",
    "\n",
    "target = 'Accident_severity'"
   ]
  },
  {
   "cell_type": "markdown",
   "metadata": {},
   "source": [
    "### Training dataset"
   ]
  },
  {
   "cell_type": "code",
   "execution_count": 7,
   "metadata": {},
   "outputs": [
    {
     "data": {
      "text/html": [
       "<div>\n",
       "<style scoped>\n",
       "    .dataframe tbody tr th:only-of-type {\n",
       "        vertical-align: middle;\n",
       "    }\n",
       "\n",
       "    .dataframe tbody tr th {\n",
       "        vertical-align: top;\n",
       "    }\n",
       "\n",
       "    .dataframe thead th {\n",
       "        text-align: right;\n",
       "    }\n",
       "</style>\n",
       "<table border=\"1\" class=\"dataframe\">\n",
       "  <thead>\n",
       "    <tr style=\"text-align: right;\">\n",
       "      <th></th>\n",
       "      <th>Number_of_vehicles_involved</th>\n",
       "      <th>Number_of_casualties</th>\n",
       "      <th>Area_accident_occured_  Recreational areas</th>\n",
       "      <th>Area_accident_occured_ Church areas</th>\n",
       "      <th>Area_accident_occured_ Hospital areas</th>\n",
       "      <th>Area_accident_occured_ Industrial areas</th>\n",
       "      <th>Area_accident_occured_ Outside rural areas</th>\n",
       "      <th>Area_accident_occured_Office areas</th>\n",
       "      <th>Area_accident_occured_Other</th>\n",
       "      <th>Area_accident_occured_Recreational areas</th>\n",
       "      <th>...</th>\n",
       "      <th>Day_of_week_Sunday</th>\n",
       "      <th>Day_of_week_Thursday</th>\n",
       "      <th>Day_of_week_Tuesday</th>\n",
       "      <th>Day_of_week_Wednesday</th>\n",
       "      <th>Sex_of_driver_Male</th>\n",
       "      <th>Sex_of_driver_Unknown</th>\n",
       "      <th>Age_band_of_driver_31-50</th>\n",
       "      <th>Age_band_of_driver_Over 51</th>\n",
       "      <th>Age_band_of_driver_Under 18</th>\n",
       "      <th>Age_band_of_driver_Unknown</th>\n",
       "    </tr>\n",
       "  </thead>\n",
       "  <tbody>\n",
       "    <tr>\n",
       "      <th>0</th>\n",
       "      <td>2</td>\n",
       "      <td>2</td>\n",
       "      <td>False</td>\n",
       "      <td>False</td>\n",
       "      <td>False</td>\n",
       "      <td>False</td>\n",
       "      <td>False</td>\n",
       "      <td>False</td>\n",
       "      <td>False</td>\n",
       "      <td>False</td>\n",
       "      <td>...</td>\n",
       "      <td>False</td>\n",
       "      <td>False</td>\n",
       "      <td>False</td>\n",
       "      <td>False</td>\n",
       "      <td>True</td>\n",
       "      <td>False</td>\n",
       "      <td>False</td>\n",
       "      <td>False</td>\n",
       "      <td>False</td>\n",
       "      <td>False</td>\n",
       "    </tr>\n",
       "    <tr>\n",
       "      <th>1</th>\n",
       "      <td>2</td>\n",
       "      <td>2</td>\n",
       "      <td>False</td>\n",
       "      <td>False</td>\n",
       "      <td>False</td>\n",
       "      <td>False</td>\n",
       "      <td>False</td>\n",
       "      <td>True</td>\n",
       "      <td>False</td>\n",
       "      <td>False</td>\n",
       "      <td>...</td>\n",
       "      <td>False</td>\n",
       "      <td>False</td>\n",
       "      <td>False</td>\n",
       "      <td>False</td>\n",
       "      <td>True</td>\n",
       "      <td>False</td>\n",
       "      <td>True</td>\n",
       "      <td>False</td>\n",
       "      <td>False</td>\n",
       "      <td>False</td>\n",
       "    </tr>\n",
       "    <tr>\n",
       "      <th>2</th>\n",
       "      <td>2</td>\n",
       "      <td>2</td>\n",
       "      <td>True</td>\n",
       "      <td>False</td>\n",
       "      <td>False</td>\n",
       "      <td>False</td>\n",
       "      <td>False</td>\n",
       "      <td>False</td>\n",
       "      <td>False</td>\n",
       "      <td>False</td>\n",
       "      <td>...</td>\n",
       "      <td>False</td>\n",
       "      <td>False</td>\n",
       "      <td>False</td>\n",
       "      <td>False</td>\n",
       "      <td>True</td>\n",
       "      <td>False</td>\n",
       "      <td>False</td>\n",
       "      <td>False</td>\n",
       "      <td>False</td>\n",
       "      <td>False</td>\n",
       "    </tr>\n",
       "    <tr>\n",
       "      <th>3</th>\n",
       "      <td>2</td>\n",
       "      <td>2</td>\n",
       "      <td>False</td>\n",
       "      <td>False</td>\n",
       "      <td>False</td>\n",
       "      <td>False</td>\n",
       "      <td>False</td>\n",
       "      <td>True</td>\n",
       "      <td>False</td>\n",
       "      <td>False</td>\n",
       "      <td>...</td>\n",
       "      <td>True</td>\n",
       "      <td>False</td>\n",
       "      <td>False</td>\n",
       "      <td>False</td>\n",
       "      <td>True</td>\n",
       "      <td>False</td>\n",
       "      <td>False</td>\n",
       "      <td>False</td>\n",
       "      <td>False</td>\n",
       "      <td>False</td>\n",
       "    </tr>\n",
       "    <tr>\n",
       "      <th>4</th>\n",
       "      <td>2</td>\n",
       "      <td>2</td>\n",
       "      <td>False</td>\n",
       "      <td>False</td>\n",
       "      <td>False</td>\n",
       "      <td>True</td>\n",
       "      <td>False</td>\n",
       "      <td>False</td>\n",
       "      <td>False</td>\n",
       "      <td>False</td>\n",
       "      <td>...</td>\n",
       "      <td>True</td>\n",
       "      <td>False</td>\n",
       "      <td>False</td>\n",
       "      <td>False</td>\n",
       "      <td>True</td>\n",
       "      <td>False</td>\n",
       "      <td>False</td>\n",
       "      <td>False</td>\n",
       "      <td>False</td>\n",
       "      <td>False</td>\n",
       "    </tr>\n",
       "  </tbody>\n",
       "</table>\n",
       "<p>5 rows × 56 columns</p>\n",
       "</div>"
      ],
      "text/plain": [
       "   Number_of_vehicles_involved  Number_of_casualties  \\\n",
       "0                            2                     2   \n",
       "1                            2                     2   \n",
       "2                            2                     2   \n",
       "3                            2                     2   \n",
       "4                            2                     2   \n",
       "\n",
       "   Area_accident_occured_  Recreational areas  \\\n",
       "0                                       False   \n",
       "1                                       False   \n",
       "2                                        True   \n",
       "3                                       False   \n",
       "4                                       False   \n",
       "\n",
       "   Area_accident_occured_ Church areas  Area_accident_occured_ Hospital areas  \\\n",
       "0                                False                                  False   \n",
       "1                                False                                  False   \n",
       "2                                False                                  False   \n",
       "3                                False                                  False   \n",
       "4                                False                                  False   \n",
       "\n",
       "   Area_accident_occured_ Industrial areas  \\\n",
       "0                                    False   \n",
       "1                                    False   \n",
       "2                                    False   \n",
       "3                                    False   \n",
       "4                                     True   \n",
       "\n",
       "   Area_accident_occured_ Outside rural areas  \\\n",
       "0                                       False   \n",
       "1                                       False   \n",
       "2                                       False   \n",
       "3                                       False   \n",
       "4                                       False   \n",
       "\n",
       "   Area_accident_occured_Office areas  Area_accident_occured_Other  \\\n",
       "0                               False                        False   \n",
       "1                                True                        False   \n",
       "2                               False                        False   \n",
       "3                                True                        False   \n",
       "4                               False                        False   \n",
       "\n",
       "   Area_accident_occured_Recreational areas  ...  Day_of_week_Sunday  \\\n",
       "0                                     False  ...               False   \n",
       "1                                     False  ...               False   \n",
       "2                                     False  ...               False   \n",
       "3                                     False  ...                True   \n",
       "4                                     False  ...                True   \n",
       "\n",
       "   Day_of_week_Thursday  Day_of_week_Tuesday  Day_of_week_Wednesday  \\\n",
       "0                 False                False                  False   \n",
       "1                 False                False                  False   \n",
       "2                 False                False                  False   \n",
       "3                 False                False                  False   \n",
       "4                 False                False                  False   \n",
       "\n",
       "   Sex_of_driver_Male  Sex_of_driver_Unknown  Age_band_of_driver_31-50  \\\n",
       "0                True                  False                     False   \n",
       "1                True                  False                      True   \n",
       "2                True                  False                     False   \n",
       "3                True                  False                     False   \n",
       "4                True                  False                     False   \n",
       "\n",
       "   Age_band_of_driver_Over 51  Age_band_of_driver_Under 18  \\\n",
       "0                       False                        False   \n",
       "1                       False                        False   \n",
       "2                       False                        False   \n",
       "3                       False                        False   \n",
       "4                       False                        False   \n",
       "\n",
       "   Age_band_of_driver_Unknown  \n",
       "0                       False  \n",
       "1                       False  \n",
       "2                       False  \n",
       "3                       False  \n",
       "4                       False  \n",
       "\n",
       "[5 rows x 56 columns]"
      ]
     },
     "execution_count": 7,
     "metadata": {},
     "output_type": "execute_result"
    }
   ],
   "source": [
    "# Convert to categorical\n",
    "X = df[features]\n",
    "X = pd.get_dummies(X, drop_first=True)\n",
    "X.head()"
   ]
  },
  {
   "cell_type": "code",
   "execution_count": 8,
   "metadata": {},
   "outputs": [
    {
     "data": {
      "text/html": [
       "<div>\n",
       "<style scoped>\n",
       "    .dataframe tbody tr th:only-of-type {\n",
       "        vertical-align: middle;\n",
       "    }\n",
       "\n",
       "    .dataframe tbody tr th {\n",
       "        vertical-align: top;\n",
       "    }\n",
       "\n",
       "    .dataframe thead th {\n",
       "        text-align: right;\n",
       "    }\n",
       "</style>\n",
       "<table border=\"1\" class=\"dataframe\">\n",
       "  <thead>\n",
       "    <tr style=\"text-align: right;\">\n",
       "      <th></th>\n",
       "      <th>Area_accident_occured</th>\n",
       "      <th>Types_of_Junction</th>\n",
       "      <th>Light_conditions</th>\n",
       "      <th>Number_of_vehicles_involved</th>\n",
       "      <th>Number_of_casualties</th>\n",
       "      <th>Cause_of_accident</th>\n",
       "      <th>Day_of_week</th>\n",
       "      <th>Sex_of_driver</th>\n",
       "      <th>Age_band_of_driver</th>\n",
       "      <th>Accident_severity</th>\n",
       "      <th>Accident_slight</th>\n",
       "      <th>Accident_serious</th>\n",
       "      <th>Accident_severity_mapped</th>\n",
       "    </tr>\n",
       "  </thead>\n",
       "  <tbody>\n",
       "    <tr>\n",
       "      <th>0</th>\n",
       "      <td>Residential areas</td>\n",
       "      <td>No junction</td>\n",
       "      <td>Daylight</td>\n",
       "      <td>2</td>\n",
       "      <td>2</td>\n",
       "      <td>Moving Backward</td>\n",
       "      <td>Monday</td>\n",
       "      <td>Male</td>\n",
       "      <td>18-30</td>\n",
       "      <td>Slight Injury</td>\n",
       "      <td>0</td>\n",
       "      <td>1</td>\n",
       "      <td>1</td>\n",
       "    </tr>\n",
       "    <tr>\n",
       "      <th>1</th>\n",
       "      <td>Office areas</td>\n",
       "      <td>No junction</td>\n",
       "      <td>Daylight</td>\n",
       "      <td>2</td>\n",
       "      <td>2</td>\n",
       "      <td>Overtaking</td>\n",
       "      <td>Monday</td>\n",
       "      <td>Male</td>\n",
       "      <td>31-50</td>\n",
       "      <td>Slight Injury</td>\n",
       "      <td>0</td>\n",
       "      <td>1</td>\n",
       "      <td>1</td>\n",
       "    </tr>\n",
       "    <tr>\n",
       "      <th>2</th>\n",
       "      <td>Recreational areas</td>\n",
       "      <td>No junction</td>\n",
       "      <td>Daylight</td>\n",
       "      <td>2</td>\n",
       "      <td>2</td>\n",
       "      <td>Changing lane to the left</td>\n",
       "      <td>Monday</td>\n",
       "      <td>Male</td>\n",
       "      <td>18-30</td>\n",
       "      <td>Serious Injury</td>\n",
       "      <td>1</td>\n",
       "      <td>0</td>\n",
       "      <td>0</td>\n",
       "    </tr>\n",
       "    <tr>\n",
       "      <th>3</th>\n",
       "      <td>Office areas</td>\n",
       "      <td>Y Shape</td>\n",
       "      <td>Darkness - lights lit</td>\n",
       "      <td>2</td>\n",
       "      <td>2</td>\n",
       "      <td>Changing lane to the right</td>\n",
       "      <td>Sunday</td>\n",
       "      <td>Male</td>\n",
       "      <td>18-30</td>\n",
       "      <td>Slight Injury</td>\n",
       "      <td>0</td>\n",
       "      <td>1</td>\n",
       "      <td>1</td>\n",
       "    </tr>\n",
       "    <tr>\n",
       "      <th>4</th>\n",
       "      <td>Industrial areas</td>\n",
       "      <td>Y Shape</td>\n",
       "      <td>Darkness - lights lit</td>\n",
       "      <td>2</td>\n",
       "      <td>2</td>\n",
       "      <td>Overtaking</td>\n",
       "      <td>Sunday</td>\n",
       "      <td>Male</td>\n",
       "      <td>18-30</td>\n",
       "      <td>Slight Injury</td>\n",
       "      <td>0</td>\n",
       "      <td>1</td>\n",
       "      <td>1</td>\n",
       "    </tr>\n",
       "  </tbody>\n",
       "</table>\n",
       "</div>"
      ],
      "text/plain": [
       "  Area_accident_occured Types_of_Junction       Light_conditions  \\\n",
       "0     Residential areas       No junction               Daylight   \n",
       "1          Office areas       No junction               Daylight   \n",
       "2    Recreational areas       No junction               Daylight   \n",
       "3          Office areas           Y Shape  Darkness - lights lit   \n",
       "4      Industrial areas           Y Shape  Darkness - lights lit   \n",
       "\n",
       "   Number_of_vehicles_involved  Number_of_casualties  \\\n",
       "0                            2                     2   \n",
       "1                            2                     2   \n",
       "2                            2                     2   \n",
       "3                            2                     2   \n",
       "4                            2                     2   \n",
       "\n",
       "            Cause_of_accident Day_of_week Sex_of_driver Age_band_of_driver  \\\n",
       "0             Moving Backward      Monday          Male              18-30   \n",
       "1                  Overtaking      Monday          Male              31-50   \n",
       "2   Changing lane to the left      Monday          Male              18-30   \n",
       "3  Changing lane to the right      Sunday          Male              18-30   \n",
       "4                  Overtaking      Sunday          Male              18-30   \n",
       "\n",
       "  Accident_severity  Accident_slight  Accident_serious  \\\n",
       "0     Slight Injury                0                 1   \n",
       "1     Slight Injury                0                 1   \n",
       "2    Serious Injury                1                 0   \n",
       "3     Slight Injury                0                 1   \n",
       "4     Slight Injury                0                 1   \n",
       "\n",
       "   Accident_severity_mapped  \n",
       "0                         1  \n",
       "1                         1  \n",
       "2                         0  \n",
       "3                         1  \n",
       "4                         1  "
      ]
     },
     "execution_count": 8,
     "metadata": {},
     "output_type": "execute_result"
    }
   ],
   "source": [
    "# Create mapped columns of target\n",
    "df['Accident_slight'] = df[target].map(\n",
    "    {'Slight Injury': 0}\n",
    "    ).fillna(1).astype(int)\n",
    "df['Accident_serious'] = df[target].map(\n",
    "    {'Serious Injury': 0}\n",
    "    ).fillna(1).astype(int)\n",
    "df['Accident_severity_mapped'] = df[target].map({\n",
    "    'Serious Injury': 0, \n",
    "    'Slight Injury': 1, \n",
    "    'Fatal injury': 2\n",
    "    })\n",
    "\n",
    "df.head()"
   ]
  },
  {
   "cell_type": "code",
   "execution_count": 9,
   "metadata": {},
   "outputs": [
    {
     "data": {
      "text/plain": [
       "(8210, 13)"
      ]
     },
     "execution_count": 9,
     "metadata": {},
     "output_type": "execute_result"
    }
   ],
   "source": [
    "df.shape"
   ]
  },
  {
   "cell_type": "code",
   "execution_count": 10,
   "metadata": {},
   "outputs": [],
   "source": [
    "y = df[target]\n",
    "y_mapped = df['Accident_severity_mapped']\n",
    "y_slight = df['Accident_slight']\n",
    "y_serious = df['Accident_serious']"
   ]
  },
  {
   "cell_type": "markdown",
   "metadata": {},
   "source": [
    "## Modeling using Naϊve Bayes"
   ]
  },
  {
   "cell_type": "markdown",
   "metadata": {},
   "source": [
    "### Accident Severity: Slight Injury (1) vs. Serious Injury (0) vs. Fatal Injury (2)"
   ]
  },
  {
   "cell_type": "code",
   "execution_count": 11,
   "metadata": {},
   "outputs": [],
   "source": [
    "def nb_report(test, pred):\n",
    "    print(\"Accuracy: \", accuracy_score(test, pred))\n",
    "    print(\"Confusion Matrix:\\n\", confusion_matrix(test, pred))\n",
    "    print(\"Classification Report:\\n\", classification_report(test, pred))"
   ]
  },
  {
   "cell_type": "code",
   "execution_count": 12,
   "metadata": {},
   "outputs": [],
   "source": [
    "def cross_scores(score):\n",
    "    print(\"Cross-validation scores: \", score)\n",
    "    print(\"Average score: \", score.mean())"
   ]
  },
  {
   "cell_type": "code",
   "execution_count": 13,
   "metadata": {},
   "outputs": [
    {
     "name": "stdout",
     "output_type": "stream",
     "text": [
      "Accuracy:  0.857896873731222\n",
      "Confusion Matrix:\n",
      " [[   2  327    1]\n",
      " [   0 2110    1]\n",
      " [   0   21    1]]\n",
      "Classification Report:\n",
      "               precision    recall  f1-score   support\n",
      "\n",
      "           0       1.00      0.01      0.01       330\n",
      "           1       0.86      1.00      0.92      2111\n",
      "           2       0.33      0.05      0.08        22\n",
      "\n",
      "    accuracy                           0.86      2463\n",
      "   macro avg       0.73      0.35      0.34      2463\n",
      "weighted avg       0.87      0.86      0.79      2463\n",
      "\n",
      "Cross-validation scores:  [0.85801217 0.85801217 0.85395538 0.8597561  0.85772358]\n",
      "Average score:  0.8574918781642177\n"
     ]
    }
   ],
   "source": [
    "# Split testing data\n",
    "X_train, X_test, y_train, y_test = train_test_split(X, y_mapped,\n",
    "                                                    test_size=0.3,\n",
    "                                                    random_state=42)\n",
    "# Train model\n",
    "nb_model = CategoricalNB()\n",
    "nb_model.fit(X_train, y_train)\n",
    "# Create predictions\n",
    "y_pred = nb_model.predict(X_test)\n",
    "\n",
    "nb_report(y_test, y_pred)\n",
    "\n",
    "score = cross_val_score(nb_model, X_test, y_test, cv=5)\n",
    "cross_scores(score)"
   ]
  },
  {
   "cell_type": "markdown",
   "metadata": {},
   "source": [
    "### Accident Severity: Slight Injury (0) vs Serious Injury/Fatal Injury (1)"
   ]
  },
  {
   "cell_type": "code",
   "execution_count": 14,
   "metadata": {},
   "outputs": [
    {
     "name": "stdout",
     "output_type": "stream",
     "text": [
      "Accuracy:  0.8591149005278116\n",
      "Confusion Matrix:\n",
      " [[2111    0]\n",
      " [ 347    5]]\n",
      "Classification Report:\n",
      "               precision    recall  f1-score   support\n",
      "\n",
      "           0       0.86      1.00      0.92      2111\n",
      "           1       1.00      0.01      0.03       352\n",
      "\n",
      "    accuracy                           0.86      2463\n",
      "   macro avg       0.93      0.51      0.48      2463\n",
      "weighted avg       0.88      0.86      0.80      2463\n",
      "\n",
      "Cross-validation scores:  [0.85425101 0.86234818 0.8582996  0.85365854 0.86178862 0.85365854\n",
      " 0.85772358 0.86178862 0.85772358 0.85772358]\n",
      "Average score:  0.8578963826075506\n"
     ]
    }
   ],
   "source": [
    "# Split testing data\n",
    "X_train, X_test, y_train, y_test = train_test_split(X, y_slight,\n",
    "                                                    test_size=0.3,\n",
    "                                                    random_state=42)\n",
    "# Train model\n",
    "nb_model_slight = CategoricalNB()\n",
    "nb_model_slight.fit(X_train, y_train)\n",
    "\n",
    "# Create prediction\n",
    "y_pred_slight = nb_model_slight.predict(X_test)\n",
    "nb_report(y_test, y_pred_slight)\n",
    "\n",
    "score_slight = cross_val_score(nb_model_slight, X_test, y_test, cv=10)\n",
    "cross_scores(score_slight)"
   ]
  },
  {
   "cell_type": "markdown",
   "metadata": {},
   "source": [
    "### Accident Severity: Slight/Fatal Injury (1) vs Serious Injury (0)"
   ]
  },
  {
   "cell_type": "code",
   "execution_count": 15,
   "metadata": {},
   "outputs": [
    {
     "name": "stdout",
     "output_type": "stream",
     "text": [
      "Accuracy:  0.8672350791717418\n",
      "Confusion Matrix:\n",
      " [[   3  327]\n",
      " [   0 2133]]\n",
      "Classification Report:\n",
      "               precision    recall  f1-score   support\n",
      "\n",
      "           0       1.00      0.01      0.02       330\n",
      "           1       0.87      1.00      0.93      2133\n",
      "\n",
      "    accuracy                           0.87      2463\n",
      "   macro avg       0.93      0.50      0.47      2463\n",
      "weighted avg       0.88      0.87      0.81      2463\n",
      "\n",
      "Cross-validation scores:  [0.86612576 0.86815416 0.86409736 0.86788618 0.86585366]\n",
      "Average score:  0.8664234238691272\n"
     ]
    }
   ],
   "source": [
    "# Split testing data\n",
    "X_train, X_test, y_train, y_test = train_test_split(X, y_serious,\n",
    "                                                    test_size=0.3,\n",
    "                                                    random_state=42)\n",
    "# Train model\n",
    "nb_model_serious = CategoricalNB()\n",
    "nb_model_serious.fit(X_train, y_train)\n",
    "\n",
    "# Create prediction\n",
    "y_pred_serious = nb_model_serious.predict(X_test)\n",
    "nb_report(y_test, y_pred_serious)\n",
    "\n",
    "score_serious = cross_val_score(nb_model_serious, X_test, y_test, cv=5)\n",
    "cross_scores(score_serious)"
   ]
  },
  {
   "cell_type": "markdown",
   "metadata": {},
   "source": [
    "## Resample Target Data"
   ]
  },
  {
   "cell_type": "markdown",
   "metadata": {},
   "source": [
    "### Accident Severity: Slight Injury (1) vs. Serious Injury (0) vs. Fatal Injury (2)"
   ]
  },
  {
   "cell_type": "code",
   "execution_count": 16,
   "metadata": {},
   "outputs": [
    {
     "name": "stdout",
     "output_type": "stream",
     "text": [
      "Accident_severity_mapped\n",
      "1    7082\n",
      "0    7082\n",
      "2    7082\n",
      "Name: count, dtype: int64\n",
      "Accuracy:  0.5258864135550675\n",
      "Confusion Matrix:\n",
      " [[ 831  865  471]\n",
      " [ 578 1118  420]\n",
      " [ 352  336 1403]]\n",
      "Classification Report:\n",
      "               precision    recall  f1-score   support\n",
      "\n",
      "           0       0.47      0.38      0.42      2167\n",
      "           1       0.48      0.53      0.50      2116\n",
      "           2       0.61      0.67      0.64      2091\n",
      "\n",
      "    accuracy                           0.53      6374\n",
      "   macro avg       0.52      0.53      0.52      6374\n",
      "weighted avg       0.52      0.53      0.52      6374\n",
      "\n",
      "Cross-validation scores:  [       nan 0.54117647 0.51921569        nan 0.50784929]\n",
      "Average score:  nan\n"
     ]
    }
   ],
   "source": [
    "oversample = RandomOverSampler(random_state=42)\n",
    "\n",
    "X_resampled, y_resampled = oversample.fit_resample(X, y_mapped)\n",
    "# Check distribution\n",
    "print(y_resampled.value_counts())\n",
    "\n",
    "# Split testing data\n",
    "X_train, X_test, y_train, y_test = train_test_split(X_resampled, y_resampled,\n",
    "                                                    test_size=0.3,\n",
    "                                                    random_state=42)\n",
    "# Train model\n",
    "nb_model_serious = CategoricalNB()\n",
    "nb_model_serious.fit(X_train, y_train)\n",
    "\n",
    "# Create prediction\n",
    "y_pred_serious = nb_model_serious.predict(X_test)\n",
    "nb_report(y_test, y_pred_serious)\n",
    "\n",
    "score_serious = cross_val_score(nb_model_serious, X_test, y_test, cv=5)\n",
    "cross_scores(score_serious)"
   ]
  },
  {
   "cell_type": "markdown",
   "metadata": {},
   "source": [
    "### Accident Severity: Slight Injury (0) vs Serious Injury/Fatal Injury (1)"
   ]
  },
  {
   "cell_type": "code",
   "execution_count": 17,
   "metadata": {},
   "outputs": [
    {
     "name": "stdout",
     "output_type": "stream",
     "text": [
      "Accident_slight\n",
      "0    7082\n",
      "1    7082\n",
      "Name: count, dtype: int64\n",
      "Accuracy:  0.576\n",
      "Confusion Matrix:\n",
      " [[1306  825]\n",
      " [ 977 1142]]\n",
      "Classification Report:\n",
      "               precision    recall  f1-score   support\n",
      "\n",
      "           0       0.57      0.61      0.59      2131\n",
      "           1       0.58      0.54      0.56      2119\n",
      "\n",
      "    accuracy                           0.58      4250\n",
      "   macro avg       0.58      0.58      0.58      4250\n",
      "weighted avg       0.58      0.58      0.58      4250\n",
      "\n",
      "Cross-validation scores:  [0.59294118        nan        nan 0.59764706 0.55176471]\n",
      "Average score:  nan\n"
     ]
    }
   ],
   "source": [
    "X_resampled, y_resampled = oversample.fit_resample(X, y_slight)\n",
    "# Check distribution\n",
    "print(y_resampled.value_counts())\n",
    "\n",
    "# Split testing data\n",
    "X_train, X_test, y_train, y_test = train_test_split(X_resampled, y_resampled,\n",
    "                                                    test_size=0.3,\n",
    "                                                    random_state=42)\n",
    "# Train model\n",
    "nb_model_serious = CategoricalNB()\n",
    "nb_model_serious.fit(X_train, y_train)\n",
    "\n",
    "# Create prediction\n",
    "y_pred_serious = nb_model_serious.predict(X_test)\n",
    "nb_report(y_test, y_pred_serious)\n",
    "\n",
    "score_serious = cross_val_score(nb_model_serious, X_test, y_test, cv=5)\n",
    "cross_scores(score_serious)"
   ]
  },
  {
   "cell_type": "markdown",
   "metadata": {},
   "source": [
    "### Accident Severity: Slight/Fatal Injury (1) vs Serious Injury (0)"
   ]
  },
  {
   "cell_type": "code",
   "execution_count": 18,
   "metadata": {},
   "outputs": [
    {
     "name": "stdout",
     "output_type": "stream",
     "text": [
      "Accident_serious\n",
      "1    7164\n",
      "0    7164\n",
      "Name: count, dtype: int64\n",
      "Accuracy:  0.5796696906257269\n",
      "Confusion Matrix:\n",
      " [[1092 1073]\n",
      " [ 734 1400]]\n",
      "Classification Report:\n",
      "               precision    recall  f1-score   support\n",
      "\n",
      "           0       0.60      0.50      0.55      2165\n",
      "           1       0.57      0.66      0.61      2134\n",
      "\n",
      "    accuracy                           0.58      4299\n",
      "   macro avg       0.58      0.58      0.58      4299\n",
      "weighted avg       0.58      0.58      0.58      4299\n",
      "\n",
      "Cross-validation scores:  [       nan 0.59767442        nan 0.55930233 0.56111758]\n",
      "Average score:  nan\n"
     ]
    }
   ],
   "source": [
    "X_resampled, y_resampled = oversample.fit_resample(X, y_serious)\n",
    "# Check distribution\n",
    "print(y_resampled.value_counts())\n",
    "\n",
    "# Split testing data\n",
    "X_train, X_test, y_train, y_test = train_test_split(X_resampled, y_resampled,\n",
    "                                                    test_size=0.3,\n",
    "                                                    random_state=42)\n",
    "# Train model\n",
    "nb_model_serious = CategoricalNB()\n",
    "nb_model_serious.fit(X_train, y_train)\n",
    "\n",
    "# Create prediction\n",
    "y_pred_serious = nb_model_serious.predict(X_test)\n",
    "nb_report(y_test, y_pred_serious)\n",
    "\n",
    "score_serious = cross_val_score(nb_model_serious, X_test, y_test, cv=5)\n",
    "cross_scores(score_serious)"
   ]
  },
  {
   "cell_type": "markdown",
   "metadata": {},
   "source": [
    "### Analysis of Results"
   ]
  },
  {
   "cell_type": "markdown",
   "metadata": {},
   "source": [
    "#### Target: Slight Injury (1) vs Serious Injury (0) vs. Fatal Injury (2)\n",
    "\n",
    "Accuracy: 86%\n",
    "Precision Serious Injury: 100%\n",
    "Recall: 1%\n",
    "\n",
    "##### Resampled\n",
    "\n",
    "Accuracy: 53%\n",
    "Precision Serious Injury: 47%\n",
    "Recall: 38%"
   ]
  },
  {
   "cell_type": "markdown",
   "metadata": {},
   "source": [
    "#### Target: Slight Injury (0) vs Serious Injury/Fatal Injury (1)\n",
    "\n",
    "Accuracy: 86%\n",
    "Precision: 100%\n",
    "Recall: 1%\n",
    "\n",
    "##### Resampled\n",
    "\n",
    "Accuracy: 58%\n",
    "Precision Serious Injury: 58%\n",
    "Recall: 61%"
   ]
  },
  {
   "cell_type": "markdown",
   "metadata": {},
   "source": [
    "#### Target: Slight/Fatal Injury (1) vs Serious Injury (0)\n",
    "\n",
    "Accuracy: 87%\n",
    "Precision: 100%\n",
    "Recall: 1%\n",
    "\n",
    "##### Resampled\n",
    "\n",
    "Accuracy: 58%\n",
    "Precision Serious Injury: 60%\n",
    "Recall: 50%"
   ]
  },
  {
   "cell_type": "markdown",
   "metadata": {},
   "source": [
    "A successful model would have 85% accuracy and precision of 90%. \n",
    "Unfortunately, these models do not fit the criteria. \n",
    "\n"
   ]
  },
  {
   "cell_type": "markdown",
   "metadata": {},
   "source": [
    "## Modeling Using Random Forest"
   ]
  },
  {
   "cell_type": "markdown",
   "metadata": {},
   "source": [
    "### Accident Severity: Slight Injury (1) vs. Serious Injury (0) vs. Fatal Injury (2)"
   ]
  },
  {
   "cell_type": "code",
   "execution_count": 19,
   "metadata": {},
   "outputs": [
    {
     "name": "stdout",
     "output_type": "stream",
     "text": [
      "Accuracy:  0.8501827040194885\n",
      "Confusion Matrix:\n",
      " [[  32  297    1]\n",
      " [  46 2062    3]\n",
      " [   1   21    0]]\n",
      "Classification Report:\n",
      "               precision    recall  f1-score   support\n",
      "\n",
      "           0       0.41      0.10      0.16       330\n",
      "           1       0.87      0.98      0.92      2111\n",
      "           2       0.00      0.00      0.00        22\n",
      "\n",
      "    accuracy                           0.85      2463\n",
      "   macro avg       0.42      0.36      0.36      2463\n",
      "weighted avg       0.80      0.85      0.81      2463\n",
      "\n"
     ]
    }
   ],
   "source": [
    "# Split model\n",
    "X_train, X_test, y_train, y_test = train_test_split(X, y_mapped, test_size=0.3, \n",
    "                                                    random_state=42)\n",
    "\n",
    "# Initialize model\n",
    "rf_model = RandomForestClassifier(n_estimators=100, random_state=84)\n",
    "\n",
    "# Train\n",
    "rf_model.fit(X_train, y_train)\n",
    "# Predict\n",
    "y_pred = rf_model.predict(X_test)\n",
    "nb_report(y_test, y_pred)"
   ]
  },
  {
   "cell_type": "code",
   "execution_count": 20,
   "metadata": {},
   "outputs": [
    {
     "name": "stdout",
     "output_type": "stream",
     "text": [
      "Accuracy:  0.8505887129516849\n",
      "Confusion Matrix:\n",
      " [[   1    1   20]\n",
      " [   1   32  297]\n",
      " [   3   46 2062]]\n",
      "Classification Report:\n",
      "                 precision    recall  f1-score   support\n",
      "\n",
      "  Fatal injury       0.20      0.05      0.07        22\n",
      "Serious Injury       0.41      0.10      0.16       330\n",
      " Slight Injury       0.87      0.98      0.92      2111\n",
      "\n",
      "      accuracy                           0.85      2463\n",
      "     macro avg       0.49      0.37      0.38      2463\n",
      "  weighted avg       0.80      0.85      0.81      2463\n",
      "\n"
     ]
    }
   ],
   "source": [
    "# Split model / Unmapped\n",
    "X_train, X_test, y_train, y_test = train_test_split(X, y, test_size=0.3, \n",
    "                                                    random_state=42)\n",
    "\n",
    "# Initialize model\n",
    "rf_model = RandomForestClassifier(n_estimators=100, random_state=84)\n",
    "\n",
    "# Train\n",
    "rf_model.fit(X_train, y_train)\n",
    "# Predict\n",
    "y_pred = rf_model.predict(X_test)\n",
    "nb_report(y_test, y_pred)"
   ]
  },
  {
   "cell_type": "markdown",
   "metadata": {},
   "source": [
    "### Accident Severity: Slight Injury (0) vs Serious Injury/Fatal Injury (1)"
   ]
  },
  {
   "cell_type": "code",
   "execution_count": 21,
   "metadata": {},
   "outputs": [
    {
     "name": "stdout",
     "output_type": "stream",
     "text": [
      "Accuracy:  0.8518067397482745\n",
      "Confusion Matrix:\n",
      " [[2058   53]\n",
      " [ 312   40]]\n",
      "Classification Report:\n",
      "               precision    recall  f1-score   support\n",
      "\n",
      "           0       0.87      0.97      0.92      2111\n",
      "           1       0.43      0.11      0.18       352\n",
      "\n",
      "    accuracy                           0.85      2463\n",
      "   macro avg       0.65      0.54      0.55      2463\n",
      "weighted avg       0.81      0.85      0.81      2463\n",
      "\n"
     ]
    }
   ],
   "source": [
    "# Split model\n",
    "X_train, X_test, y_train, y_test = train_test_split(X, y_slight, test_size=0.3, \n",
    "                                                    random_state=42)\n",
    "\n",
    "# Initialize model\n",
    "rf_model_slight = RandomForestClassifier(n_estimators=100, random_state=84)\n",
    "\n",
    "# Train\n",
    "rf_model_slight.fit(X_train, y_train)\n",
    "# Predict\n",
    "y_pred = rf_model_slight.predict(X_test)\n",
    "nb_report(y_test, y_pred)"
   ]
  },
  {
   "cell_type": "markdown",
   "metadata": {},
   "source": [
    "### Accident Severity: Slight/Fatal Injury (1) vs Serious Injury (0)"
   ]
  },
  {
   "cell_type": "code",
   "execution_count": 22,
   "metadata": {},
   "outputs": [
    {
     "name": "stdout",
     "output_type": "stream",
     "text": [
      "Accuracy:  0.8587088915956151\n",
      "Confusion Matrix:\n",
      " [[  28  302]\n",
      " [  46 2087]]\n",
      "Classification Report:\n",
      "               precision    recall  f1-score   support\n",
      "\n",
      "           0       0.38      0.08      0.14       330\n",
      "           1       0.87      0.98      0.92      2133\n",
      "\n",
      "    accuracy                           0.86      2463\n",
      "   macro avg       0.63      0.53      0.53      2463\n",
      "weighted avg       0.81      0.86      0.82      2463\n",
      "\n"
     ]
    }
   ],
   "source": [
    "# Split model\n",
    "X_train, X_test, y_train, y_test = train_test_split(X, y_serious, test_size=0.3, \n",
    "                                                    random_state=42)\n",
    "\n",
    "# Initialize model\n",
    "rf_model_serious = RandomForestClassifier(n_estimators=100, random_state=84)\n",
    "\n",
    "# Train\n",
    "rf_model_serious.fit(X_train, y_train)\n",
    "# Predict\n",
    "y_pred = rf_model_serious.predict(X_test)\n",
    "nb_report(y_test, y_pred)"
   ]
  },
  {
   "cell_type": "markdown",
   "metadata": {},
   "source": [
    "## Resample Target Data"
   ]
  },
  {
   "cell_type": "markdown",
   "metadata": {},
   "source": [
    "### Accident Severity: Slight Injury (1) vs. Serious Injury (0) vs. Fatal Injury (2)"
   ]
  },
  {
   "cell_type": "code",
   "execution_count": 23,
   "metadata": {},
   "outputs": [
    {
     "name": "stdout",
     "output_type": "stream",
     "text": [
      "Accident_severity_mapped\n",
      "1    7082\n",
      "0    7082\n",
      "2    7082\n",
      "Name: count, dtype: int64\n",
      "Accuracy:  0.9590524003765296\n",
      "Confusion Matrix:\n",
      " [[2120   40    7]\n",
      " [ 206 1902    8]\n",
      " [   0    0 2091]]\n",
      "Classification Report:\n",
      "               precision    recall  f1-score   support\n",
      "\n",
      "           0       0.91      0.98      0.94      2167\n",
      "           1       0.98      0.90      0.94      2116\n",
      "           2       0.99      1.00      1.00      2091\n",
      "\n",
      "    accuracy                           0.96      6374\n",
      "   macro avg       0.96      0.96      0.96      6374\n",
      "weighted avg       0.96      0.96      0.96      6374\n",
      "\n",
      "Cross-validation scores:  [0.88941176 0.86588235 0.88       0.86509804 0.88304553]\n",
      "Average score:  0.8766875365530827\n"
     ]
    }
   ],
   "source": [
    "oversample = RandomOverSampler(random_state=42)\n",
    "\n",
    "X_resampled, y_resampled = oversample.fit_resample(X, y_mapped)\n",
    "# Check distribution\n",
    "print(y_resampled.value_counts())\n",
    "\n",
    "# Split testing data\n",
    "X_train, X_test, y_train, y_test = train_test_split(X_resampled, y_resampled,\n",
    "                                                    test_size=0.3,\n",
    "                                                    random_state=42)\n",
    "# Train model\n",
    "rf_model_rs = RandomForestClassifier()\n",
    "rf_model_rs.fit(X_train, y_train)\n",
    "\n",
    "# Create prediction\n",
    "y_pred_rs = rf_model_rs.predict(X_test)\n",
    "nb_report(y_test, y_pred_rs)\n",
    "\n",
    "score_serious = cross_val_score(rf_model_rs, X_test, y_test, cv=5)\n",
    "cross_scores(score_serious)"
   ]
  },
  {
   "cell_type": "code",
   "execution_count": 24,
   "metadata": {},
   "outputs": [
    {
     "name": "stdout",
     "output_type": "stream",
     "text": [
      "Confusion Matrix:\n",
      "[[2120   40    7]\n",
      " [ 206 1902    8]\n",
      " [   0    0 2091]]\n"
     ]
    },
    {
     "data": {
      "text/html": [
       "<div>\n",
       "<style scoped>\n",
       "    .dataframe tbody tr th:only-of-type {\n",
       "        vertical-align: middle;\n",
       "    }\n",
       "\n",
       "    .dataframe tbody tr th {\n",
       "        vertical-align: top;\n",
       "    }\n",
       "\n",
       "    .dataframe thead th {\n",
       "        text-align: right;\n",
       "    }\n",
       "</style>\n",
       "<table border=\"1\" class=\"dataframe\">\n",
       "  <thead>\n",
       "    <tr style=\"text-align: right;\">\n",
       "      <th></th>\n",
       "      <th>Class 0</th>\n",
       "      <th>Class 1</th>\n",
       "      <th>Class 2</th>\n",
       "    </tr>\n",
       "  </thead>\n",
       "  <tbody>\n",
       "    <tr>\n",
       "      <th>Accuracy</th>\n",
       "      <td>0.96031</td>\n",
       "      <td>0.96015</td>\n",
       "      <td>0.99765</td>\n",
       "    </tr>\n",
       "    <tr>\n",
       "      <th>Error rate</th>\n",
       "      <td>0.03969</td>\n",
       "      <td>0.03985</td>\n",
       "      <td>0.00235</td>\n",
       "    </tr>\n",
       "    <tr>\n",
       "      <th>Sensitivity (Recall)</th>\n",
       "      <td>0.97831</td>\n",
       "      <td>0.89887</td>\n",
       "      <td>1.00000</td>\n",
       "    </tr>\n",
       "    <tr>\n",
       "      <th>Specificity</th>\n",
       "      <td>0.95103</td>\n",
       "      <td>0.99061</td>\n",
       "      <td>0.99650</td>\n",
       "    </tr>\n",
       "    <tr>\n",
       "      <th>Precision</th>\n",
       "      <td>0.91144</td>\n",
       "      <td>0.97940</td>\n",
       "      <td>0.99288</td>\n",
       "    </tr>\n",
       "    <tr>\n",
       "      <th>F1</th>\n",
       "      <td>0.94369</td>\n",
       "      <td>0.93741</td>\n",
       "      <td>0.99643</td>\n",
       "    </tr>\n",
       "    <tr>\n",
       "      <th>F2</th>\n",
       "      <td>0.96416</td>\n",
       "      <td>0.91390</td>\n",
       "      <td>0.99857</td>\n",
       "    </tr>\n",
       "    <tr>\n",
       "      <th>F0.5</th>\n",
       "      <td>0.92407</td>\n",
       "      <td>0.96216</td>\n",
       "      <td>0.99429</td>\n",
       "    </tr>\n",
       "  </tbody>\n",
       "</table>\n",
       "</div>"
      ],
      "text/plain": [
       "                      Class 0  Class 1  Class 2\n",
       "Accuracy              0.96031  0.96015  0.99765\n",
       "Error rate            0.03969  0.03985  0.00235\n",
       "Sensitivity (Recall)  0.97831  0.89887  1.00000\n",
       "Specificity           0.95103  0.99061  0.99650\n",
       "Precision             0.91144  0.97940  0.99288\n",
       "F1                    0.94369  0.93741  0.99643\n",
       "F2                    0.96416  0.91390  0.99857\n",
       "F0.5                  0.92407  0.96216  0.99429"
      ]
     },
     "execution_count": 24,
     "metadata": {},
     "output_type": "execute_result"
    }
   ],
   "source": [
    "# Confusion matrix metrics\n",
    "cm = confusion_matrix(y_test, y_pred_rs)\n",
    "multiclass_cm_metrics(cm)"
   ]
  },
  {
   "cell_type": "markdown",
   "metadata": {},
   "source": [
    "### Accident Severity: Slight Injury (0) vs Serious Injury/Fatal Injury (1)"
   ]
  },
  {
   "cell_type": "code",
   "execution_count": 25,
   "metadata": {},
   "outputs": [
    {
     "name": "stdout",
     "output_type": "stream",
     "text": [
      "Accident_slight\n",
      "0    7082\n",
      "1    7082\n",
      "Name: count, dtype: int64\n",
      "Accuracy:  0.9291764705882353\n",
      "Confusion Matrix:\n",
      " [[1876  255]\n",
      " [  46 2073]]\n",
      "Classification Report:\n",
      "               precision    recall  f1-score   support\n",
      "\n",
      "           0       0.98      0.88      0.93      2131\n",
      "           1       0.89      0.98      0.93      2119\n",
      "\n",
      "    accuracy                           0.93      4250\n",
      "   macro avg       0.93      0.93      0.93      4250\n",
      "weighted avg       0.93      0.93      0.93      4250\n",
      "\n",
      "Cross-validation scores:  [0.84117647 0.82588235 0.81882353 0.82       0.82      ]\n",
      "Average score:  0.8251764705882353\n"
     ]
    }
   ],
   "source": [
    "X_resampled, y_resampled = oversample.fit_resample(X, y_slight)\n",
    "# Check distribution\n",
    "print(y_resampled.value_counts())\n",
    "\n",
    "# Split testing data\n",
    "X_train, X_test, y_train, y_test = train_test_split(X_resampled, y_resampled,\n",
    "                                                    test_size=0.3,\n",
    "                                                    random_state=42)\n",
    "# Train model\n",
    "rf_model_rs = RandomForestClassifier()\n",
    "rf_model_rs.fit(X_train, y_train)\n",
    "\n",
    "# Create prediction\n",
    "y_pred_rs = rf_model_rs.predict(X_test)\n",
    "nb_report(y_test, y_pred_rs)\n",
    "\n",
    "score_serious = cross_val_score(rf_model_rs, X_test, y_test, cv=5)\n",
    "cross_scores(score_serious)"
   ]
  },
  {
   "cell_type": "markdown",
   "metadata": {},
   "source": [
    "### Accident Severity: Slight/Fatal Injury (1) vs Serious Injury (0)"
   ]
  },
  {
   "cell_type": "code",
   "execution_count": 26,
   "metadata": {},
   "outputs": [
    {
     "name": "stdout",
     "output_type": "stream",
     "text": [
      "Accident_serious\n",
      "1    7164\n",
      "0    7164\n",
      "Name: count, dtype: int64\n",
      "Accuracy:  0.9418469411491044\n",
      "Confusion Matrix:\n",
      " [[2129   36]\n",
      " [ 214 1920]]\n",
      "Classification Report:\n",
      "               precision    recall  f1-score   support\n",
      "\n",
      "           0       0.91      0.98      0.94      2165\n",
      "           1       0.98      0.90      0.94      2134\n",
      "\n",
      "    accuracy                           0.94      4299\n",
      "   macro avg       0.95      0.94      0.94      4299\n",
      "weighted avg       0.94      0.94      0.94      4299\n",
      "\n",
      "Cross-validation scores:  [0.82093023 0.81860465 0.84767442 0.81976744 0.82887078]\n",
      "Average score:  0.8271695048325528\n"
     ]
    }
   ],
   "source": [
    "X_resampled, y_resampled = oversample.fit_resample(X, y_serious)\n",
    "# Check distribution\n",
    "print(y_resampled.value_counts())\n",
    "\n",
    "# Split testing data\n",
    "X_train, X_test, y_train, y_test = train_test_split(X_resampled, y_resampled,\n",
    "                                                    test_size=0.3,\n",
    "                                                    random_state=42)\n",
    "# Train model\n",
    "rf_model_rs = RandomForestClassifier()\n",
    "rf_model_rs.fit(X_train, y_train)\n",
    "\n",
    "# Create prediction\n",
    "y_pred_rs = rf_model_rs.predict(X_test)\n",
    "nb_report(y_test, y_pred_rs)\n",
    "\n",
    "score_serious = cross_val_score(rf_model_rs, X_test, y_test, cv=5)\n",
    "cross_scores(score_serious)"
   ]
  },
  {
   "cell_type": "code",
   "execution_count": 27,
   "metadata": {},
   "outputs": [
    {
     "name": "stdout",
     "output_type": "stream",
     "text": [
      "Accident_severity_mapped\n",
      "1    7082\n",
      "0    7082\n",
      "2    7082\n",
      "Name: count, dtype: int64\n",
      "Accuracy:  0.8870411044869784\n",
      "Confusion Matrix:\n",
      " [[1879  211   77]\n",
      " [ 379 1707   30]\n",
      " [  13   10 2068]]\n",
      "Classification Report:\n",
      "               precision    recall  f1-score   support\n",
      "\n",
      "           0       0.83      0.87      0.85      2167\n",
      "           1       0.89      0.81      0.84      2116\n",
      "           2       0.95      0.99      0.97      2091\n",
      "\n",
      "    accuracy                           0.89      6374\n",
      "   macro avg       0.89      0.89      0.89      6374\n",
      "weighted avg       0.89      0.89      0.89      6374\n",
      "\n",
      "Cross-validation scores:  [0.83137255 0.82823529 0.83372549 0.82196078 0.8422292 ]\n",
      "Average score:  0.831504663403823\n"
     ]
    }
   ],
   "source": [
    "smote = SMOTE(random_state=42)\n",
    "\n",
    "X_resampled, y_resampled = smote.fit_resample(X, y_mapped)\n",
    "# Check distribution\n",
    "print(y_resampled.value_counts())\n",
    "\n",
    "# Split testing data\n",
    "X_train, X_test, y_train, y_test = train_test_split(X_resampled, y_resampled,\n",
    "                                                    test_size=0.3,\n",
    "                                                    random_state=42)\n",
    "# Train model\n",
    "rf_model_rs = RandomForestClassifier()\n",
    "rf_model_rs.fit(X_train, y_train)\n",
    "\n",
    "# Create prediction\n",
    "y_pred_rs = rf_model_rs.predict(X_test)\n",
    "nb_report(y_test, y_pred_rs)\n",
    "\n",
    "score_serious = cross_val_score(rf_model_rs, X_test, y_test, cv=5)\n",
    "cross_scores(score_serious)"
   ]
  },
  {
   "cell_type": "code",
   "execution_count": 28,
   "metadata": {},
   "outputs": [
    {
     "name": "stdout",
     "output_type": "stream",
     "text": [
      "Accident_severity_mapped\n",
      "0    82\n",
      "1    82\n",
      "2    82\n",
      "Name: count, dtype: int64\n",
      "Accuracy:  0.5405405405405406\n",
      "Confusion Matrix:\n",
      " [[13  6  3]\n",
      " [ 8 14  2]\n",
      " [10  5 13]]\n",
      "Classification Report:\n",
      "               precision    recall  f1-score   support\n",
      "\n",
      "           0       0.42      0.59      0.49        22\n",
      "           1       0.56      0.58      0.57        24\n",
      "           2       0.72      0.46      0.57        28\n",
      "\n",
      "    accuracy                           0.54        74\n",
      "   macro avg       0.57      0.55      0.54        74\n",
      "weighted avg       0.58      0.54      0.55        74\n",
      "\n",
      "Cross-validation scores:  [0.6        0.4        0.4        0.66666667 0.35714286]\n",
      "Average score:  0.4847619047619047\n"
     ]
    }
   ],
   "source": [
    "rus = RandomUnderSampler(random_state=42)\n",
    "\n",
    "X_resampled, y_resampled = rus.fit_resample(X, y_mapped)\n",
    "# Check distribution\n",
    "print(y_resampled.value_counts())\n",
    "\n",
    "# Split testing data\n",
    "X_train, X_test, y_train, y_test = train_test_split(X_resampled, y_resampled,\n",
    "                                                    test_size=0.3,\n",
    "                                                    random_state=42)\n",
    "# Train model\n",
    "rf_model_rs = RandomForestClassifier()\n",
    "rf_model_rs.fit(X_train, y_train)\n",
    "\n",
    "# Create prediction\n",
    "y_pred_rs = rf_model_rs.predict(X_test)\n",
    "nb_report(y_test, y_pred_rs)\n",
    "\n",
    "score_serious = cross_val_score(rf_model_rs, X_test, y_test, cv=5)\n",
    "cross_scores(score_serious)"
   ]
  },
  {
   "cell_type": "code",
   "execution_count": 36,
   "metadata": {},
   "outputs": [
    {
     "name": "stdout",
     "output_type": "stream",
     "text": [
      "Accuracy:  0.2972972972972973\n",
      "Confusion Matrix:\n",
      " [[22  0  0]\n",
      " [24  0  0]\n",
      " [28  0  0]]\n",
      "Classification Report:\n",
      "               precision    recall  f1-score   support\n",
      "\n",
      "           0       0.30      1.00      0.46        22\n",
      "           1       0.00      0.00      0.00        24\n",
      "           2       0.00      0.00      0.00        28\n",
      "\n",
      "    accuracy                           0.30        74\n",
      "   macro avg       0.10      0.33      0.15        74\n",
      "weighted avg       0.09      0.30      0.14        74\n",
      "\n"
     ]
    }
   ],
   "source": [
    "# Create baseline model\n",
    "baseline_model = DummyClassifier(strategy='most_frequent')\n",
    "baseline_model.fit(X_train, y_train)\n",
    "\n",
    "y_pred_baseline = baseline_model. predict(X_test)\n",
    "\n",
    "nb_report(y_test, y_pred_baseline)"
   ]
  },
  {
   "cell_type": "markdown",
   "metadata": {},
   "source": [
    "## Conclusion"
   ]
  },
  {
   "cell_type": "markdown",
   "metadata": {},
   "source": [
    "Our target for a successful model is >=85% accuracy and >=90% precision for the target classification of \"Serious Injury\". Neither model was able to acheive this requirement due to the class imbalance amongst \"Slight injury\", \"Serious injury\", and \"Fatal injury\". Therefore, resampling was performed. Modeling was performed on the resampled data and \"Random Forest Classifier\" was able to achieve our success criteria.  "
   ]
  },
  {
   "cell_type": "markdown",
   "metadata": {},
   "source": []
  }
 ],
 "metadata": {
  "kernelspec": {
   "display_name": "mambaML",
   "language": "python",
   "name": "python3"
  },
  "language_info": {
   "codemirror_mode": {
    "name": "ipython",
    "version": 3
   },
   "file_extension": ".py",
   "mimetype": "text/x-python",
   "name": "python",
   "nbconvert_exporter": "python",
   "pygments_lexer": "ipython3",
   "version": "3.10.14"
  }
 },
 "nbformat": 4,
 "nbformat_minor": 2
}

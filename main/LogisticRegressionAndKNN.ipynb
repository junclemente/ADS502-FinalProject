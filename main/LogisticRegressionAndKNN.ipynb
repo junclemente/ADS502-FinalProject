{
  "cells": [
    {
      "cell_type": "markdown",
      "metadata": {
        "id": "Fc2kiPdBSU7P"
      },
      "source": [
        "# Dataset Preparation"
      ]
    },
    {
      "cell_type": "code",
      "execution_count": 28,
      "metadata": {
        "id": "skXgAlNPSU7Q"
      },
      "outputs": [],
      "source": [
        "import warnings\n",
        "warnings.filterwarnings('ignore')"
      ]
    },
    {
      "cell_type": "code",
      "execution_count": 29,
      "metadata": {
        "id": "V2PbMEKaSU7S"
      },
      "outputs": [],
      "source": [
        "import pandas as pd\n",
        "import numpy as np\n",
        "\n",
        "from imblearn.over_sampling import RandomOverSampler, SMOTE\n",
        "from imblearn.under_sampling import RandomUnderSampler\n",
        "from pathlib import Path\n",
        "from sklearn.model_selection import train_test_split, cross_val_score, GridSearchCV\n",
        "from sklearn.ensemble import RandomForestClassifier\n",
        "from sklearn.metrics import classification_report, accuracy_score, confusion_matrix\n",
        "from sklearn.preprocessing import StandardScaler\n",
        "from sklearn.linear_model import LogisticRegression\n",
        "from sklearn.neighbors import KNeighborsClassifier"
      ]
    },
    {
      "cell_type": "code",
      "execution_count": 30,
      "metadata": {
        "colab": {
          "base_uri": "https://localhost:8080/",
          "height": 258
        },
        "id": "y_xgfGKISU7S",
        "outputId": "cd0ce91f-c1d4-42c8-f418-45deb816fb76"
      },
      "outputs": [
        {
          "data": {
            "text/html": [
              "<div>\n",
              "<style scoped>\n",
              "    .dataframe tbody tr th:only-of-type {\n",
              "        vertical-align: middle;\n",
              "    }\n",
              "\n",
              "    .dataframe tbody tr th {\n",
              "        vertical-align: top;\n",
              "    }\n",
              "\n",
              "    .dataframe thead th {\n",
              "        text-align: right;\n",
              "    }\n",
              "</style>\n",
              "<table border=\"1\" class=\"dataframe\">\n",
              "  <thead>\n",
              "    <tr style=\"text-align: right;\">\n",
              "      <th></th>\n",
              "      <th>Area_accident_occured</th>\n",
              "      <th>Types_of_Junction</th>\n",
              "      <th>Light_conditions</th>\n",
              "      <th>Number_of_vehicles_involved</th>\n",
              "      <th>Number_of_casualties</th>\n",
              "      <th>Cause_of_accident</th>\n",
              "      <th>Day_of_week</th>\n",
              "      <th>Sex_of_driver</th>\n",
              "      <th>Age_band_of_driver</th>\n",
              "      <th>Accident_severity</th>\n",
              "    </tr>\n",
              "  </thead>\n",
              "  <tbody>\n",
              "    <tr>\n",
              "      <th>0</th>\n",
              "      <td>Residential areas</td>\n",
              "      <td>No junction</td>\n",
              "      <td>Daylight</td>\n",
              "      <td>2</td>\n",
              "      <td>2</td>\n",
              "      <td>Moving Backward</td>\n",
              "      <td>Monday</td>\n",
              "      <td>Male</td>\n",
              "      <td>18-30</td>\n",
              "      <td>Slight Injury</td>\n",
              "    </tr>\n",
              "    <tr>\n",
              "      <th>1</th>\n",
              "      <td>Office areas</td>\n",
              "      <td>No junction</td>\n",
              "      <td>Daylight</td>\n",
              "      <td>2</td>\n",
              "      <td>2</td>\n",
              "      <td>Overtaking</td>\n",
              "      <td>Monday</td>\n",
              "      <td>Male</td>\n",
              "      <td>31-50</td>\n",
              "      <td>Slight Injury</td>\n",
              "    </tr>\n",
              "    <tr>\n",
              "      <th>2</th>\n",
              "      <td>Recreational areas</td>\n",
              "      <td>No junction</td>\n",
              "      <td>Daylight</td>\n",
              "      <td>2</td>\n",
              "      <td>2</td>\n",
              "      <td>Changing lane to the left</td>\n",
              "      <td>Monday</td>\n",
              "      <td>Male</td>\n",
              "      <td>18-30</td>\n",
              "      <td>Serious Injury</td>\n",
              "    </tr>\n",
              "    <tr>\n",
              "      <th>3</th>\n",
              "      <td>Office areas</td>\n",
              "      <td>Y Shape</td>\n",
              "      <td>Darkness - lights lit</td>\n",
              "      <td>2</td>\n",
              "      <td>2</td>\n",
              "      <td>Changing lane to the right</td>\n",
              "      <td>Sunday</td>\n",
              "      <td>Male</td>\n",
              "      <td>18-30</td>\n",
              "      <td>Slight Injury</td>\n",
              "    </tr>\n",
              "    <tr>\n",
              "      <th>4</th>\n",
              "      <td>Industrial areas</td>\n",
              "      <td>Y Shape</td>\n",
              "      <td>Darkness - lights lit</td>\n",
              "      <td>2</td>\n",
              "      <td>2</td>\n",
              "      <td>Overtaking</td>\n",
              "      <td>Sunday</td>\n",
              "      <td>Male</td>\n",
              "      <td>18-30</td>\n",
              "      <td>Slight Injury</td>\n",
              "    </tr>\n",
              "  </tbody>\n",
              "</table>\n",
              "</div>"
            ],
            "text/plain": [
              "  Area_accident_occured Types_of_Junction       Light_conditions  \\\n",
              "0     Residential areas       No junction               Daylight   \n",
              "1          Office areas       No junction               Daylight   \n",
              "2    Recreational areas       No junction               Daylight   \n",
              "3          Office areas           Y Shape  Darkness - lights lit   \n",
              "4      Industrial areas           Y Shape  Darkness - lights lit   \n",
              "\n",
              "   Number_of_vehicles_involved  Number_of_casualties  \\\n",
              "0                            2                     2   \n",
              "1                            2                     2   \n",
              "2                            2                     2   \n",
              "3                            2                     2   \n",
              "4                            2                     2   \n",
              "\n",
              "            Cause_of_accident Day_of_week Sex_of_driver Age_band_of_driver  \\\n",
              "0             Moving Backward      Monday          Male              18-30   \n",
              "1                  Overtaking      Monday          Male              31-50   \n",
              "2   Changing lane to the left      Monday          Male              18-30   \n",
              "3  Changing lane to the right      Sunday          Male              18-30   \n",
              "4                  Overtaking      Sunday          Male              18-30   \n",
              "\n",
              "  Accident_severity  \n",
              "0     Slight Injury  \n",
              "1     Slight Injury  \n",
              "2    Serious Injury  \n",
              "3     Slight Injury  \n",
              "4     Slight Injury  "
            ]
          },
          "execution_count": 30,
          "metadata": {},
          "output_type": "execute_result"
        }
      ],
      "source": [
        "# Import training dataset\n",
        "dataset = Path('../dataset')\n",
        "df = pd.read_csv(dataset/'accidents_clean_train.csv')\n",
        "df.head()"
      ]
    },
    {
      "cell_type": "code",
      "execution_count": 31,
      "metadata": {
        "colab": {
          "base_uri": "https://localhost:8080/"
        },
        "id": "2M_fseOHSU7T",
        "outputId": "07cff4e3-0892-4715-922e-9a20e1597904"
      },
      "outputs": [
        {
          "name": "stdout",
          "output_type": "stream",
          "text": [
            "['Area_accident_occured', 'Types_of_Junction', 'Light_conditions', 'Number_of_vehicles_involved', 'Number_of_casualties', 'Cause_of_accident', 'Day_of_week', 'Sex_of_driver', 'Age_band_of_driver', 'Accident_severity']\n"
          ]
        }
      ],
      "source": [
        "# Get feature columns\n",
        "columns = df.columns.tolist()\n",
        "print(columns)\n",
        "\n",
        "features = ['Area_accident_occured', 'Types_of_Junction', 'Light_conditions', 'Number_of_vehicles_involved', 'Number_of_casualties', 'Cause_of_accident', 'Day_of_week', 'Sex_of_driver', 'Age_band_of_driver']\n",
        "\n",
        "target = 'Accident_severity'"
      ]
    },
    {
      "cell_type": "markdown",
      "metadata": {
        "id": "Ne3tAGgQSU7U"
      },
      "source": [
        "## Convert features to categorical"
      ]
    },
    {
      "cell_type": "code",
      "execution_count": 32,
      "metadata": {
        "colab": {
          "base_uri": "https://localhost:8080/",
          "height": 270
        },
        "id": "CarkZAAMSU7U",
        "outputId": "0677e2f8-1d1e-4671-90ce-c7108a69966d"
      },
      "outputs": [
        {
          "data": {
            "text/html": [
              "<div>\n",
              "<style scoped>\n",
              "    .dataframe tbody tr th:only-of-type {\n",
              "        vertical-align: middle;\n",
              "    }\n",
              "\n",
              "    .dataframe tbody tr th {\n",
              "        vertical-align: top;\n",
              "    }\n",
              "\n",
              "    .dataframe thead th {\n",
              "        text-align: right;\n",
              "    }\n",
              "</style>\n",
              "<table border=\"1\" class=\"dataframe\">\n",
              "  <thead>\n",
              "    <tr style=\"text-align: right;\">\n",
              "      <th></th>\n",
              "      <th>Number_of_vehicles_involved</th>\n",
              "      <th>Number_of_casualties</th>\n",
              "      <th>Area_accident_occured_  Recreational areas</th>\n",
              "      <th>Area_accident_occured_ Church areas</th>\n",
              "      <th>Area_accident_occured_ Hospital areas</th>\n",
              "      <th>Area_accident_occured_ Industrial areas</th>\n",
              "      <th>Area_accident_occured_ Outside rural areas</th>\n",
              "      <th>Area_accident_occured_Office areas</th>\n",
              "      <th>Area_accident_occured_Other</th>\n",
              "      <th>Area_accident_occured_Recreational areas</th>\n",
              "      <th>...</th>\n",
              "      <th>Day_of_week_Sunday</th>\n",
              "      <th>Day_of_week_Thursday</th>\n",
              "      <th>Day_of_week_Tuesday</th>\n",
              "      <th>Day_of_week_Wednesday</th>\n",
              "      <th>Sex_of_driver_Male</th>\n",
              "      <th>Sex_of_driver_Unknown</th>\n",
              "      <th>Age_band_of_driver_31-50</th>\n",
              "      <th>Age_band_of_driver_Over 51</th>\n",
              "      <th>Age_band_of_driver_Under 18</th>\n",
              "      <th>Age_band_of_driver_Unknown</th>\n",
              "    </tr>\n",
              "  </thead>\n",
              "  <tbody>\n",
              "    <tr>\n",
              "      <th>0</th>\n",
              "      <td>2</td>\n",
              "      <td>2</td>\n",
              "      <td>False</td>\n",
              "      <td>False</td>\n",
              "      <td>False</td>\n",
              "      <td>False</td>\n",
              "      <td>False</td>\n",
              "      <td>False</td>\n",
              "      <td>False</td>\n",
              "      <td>False</td>\n",
              "      <td>...</td>\n",
              "      <td>False</td>\n",
              "      <td>False</td>\n",
              "      <td>False</td>\n",
              "      <td>False</td>\n",
              "      <td>True</td>\n",
              "      <td>False</td>\n",
              "      <td>False</td>\n",
              "      <td>False</td>\n",
              "      <td>False</td>\n",
              "      <td>False</td>\n",
              "    </tr>\n",
              "    <tr>\n",
              "      <th>1</th>\n",
              "      <td>2</td>\n",
              "      <td>2</td>\n",
              "      <td>False</td>\n",
              "      <td>False</td>\n",
              "      <td>False</td>\n",
              "      <td>False</td>\n",
              "      <td>False</td>\n",
              "      <td>True</td>\n",
              "      <td>False</td>\n",
              "      <td>False</td>\n",
              "      <td>...</td>\n",
              "      <td>False</td>\n",
              "      <td>False</td>\n",
              "      <td>False</td>\n",
              "      <td>False</td>\n",
              "      <td>True</td>\n",
              "      <td>False</td>\n",
              "      <td>True</td>\n",
              "      <td>False</td>\n",
              "      <td>False</td>\n",
              "      <td>False</td>\n",
              "    </tr>\n",
              "    <tr>\n",
              "      <th>2</th>\n",
              "      <td>2</td>\n",
              "      <td>2</td>\n",
              "      <td>True</td>\n",
              "      <td>False</td>\n",
              "      <td>False</td>\n",
              "      <td>False</td>\n",
              "      <td>False</td>\n",
              "      <td>False</td>\n",
              "      <td>False</td>\n",
              "      <td>False</td>\n",
              "      <td>...</td>\n",
              "      <td>False</td>\n",
              "      <td>False</td>\n",
              "      <td>False</td>\n",
              "      <td>False</td>\n",
              "      <td>True</td>\n",
              "      <td>False</td>\n",
              "      <td>False</td>\n",
              "      <td>False</td>\n",
              "      <td>False</td>\n",
              "      <td>False</td>\n",
              "    </tr>\n",
              "    <tr>\n",
              "      <th>3</th>\n",
              "      <td>2</td>\n",
              "      <td>2</td>\n",
              "      <td>False</td>\n",
              "      <td>False</td>\n",
              "      <td>False</td>\n",
              "      <td>False</td>\n",
              "      <td>False</td>\n",
              "      <td>True</td>\n",
              "      <td>False</td>\n",
              "      <td>False</td>\n",
              "      <td>...</td>\n",
              "      <td>True</td>\n",
              "      <td>False</td>\n",
              "      <td>False</td>\n",
              "      <td>False</td>\n",
              "      <td>True</td>\n",
              "      <td>False</td>\n",
              "      <td>False</td>\n",
              "      <td>False</td>\n",
              "      <td>False</td>\n",
              "      <td>False</td>\n",
              "    </tr>\n",
              "    <tr>\n",
              "      <th>4</th>\n",
              "      <td>2</td>\n",
              "      <td>2</td>\n",
              "      <td>False</td>\n",
              "      <td>False</td>\n",
              "      <td>False</td>\n",
              "      <td>True</td>\n",
              "      <td>False</td>\n",
              "      <td>False</td>\n",
              "      <td>False</td>\n",
              "      <td>False</td>\n",
              "      <td>...</td>\n",
              "      <td>True</td>\n",
              "      <td>False</td>\n",
              "      <td>False</td>\n",
              "      <td>False</td>\n",
              "      <td>True</td>\n",
              "      <td>False</td>\n",
              "      <td>False</td>\n",
              "      <td>False</td>\n",
              "      <td>False</td>\n",
              "      <td>False</td>\n",
              "    </tr>\n",
              "  </tbody>\n",
              "</table>\n",
              "<p>5 rows × 56 columns</p>\n",
              "</div>"
            ],
            "text/plain": [
              "   Number_of_vehicles_involved  Number_of_casualties  \\\n",
              "0                            2                     2   \n",
              "1                            2                     2   \n",
              "2                            2                     2   \n",
              "3                            2                     2   \n",
              "4                            2                     2   \n",
              "\n",
              "   Area_accident_occured_  Recreational areas  \\\n",
              "0                                       False   \n",
              "1                                       False   \n",
              "2                                        True   \n",
              "3                                       False   \n",
              "4                                       False   \n",
              "\n",
              "   Area_accident_occured_ Church areas  Area_accident_occured_ Hospital areas  \\\n",
              "0                                False                                  False   \n",
              "1                                False                                  False   \n",
              "2                                False                                  False   \n",
              "3                                False                                  False   \n",
              "4                                False                                  False   \n",
              "\n",
              "   Area_accident_occured_ Industrial areas  \\\n",
              "0                                    False   \n",
              "1                                    False   \n",
              "2                                    False   \n",
              "3                                    False   \n",
              "4                                     True   \n",
              "\n",
              "   Area_accident_occured_ Outside rural areas  \\\n",
              "0                                       False   \n",
              "1                                       False   \n",
              "2                                       False   \n",
              "3                                       False   \n",
              "4                                       False   \n",
              "\n",
              "   Area_accident_occured_Office areas  Area_accident_occured_Other  \\\n",
              "0                               False                        False   \n",
              "1                                True                        False   \n",
              "2                               False                        False   \n",
              "3                                True                        False   \n",
              "4                               False                        False   \n",
              "\n",
              "   Area_accident_occured_Recreational areas  ...  Day_of_week_Sunday  \\\n",
              "0                                     False  ...               False   \n",
              "1                                     False  ...               False   \n",
              "2                                     False  ...               False   \n",
              "3                                     False  ...                True   \n",
              "4                                     False  ...                True   \n",
              "\n",
              "   Day_of_week_Thursday  Day_of_week_Tuesday  Day_of_week_Wednesday  \\\n",
              "0                 False                False                  False   \n",
              "1                 False                False                  False   \n",
              "2                 False                False                  False   \n",
              "3                 False                False                  False   \n",
              "4                 False                False                  False   \n",
              "\n",
              "   Sex_of_driver_Male  Sex_of_driver_Unknown  Age_band_of_driver_31-50  \\\n",
              "0                True                  False                     False   \n",
              "1                True                  False                      True   \n",
              "2                True                  False                     False   \n",
              "3                True                  False                     False   \n",
              "4                True                  False                     False   \n",
              "\n",
              "   Age_band_of_driver_Over 51  Age_band_of_driver_Under 18  \\\n",
              "0                       False                        False   \n",
              "1                       False                        False   \n",
              "2                       False                        False   \n",
              "3                       False                        False   \n",
              "4                       False                        False   \n",
              "\n",
              "   Age_band_of_driver_Unknown  \n",
              "0                       False  \n",
              "1                       False  \n",
              "2                       False  \n",
              "3                       False  \n",
              "4                       False  \n",
              "\n",
              "[5 rows x 56 columns]"
            ]
          },
          "execution_count": 32,
          "metadata": {},
          "output_type": "execute_result"
        }
      ],
      "source": [
        "# Convert to categorical\n",
        "X = df[features]\n",
        "X = pd.get_dummies(X, drop_first=True)\n",
        "X.head()"
      ]
    },
    {
      "cell_type": "markdown",
      "metadata": {
        "id": "Pdzp7ZSqSU7V"
      },
      "source": [
        "## Create mapped columns of target variable"
      ]
    },
    {
      "cell_type": "code",
      "execution_count": 33,
      "metadata": {
        "colab": {
          "base_uri": "https://localhost:8080/",
          "height": 258
        },
        "id": "q3Tq9a7_SU7W",
        "outputId": "0043d10d-7beb-4e7b-d1d7-e0fb2cef9fa8"
      },
      "outputs": [
        {
          "data": {
            "text/html": [
              "<div>\n",
              "<style scoped>\n",
              "    .dataframe tbody tr th:only-of-type {\n",
              "        vertical-align: middle;\n",
              "    }\n",
              "\n",
              "    .dataframe tbody tr th {\n",
              "        vertical-align: top;\n",
              "    }\n",
              "\n",
              "    .dataframe thead th {\n",
              "        text-align: right;\n",
              "    }\n",
              "</style>\n",
              "<table border=\"1\" class=\"dataframe\">\n",
              "  <thead>\n",
              "    <tr style=\"text-align: right;\">\n",
              "      <th></th>\n",
              "      <th>Area_accident_occured</th>\n",
              "      <th>Types_of_Junction</th>\n",
              "      <th>Light_conditions</th>\n",
              "      <th>Number_of_vehicles_involved</th>\n",
              "      <th>Number_of_casualties</th>\n",
              "      <th>Cause_of_accident</th>\n",
              "      <th>Day_of_week</th>\n",
              "      <th>Sex_of_driver</th>\n",
              "      <th>Age_band_of_driver</th>\n",
              "      <th>Accident_severity</th>\n",
              "      <th>Accident_slight</th>\n",
              "      <th>Accident_serious</th>\n",
              "      <th>Accident_severity_mapped</th>\n",
              "    </tr>\n",
              "  </thead>\n",
              "  <tbody>\n",
              "    <tr>\n",
              "      <th>0</th>\n",
              "      <td>Residential areas</td>\n",
              "      <td>No junction</td>\n",
              "      <td>Daylight</td>\n",
              "      <td>2</td>\n",
              "      <td>2</td>\n",
              "      <td>Moving Backward</td>\n",
              "      <td>Monday</td>\n",
              "      <td>Male</td>\n",
              "      <td>18-30</td>\n",
              "      <td>Slight Injury</td>\n",
              "      <td>0</td>\n",
              "      <td>1</td>\n",
              "      <td>1</td>\n",
              "    </tr>\n",
              "    <tr>\n",
              "      <th>1</th>\n",
              "      <td>Office areas</td>\n",
              "      <td>No junction</td>\n",
              "      <td>Daylight</td>\n",
              "      <td>2</td>\n",
              "      <td>2</td>\n",
              "      <td>Overtaking</td>\n",
              "      <td>Monday</td>\n",
              "      <td>Male</td>\n",
              "      <td>31-50</td>\n",
              "      <td>Slight Injury</td>\n",
              "      <td>0</td>\n",
              "      <td>1</td>\n",
              "      <td>1</td>\n",
              "    </tr>\n",
              "    <tr>\n",
              "      <th>2</th>\n",
              "      <td>Recreational areas</td>\n",
              "      <td>No junction</td>\n",
              "      <td>Daylight</td>\n",
              "      <td>2</td>\n",
              "      <td>2</td>\n",
              "      <td>Changing lane to the left</td>\n",
              "      <td>Monday</td>\n",
              "      <td>Male</td>\n",
              "      <td>18-30</td>\n",
              "      <td>Serious Injury</td>\n",
              "      <td>1</td>\n",
              "      <td>0</td>\n",
              "      <td>0</td>\n",
              "    </tr>\n",
              "    <tr>\n",
              "      <th>3</th>\n",
              "      <td>Office areas</td>\n",
              "      <td>Y Shape</td>\n",
              "      <td>Darkness - lights lit</td>\n",
              "      <td>2</td>\n",
              "      <td>2</td>\n",
              "      <td>Changing lane to the right</td>\n",
              "      <td>Sunday</td>\n",
              "      <td>Male</td>\n",
              "      <td>18-30</td>\n",
              "      <td>Slight Injury</td>\n",
              "      <td>0</td>\n",
              "      <td>1</td>\n",
              "      <td>1</td>\n",
              "    </tr>\n",
              "    <tr>\n",
              "      <th>4</th>\n",
              "      <td>Industrial areas</td>\n",
              "      <td>Y Shape</td>\n",
              "      <td>Darkness - lights lit</td>\n",
              "      <td>2</td>\n",
              "      <td>2</td>\n",
              "      <td>Overtaking</td>\n",
              "      <td>Sunday</td>\n",
              "      <td>Male</td>\n",
              "      <td>18-30</td>\n",
              "      <td>Slight Injury</td>\n",
              "      <td>0</td>\n",
              "      <td>1</td>\n",
              "      <td>1</td>\n",
              "    </tr>\n",
              "  </tbody>\n",
              "</table>\n",
              "</div>"
            ],
            "text/plain": [
              "  Area_accident_occured Types_of_Junction       Light_conditions  \\\n",
              "0     Residential areas       No junction               Daylight   \n",
              "1          Office areas       No junction               Daylight   \n",
              "2    Recreational areas       No junction               Daylight   \n",
              "3          Office areas           Y Shape  Darkness - lights lit   \n",
              "4      Industrial areas           Y Shape  Darkness - lights lit   \n",
              "\n",
              "   Number_of_vehicles_involved  Number_of_casualties  \\\n",
              "0                            2                     2   \n",
              "1                            2                     2   \n",
              "2                            2                     2   \n",
              "3                            2                     2   \n",
              "4                            2                     2   \n",
              "\n",
              "            Cause_of_accident Day_of_week Sex_of_driver Age_band_of_driver  \\\n",
              "0             Moving Backward      Monday          Male              18-30   \n",
              "1                  Overtaking      Monday          Male              31-50   \n",
              "2   Changing lane to the left      Monday          Male              18-30   \n",
              "3  Changing lane to the right      Sunday          Male              18-30   \n",
              "4                  Overtaking      Sunday          Male              18-30   \n",
              "\n",
              "  Accident_severity  Accident_slight  Accident_serious  \\\n",
              "0     Slight Injury                0                 1   \n",
              "1     Slight Injury                0                 1   \n",
              "2    Serious Injury                1                 0   \n",
              "3     Slight Injury                0                 1   \n",
              "4     Slight Injury                0                 1   \n",
              "\n",
              "   Accident_severity_mapped  \n",
              "0                         1  \n",
              "1                         1  \n",
              "2                         0  \n",
              "3                         1  \n",
              "4                         1  "
            ]
          },
          "execution_count": 33,
          "metadata": {},
          "output_type": "execute_result"
        }
      ],
      "source": [
        "# Create mapped columns of target\n",
        "df['Accident_slight'] = df[target].map(\n",
        "    {'Slight Injury': 0}\n",
        "    ).fillna(1).astype(int)\n",
        "df['Accident_serious'] = df[target].map(\n",
        "    {'Serious Injury': 0}\n",
        "    ).fillna(1).astype(int)\n",
        "df['Accident_severity_mapped'] = df[target].map({\n",
        "    'Serious Injury': 0,\n",
        "    'Slight Injury': 1,\n",
        "    'Fatal injury': 2\n",
        "    })\n",
        "\n",
        "df.head()"
      ]
    },
    {
      "cell_type": "code",
      "execution_count": 34,
      "metadata": {
        "colab": {
          "base_uri": "https://localhost:8080/"
        },
        "id": "RupAtsbzSU7X",
        "outputId": "241be5e3-bfb1-4716-8693-464a149231c5"
      },
      "outputs": [
        {
          "data": {
            "text/plain": [
              "(8210, 13)"
            ]
          },
          "execution_count": 34,
          "metadata": {},
          "output_type": "execute_result"
        }
      ],
      "source": [
        "df.shape"
      ]
    },
    {
      "cell_type": "markdown",
      "metadata": {
        "id": "ZvRJWm8VSU7X"
      },
      "source": [
        "## Create y_test variables for ML training"
      ]
    },
    {
      "cell_type": "code",
      "execution_count": 35,
      "metadata": {
        "id": "GAX2u1MOSU7Y"
      },
      "outputs": [],
      "source": [
        "y = df[target]\n",
        "y_mapped = df['Accident_severity_mapped']\n",
        "y_slight = df['Accident_slight']\n",
        "y_serious = df['Accident_serious']"
      ]
    },
    {
      "cell_type": "markdown",
      "metadata": {
        "id": "vm_Cah5DSU7Z"
      },
      "source": [
        "## Resampling"
      ]
    },
    {
      "cell_type": "code",
      "execution_count": 36,
      "metadata": {
        "id": "yrUtaaKGCFN7"
      },
      "outputs": [],
      "source": [
        "# Standardize the features\n",
        "scaler = StandardScaler()\n",
        "X_scaled = scaler.fit_transform(X)"
      ]
    },
    {
      "cell_type": "code",
      "execution_count": 37,
      "metadata": {
        "id": "apvfX9seSU7Z"
      },
      "outputs": [],
      "source": [
        "oversample = RandomOverSampler(random_state=42)\n",
        "\n",
        "X_resampled, y_resampled = oversample.fit_resample(X, y_mapped)"
      ]
    },
    {
      "cell_type": "code",
      "execution_count": 38,
      "metadata": {
        "id": "bpEySAzcAzer"
      },
      "outputs": [],
      "source": [
        "# Function to print evaluation metrics\n",
        "def print_evaluation_metrics(test, pred):\n",
        "    print(\"Accuracy: \", accuracy_score(test, pred))\n",
        "    print(\"Confusion Matrix:\\n\", confusion_matrix(test, pred))\n",
        "    print(\"Classification Report:\\n\", classification_report(test, pred))\n",
        "\n",
        "def print_cross_val_scores(scores):\n",
        "    print(\"Cross-validation scores: \", scores)\n",
        "    print(\"Average score: \", scores.mean())"
      ]
    },
    {
      "cell_type": "code",
      "execution_count": null,
      "metadata": {
        "id": "JrzjXV4JA3n7"
      },
      "outputs": [],
      "source": []
    },
    {
      "cell_type": "markdown",
      "metadata": {
        "id": "fUa013JDQnHr"
      },
      "source": [
        "# **Linear Regression**"
      ]
    },
    {
      "cell_type": "markdown",
      "metadata": {
        "id": "KMdcJJ2EELlG"
      },
      "source": [
        "## Slight Injury (1) vs. Serious Injury (0) vs. Fatal Injury (2)"
      ]
    },
    {
      "cell_type": "code",
      "execution_count": 39,
      "metadata": {
        "colab": {
          "base_uri": "https://localhost:8080/"
        },
        "id": "Kp8zAWr4EOfU",
        "outputId": "9c8771b4-fd23-45b5-81b4-cd47b12041f9"
      },
      "outputs": [
        {
          "name": "stdout",
          "output_type": "stream",
          "text": [
            "Logistic Regression (Slight Injury vs. Serious Injury vs. Fatal Injury):\n",
            "Accuracy:  0.8574908647990256\n",
            "Confusion Matrix:\n",
            " [[   1  329    0]\n",
            " [   0 2111    0]\n",
            " [   0   22    0]]\n",
            "Classification Report:\n",
            "               precision    recall  f1-score   support\n",
            "\n",
            "           0       1.00      0.00      0.01       330\n",
            "           1       0.86      1.00      0.92      2111\n",
            "           2       0.00      0.00      0.00        22\n",
            "\n",
            "    accuracy                           0.86      2463\n",
            "   macro avg       0.62      0.33      0.31      2463\n",
            "weighted avg       0.87      0.86      0.79      2463\n",
            "\n",
            "Cross-validation scores:  [0.85598377 0.85192698 0.85395538 0.85772358 0.85772358]\n",
            "Average score:  0.8554626560464387\n"
          ]
        }
      ],
      "source": [
        "#Split testing data\n",
        "X_train, X_test, y_train, y_test = train_test_split(X_scaled, y_mapped, test_size=0.3, random_state=42)\n",
        "\n",
        "#Train model\n",
        "log_reg_mapped = LogisticRegression(max_iter=1000, multi_class='multinomial', solver='lbfgs')\n",
        "log_reg_mapped.fit(X_train, y_train)\n",
        "\n",
        "#Create prediction\n",
        "y_pred_mapped = log_reg_mapped.predict(X_test)\n",
        "\n",
        "print(\"Logistic Regression (Slight Injury vs. Serious Injury vs. Fatal Injury):\")\n",
        "print_evaluation_metrics(y_test, y_pred_mapped)\n",
        "score_mapped = cross_val_score(log_reg_mapped, X_test, y_test, cv=5)\n",
        "print_cross_val_scores(score_mapped)"
      ]
    },
    {
      "cell_type": "markdown",
      "metadata": {
        "id": "MEuB9ZbF5GyR"
      },
      "source": [
        "##Slight Injury (0) vs. Serious Injury/Fatal Injury (1)"
      ]
    },
    {
      "cell_type": "code",
      "execution_count": 40,
      "metadata": {
        "colab": {
          "base_uri": "https://localhost:8080/"
        },
        "id": "SlRu8WTNSU7a",
        "outputId": "3f0fdf7d-54f0-41a0-87fc-c79e30af9504"
      },
      "outputs": [
        {
          "name": "stdout",
          "output_type": "stream",
          "text": [
            "Logistic Regression (Slight Injury vs. Serious/Fatal Injury):\n",
            "Accuracy:  0.8574908647990256\n",
            "Confusion Matrix:\n",
            " [[2111    0]\n",
            " [ 351    1]]\n",
            "Classification Report:\n",
            "               precision    recall  f1-score   support\n",
            "\n",
            "           0       0.86      1.00      0.92      2111\n",
            "           1       1.00      0.00      0.01       352\n",
            "\n",
            "    accuracy                           0.86      2463\n",
            "   macro avg       0.93      0.50      0.46      2463\n",
            "weighted avg       0.88      0.86      0.79      2463\n",
            "\n",
            "Cross-validation scores:  [0.85598377 0.85598377 0.85395538 0.8597561  0.85772358]\n",
            "Average score:  0.8566805191378485\n"
          ]
        }
      ],
      "source": [
        "# Split testing data\n",
        "X_train, X_test, y_train, y_test = train_test_split(X_scaled, y_slight, test_size=0.3, random_state=42)\n",
        "\n",
        "\n",
        "# Train model\n",
        "log_reg_slight = LogisticRegression(max_iter=1000)\n",
        "log_reg_slight.fit(X_train, y_train)\n",
        "\n",
        "# Create prediction\n",
        "y_pred_slight = log_reg_slight.predict(X_test)\n",
        "\n",
        "print(\"Logistic Regression (Slight Injury vs. Serious/Fatal Injury):\")\n",
        "print_evaluation_metrics(y_test, y_pred_slight)\n",
        "score_slight = cross_val_score(log_reg_slight, X_test, y_test, cv=5)\n",
        "print_cross_val_scores(score_slight)"
      ]
    },
    {
      "cell_type": "markdown",
      "metadata": {
        "id": "uTW1imoR5Olz"
      },
      "source": [
        "##Slight/Fatal Injury (1) vs. Serious Injury (0)"
      ]
    },
    {
      "cell_type": "code",
      "execution_count": 41,
      "metadata": {
        "colab": {
          "base_uri": "https://localhost:8080/"
        },
        "id": "-QMzbNQ-DWwL",
        "outputId": "b9ba0949-9384-4401-cace-ca397e504227"
      },
      "outputs": [
        {
          "name": "stdout",
          "output_type": "stream",
          "text": [
            "Logistic Regression (Slight/Fatal Injury vs. Serious Injury):\n",
            "Accuracy:  0.8660170523751523\n",
            "Confusion Matrix:\n",
            " [[   0  330]\n",
            " [   0 2133]]\n",
            "Classification Report:\n",
            "               precision    recall  f1-score   support\n",
            "\n",
            "           0       0.00      0.00      0.00       330\n",
            "           1       0.87      1.00      0.93      2133\n",
            "\n",
            "    accuracy                           0.87      2463\n",
            "   macro avg       0.43      0.50      0.46      2463\n",
            "weighted avg       0.75      0.87      0.80      2463\n",
            "\n",
            "Cross-validation scores:  [0.86409736 0.86409736 0.86206897 0.86788618 0.86585366]\n",
            "Average score:  0.8648007058163889\n"
          ]
        }
      ],
      "source": [
        "#Split testing data\n",
        "X_train, X_test, y_train, y_test = train_test_split(X_scaled, y_serious, test_size=0.3, random_state=42)\n",
        "\n",
        "#Train model\n",
        "log_reg_serious = LogisticRegression(max_iter=1000)\n",
        "log_reg_serious.fit(X_train, y_train)\n",
        "\n",
        "#Create prediction\n",
        "y_pred_serious = log_reg_serious.predict(X_test)\n",
        "print(\"Logistic Regression (Slight/Fatal Injury vs. Serious Injury):\")\n",
        "print_evaluation_metrics(y_test, y_pred_serious)\n",
        "\n",
        "score_serious = cross_val_score(log_reg_serious, X_test, y_test, cv=5)\n",
        "print_cross_val_scores(score_serious)"
      ]
    },
    {
      "cell_type": "markdown",
      "metadata": {
        "id": "kdCW0B5AEGNU"
      },
      "source": [
        "# Resample Target Data"
      ]
    },
    {
      "cell_type": "markdown",
      "metadata": {
        "id": "LcPwbV6QJEEA"
      },
      "source": [
        "## Slight Injury (1) vs. Serious Injury (0) vs. Fatal Injury (2)"
      ]
    },
    {
      "cell_type": "code",
      "execution_count": 42,
      "metadata": {
        "colab": {
          "base_uri": "https://localhost:8080/"
        },
        "id": "0ovK53IeJFIf",
        "outputId": "75e07c5a-137d-4e99-ee96-c96ec52f9429"
      },
      "outputs": [
        {
          "name": "stdout",
          "output_type": "stream",
          "text": [
            "Accident_severity_mapped\n",
            "1    7082\n",
            "0    7082\n",
            "2    7082\n",
            "Name: count, dtype: int64\n"
          ]
        }
      ],
      "source": [
        "# Apply RandomOverSampler\n",
        "oversample = RandomOverSampler(random_state=42)\n",
        "\n",
        "X_resampled, y_resampled = oversample.fit_resample(X_scaled, y_mapped)\n",
        "\n",
        "# Check distribution\n",
        "print(y_resampled.value_counts())"
      ]
    },
    {
      "cell_type": "code",
      "execution_count": 43,
      "metadata": {
        "colab": {
          "base_uri": "https://localhost:8080/"
        },
        "id": "gRkhzBsMJ_vR",
        "outputId": "e08a9b6b-aa84-4ff9-8424-ee9cb67431c8"
      },
      "outputs": [
        {
          "name": "stdout",
          "output_type": "stream",
          "text": [
            "Logistic Regression with Oversampling (Slight Injury vs. Serious Injury vs. Fatal Injury):\n",
            "Accuracy:  0.5527141512394101\n",
            "Confusion Matrix:\n",
            " [[ 851  797  519]\n",
            " [ 630 1050  436]\n",
            " [ 291  178 1622]]\n",
            "Classification Report:\n",
            "               precision    recall  f1-score   support\n",
            "\n",
            "           0       0.48      0.39      0.43      2167\n",
            "           1       0.52      0.50      0.51      2116\n",
            "           2       0.63      0.78      0.69      2091\n",
            "\n",
            "    accuracy                           0.55      6374\n",
            "   macro avg       0.54      0.55      0.54      6374\n",
            "weighted avg       0.54      0.55      0.54      6374\n",
            "\n",
            "Cross-validation scores:  [0.54666667 0.52941176 0.54823529 0.53882353 0.51020408]\n",
            "Average score:  0.5346682673069227\n"
          ]
        }
      ],
      "source": [
        "#Split testing data\n",
        "X_train, X_test, y_train, y_test = train_test_split(X_resampled, y_resampled, test_size=0.3, random_state=42)\n",
        "\n",
        "#Train model\n",
        "log_reg_mapped = LogisticRegression(max_iter=1000, multi_class='multinomial', solver='lbfgs')\n",
        "log_reg_mapped.fit(X_train, y_train)\n",
        "\n",
        "#Create prediction\n",
        "y_pred_mapped = log_reg_mapped.predict(X_test)\n",
        "\n",
        "\n",
        "print(\"Logistic Regression with Oversampling (Slight Injury vs. Serious Injury vs. Fatal Injury):\")\n",
        "print_evaluation_metrics(y_test, y_pred_mapped)\n",
        "score_mapped = cross_val_score(log_reg_mapped, X_test, y_test, cv=5)\n",
        "print_cross_val_scores(score_mapped)"
      ]
    },
    {
      "cell_type": "markdown",
      "metadata": {
        "id": "cSH8c-ThJEEC"
      },
      "source": [
        "##Slight Injury (0) vs. Serious Injury/Fatal Injury (1)"
      ]
    },
    {
      "cell_type": "code",
      "execution_count": 44,
      "metadata": {
        "colab": {
          "base_uri": "https://localhost:8080/"
        },
        "id": "ToSlwgNfKwBV",
        "outputId": "ac280847-7384-4b46-ddf2-fbd363a1b07a"
      },
      "outputs": [
        {
          "name": "stdout",
          "output_type": "stream",
          "text": [
            "Accident_slight\n",
            "0    7082\n",
            "1    7082\n",
            "Name: count, dtype: int64\n"
          ]
        }
      ],
      "source": [
        "X_resampled, y_resampled = oversample.fit_resample(X_scaled, y_slight)\n",
        "\n",
        "#Check distribution\n",
        "print(y_resampled.value_counts())\n"
      ]
    },
    {
      "cell_type": "code",
      "execution_count": 45,
      "metadata": {
        "colab": {
          "base_uri": "https://localhost:8080/"
        },
        "id": "_dViLQVSLJsY",
        "outputId": "324ad39d-c079-4fe8-b7ae-1844d79a7153"
      },
      "outputs": [
        {
          "name": "stdout",
          "output_type": "stream",
          "text": [
            "Logistic Regression with Oversampling (Slight Injury vs. Serious/Fatal Injury):\n",
            "Accuracy:  0.5854117647058823\n",
            "Confusion Matrix:\n",
            " [[1217  914]\n",
            " [ 848 1271]]\n",
            "Classification Report:\n",
            "               precision    recall  f1-score   support\n",
            "\n",
            "           0       0.59      0.57      0.58      2131\n",
            "           1       0.58      0.60      0.59      2119\n",
            "\n",
            "    accuracy                           0.59      4250\n",
            "   macro avg       0.59      0.59      0.59      4250\n",
            "weighted avg       0.59      0.59      0.59      4250\n",
            "\n",
            "Cross-validation scores:  [0.57411765 0.55647059 0.55882353 0.61058824 0.55764706]\n",
            "Average score:  0.5715294117647058\n"
          ]
        }
      ],
      "source": [
        "#Split testing data\n",
        "X_train, X_test, y_train, y_test = train_test_split(X_resampled, y_resampled, test_size=0.3, random_state=42)\n",
        "\n",
        "#Train model\n",
        "log_reg_slight = LogisticRegression(max_iter=1000)\n",
        "log_reg_slight.fit(X_train, y_train)\n",
        "\n",
        "#Create predictions\n",
        "y_pred_slight = log_reg_slight.predict(X_test)\n",
        "\n",
        "\n",
        "print(\"Logistic Regression with Oversampling (Slight Injury vs. Serious/Fatal Injury):\")\n",
        "print_evaluation_metrics(y_test, y_pred_slight)\n",
        "score_slight = cross_val_score(log_reg_slight, X_test, y_test, cv=5)\n",
        "print_cross_val_scores(score_slight)\n"
      ]
    },
    {
      "cell_type": "markdown",
      "metadata": {
        "id": "-RDCb82pJEED"
      },
      "source": [
        "##Slight/Fatal Injury (1) vs. Serious Injury (0)"
      ]
    },
    {
      "cell_type": "code",
      "execution_count": 46,
      "metadata": {
        "colab": {
          "base_uri": "https://localhost:8080/"
        },
        "id": "5FB8_t-e5tDT",
        "outputId": "c728314a-da4d-44d0-d861-02df20ca91d9"
      },
      "outputs": [
        {
          "name": "stdout",
          "output_type": "stream",
          "text": [
            "Accident_serious\n",
            "1    7164\n",
            "0    7164\n",
            "Name: count, dtype: int64\n"
          ]
        }
      ],
      "source": [
        "X_resampled, y_resampled = oversample.fit_resample(X_scaled, y_serious)\n",
        "\n",
        "#Check distribution\n",
        "print(y_resampled.value_counts())\n"
      ]
    },
    {
      "cell_type": "code",
      "execution_count": 47,
      "metadata": {
        "colab": {
          "base_uri": "https://localhost:8080/"
        },
        "id": "LD6I8v1JLUaK",
        "outputId": "b5eeafcd-a644-4fa4-dbb6-d56953ed7cc5"
      },
      "outputs": [
        {
          "name": "stdout",
          "output_type": "stream",
          "text": [
            "Logistic Regression with Oversampling (Slight/Fatal Injury vs. Serious Injury):\n",
            "Accuracy:  0.5782740172133054\n",
            "Confusion Matrix:\n",
            " [[1269  896]\n",
            " [ 917 1217]]\n",
            "Classification Report:\n",
            "               precision    recall  f1-score   support\n",
            "\n",
            "           0       0.58      0.59      0.58      2165\n",
            "           1       0.58      0.57      0.57      2134\n",
            "\n",
            "    accuracy                           0.58      4299\n",
            "   macro avg       0.58      0.58      0.58      4299\n",
            "weighted avg       0.58      0.58      0.58      4299\n",
            "\n",
            "Cross-validation scores:  [0.57674419 0.58255814 0.53953488 0.58023256 0.57159488]\n",
            "Average score:  0.5701329290413407\n"
          ]
        }
      ],
      "source": [
        "#Split testing data\n",
        "X_train, X_test, y_train, y_test = train_test_split(X_resampled, y_resampled, test_size=0.3, random_state=42)\n",
        "\n",
        "#Train model\n",
        "log_reg_serious = LogisticRegression(max_iter=1000)\n",
        "log_reg_serious.fit(X_train, y_train)\n",
        "\n",
        "#Create prediction\n",
        "y_pred_serious = log_reg_serious.predict(X_test)\n",
        "\n",
        "\n",
        "print(\"Logistic Regression with Oversampling (Slight/Fatal Injury vs. Serious Injury):\")\n",
        "print_evaluation_metrics(y_test, y_pred_serious)\n",
        "score_serious = cross_val_score(log_reg_serious, X_test, y_test, cv=5)\n",
        "print_cross_val_scores(score_serious)\n"
      ]
    },
    {
      "cell_type": "markdown",
      "metadata": {
        "id": "vWroKBPIMikk"
      },
      "source": [
        "### **Logistic Regression Summary**\n",
        "**Target: Slight Injury (1) vs. Serious Injury (0) vs. Fatal Injury (2)**\n",
        "\n",
        "**Without Oversampling:**\n",
        "\n",
        "Accuracy: 85.74%\n",
        "\n",
        "\n",
        "Precision Serious Injury: 86%\n",
        "\n",
        "\n",
        "Recall: 100%\n",
        "\n",
        "\n",
        "**With Oversampling:**\n",
        "\n",
        "\n",
        "Accuracy: 57.87%\n",
        "\n",
        "Precision Serious Injury: 58%\n",
        "\n",
        "Recall: 57%\n",
        "\n",
        "\n",
        "\n",
        "---\n",
        "\n",
        "\n",
        "**Target: Slight Injury (0) vs. Serious Injury/Fatal Injury (1)**\n",
        "\n",
        "**Without Oversampling:**\n",
        "\n",
        "Accuracy: 85.75%\n",
        "\n",
        "Precision Serious Injury: 100%\n",
        "\n",
        "Recall: 0%\n",
        "\n",
        "**With Oversampling:**\n",
        "\n",
        "Accuracy: 57.87%\n",
        "\n",
        "Precision Serious Injury: 58%\n",
        "\n",
        "Recall: 57%\n",
        "\n",
        "\n",
        "---\n",
        "\n",
        "\n",
        "**Target: Slight/Fatal Injury (1) vs. Serious Injury (0)**\n",
        "\n",
        "**Without Oversampling:**\n",
        "\n",
        "Accuracy: 86.60%\n",
        "\n",
        "Precision Serious Injury: 87%\n",
        "\n",
        "Recall: 100%\n",
        "\n",
        "**With Oversampling:**\n",
        "\n",
        "Accuracy: 57.87%\n",
        "\n",
        "Precision Serious Injury: 58%\n",
        "\n",
        "Recall: 57%"
      ]
    },
    {
      "cell_type": "markdown",
      "metadata": {
        "id": "dgvALvEERTPw"
      },
      "source": [
        "# **KNN Model**"
      ]
    },
    {
      "cell_type": "code",
      "execution_count": 48,
      "metadata": {
        "id": "kz_S9Jp_iVn1"
      },
      "outputs": [],
      "source": [
        "param_grid = {'n_neighbors': range(1, 50)}"
      ]
    },
    {
      "cell_type": "markdown",
      "metadata": {
        "id": "4-_okNy8iNne"
      },
      "source": [
        "## Without Oversampling"
      ]
    },
    {
      "cell_type": "markdown",
      "metadata": {
        "id": "42l4nSdoapSC"
      },
      "source": [
        "## Slight Injury (1) vs. Serious Injury (0) vs. Fatal Injury (2)"
      ]
    },
    {
      "cell_type": "code",
      "execution_count": 49,
      "metadata": {
        "colab": {
          "base_uri": "https://localhost:8080/"
        },
        "id": "q7X_HLVhaq8P",
        "outputId": "daeb9d69-f7d8-4d5e-9b65-fe567688402f"
      },
      "outputs": [
        {
          "name": "stdout",
          "output_type": "stream",
          "text": [
            "Best number of neighbors: 21\n",
            "KNN (Slight Injury vs. Serious Injury vs. Fatal Injury):\n",
            "Accuracy:  0.857084855866829\n",
            "Confusion Matrix:\n",
            " [[   0  330    0]\n",
            " [   0 2111    0]\n",
            " [   0   22    0]]\n",
            "Classification Report:\n",
            "               precision    recall  f1-score   support\n",
            "\n",
            "           0       0.00      0.00      0.00       330\n",
            "           1       0.86      1.00      0.92      2111\n",
            "           2       0.00      0.00      0.00        22\n",
            "\n",
            "    accuracy                           0.86      2463\n",
            "   macro avg       0.29      0.33      0.31      2463\n",
            "weighted avg       0.73      0.86      0.79      2463\n",
            "\n",
            "Cross-validation scores:  [0.84381339 0.86004057 0.81947262 0.83739837 0.8495935 ]\n",
            "Average score:  0.8420636883853625\n"
          ]
        }
      ],
      "source": [
        "#Split testing data\n",
        "X_train, X_test, y_train, y_test = train_test_split(X_scaled, y_mapped, test_size=0.3, random_state=42)\n",
        "\n",
        "#Train model with best number of neighbors\n",
        "knn_mapped = KNeighborsClassifier()\n",
        "grid_search_mapped = GridSearchCV(knn_mapped, param_grid, cv=5, scoring='accuracy')\n",
        "grid_search_mapped.fit(X_train, y_train)\n",
        "best_knn_mapped = grid_search_mapped.best_estimator_\n",
        "\n",
        "#Create prediction\n",
        "y_pred_mapped = best_knn_mapped.predict(X_test)\n",
        "\n",
        "print(\"Best number of neighbors:\", grid_search_mapped.best_params_['n_neighbors'])\n",
        "print(\"KNN (Slight Injury vs. Serious Injury vs. Fatal Injury):\")\n",
        "print_evaluation_metrics(y_test, y_pred_mapped)\n",
        "score_mapped = cross_val_score(knn_mapped, X_test, y_test, cv=5)\n",
        "print_cross_val_scores(score_mapped)\n"
      ]
    },
    {
      "cell_type": "markdown",
      "metadata": {
        "id": "X7gl6jIrapSE"
      },
      "source": [
        "##Slight Injury (0) vs. Serious Injury/Fatal Injury (1)"
      ]
    },
    {
      "cell_type": "code",
      "execution_count": 50,
      "metadata": {
        "colab": {
          "base_uri": "https://localhost:8080/"
        },
        "id": "CF9gh7OWr2dX",
        "outputId": "28e60b7b-2e65-4c11-f6cf-f377249e5ef2"
      },
      "outputs": [
        {
          "name": "stdout",
          "output_type": "stream",
          "text": [
            "Best number of neighbors for Slight Injury vs. Serious/Fatal Injury: 20\n",
            "KNN (Slight Injury vs. Serious/Fatal Injury):\n",
            "Accuracy:  0.857084855866829\n",
            "Confusion Matrix:\n",
            " [[2111    0]\n",
            " [ 352    0]]\n",
            "Classification Report:\n",
            "               precision    recall  f1-score   support\n",
            "\n",
            "           0       0.86      1.00      0.92      2111\n",
            "           1       0.00      0.00      0.00       352\n",
            "\n",
            "    accuracy                           0.86      2463\n",
            "   macro avg       0.43      0.50      0.46      2463\n",
            "weighted avg       0.73      0.86      0.79      2463\n",
            "\n",
            "Cross-validation scores:  [0.85801217 0.85598377 0.85598377 0.85772358 0.85772358]\n",
            "Average score:  0.8570853740991771\n"
          ]
        }
      ],
      "source": [
        "#Split testing data\n",
        "X_train, X_test, y_train, y_test = train_test_split(X_scaled, y_slight, test_size=0.3, random_state=42)\n",
        "\n",
        "#Train model with best number of neighbors\n",
        "knn_slight = KNeighborsClassifier()\n",
        "grid_search_slight = GridSearchCV(knn_slight, param_grid, cv=5, scoring='accuracy')\n",
        "grid_search_slight.fit(X_train, y_train)\n",
        "best_knn_slight = grid_search_slight.best_estimator_\n",
        "\n",
        "#Create prediction\n",
        "y_pred_slight = best_knn_slight.predict(X_test)\n",
        "\n",
        "print(\"Best number of neighbors for Slight Injury vs. Serious/Fatal Injury:\", grid_search_slight.best_params_['n_neighbors'])\n",
        "print(\"KNN (Slight Injury vs. Serious/Fatal Injury):\")\n",
        "print_evaluation_metrics(y_test, y_pred_slight)\n",
        "score_slight = cross_val_score(best_knn_slight, X_test, y_test, cv=5)\n",
        "print_cross_val_scores(score_slight)"
      ]
    },
    {
      "cell_type": "markdown",
      "metadata": {
        "id": "tCwKg_8WapSE"
      },
      "source": [
        "##Slight/Fatal Injury (1) vs. Serious Injury (0)"
      ]
    },
    {
      "cell_type": "code",
      "execution_count": 51,
      "metadata": {
        "colab": {
          "base_uri": "https://localhost:8080/"
        },
        "id": "DirGTeUlrWyB",
        "outputId": "12dee12f-d3c0-4bfa-8b15-4fc28eb8d8ea"
      },
      "outputs": [
        {
          "name": "stdout",
          "output_type": "stream",
          "text": [
            "Best number of neighbors for Slight/Fatal Injury vs. Serious Injury: 21\n",
            "KNN (Slight/Fatal Injury vs. Serious Injury):\n",
            "Accuracy:  0.8660170523751523\n",
            "Confusion Matrix:\n",
            " [[   0  330]\n",
            " [   0 2133]]\n",
            "Classification Report:\n",
            "               precision    recall  f1-score   support\n",
            "\n",
            "           0       0.00      0.00      0.00       330\n",
            "           1       0.87      1.00      0.93      2133\n",
            "\n",
            "    accuracy                           0.87      2463\n",
            "   macro avg       0.43      0.50      0.46      2463\n",
            "weighted avg       0.75      0.87      0.80      2463\n",
            "\n",
            "Cross-validation scores:  [0.86612576 0.86612576 0.86409736 0.86585366 0.86585366]\n",
            "Average score:  0.8656112402909019\n"
          ]
        }
      ],
      "source": [
        "#Split testing data\n",
        "X_train, X_test, y_train, y_test = train_test_split(X_scaled, y_serious, test_size=0.3, random_state=42)\n",
        "\n",
        "#Train model with best number of neighbors\n",
        "knn_serious = KNeighborsClassifier()\n",
        "grid_search_serious = GridSearchCV(knn_serious, param_grid, cv=5, scoring='accuracy')\n",
        "grid_search_serious.fit(X_train, y_train)\n",
        "best_knn_serious = grid_search_serious.best_estimator_\n",
        "\n",
        "#Create prediction\n",
        "y_pred_serious = best_knn_serious.predict(X_test)\n",
        "\n",
        "print(\"Best number of neighbors for Slight/Fatal Injury vs. Serious Injury:\", grid_search_serious.best_params_['n_neighbors'])\n",
        "print(\"KNN (Slight/Fatal Injury vs. Serious Injury):\")\n",
        "print_evaluation_metrics(y_test, y_pred_serious)\n",
        "score_serious = cross_val_score(best_knn_serious, X_test, y_test, cv=5)\n",
        "print_cross_val_scores(score_serious)"
      ]
    },
    {
      "cell_type": "code",
      "execution_count": null,
      "metadata": {
        "id": "_eB1TpgRrt74"
      },
      "outputs": [],
      "source": []
    },
    {
      "cell_type": "markdown",
      "metadata": {
        "id": "olyU74VHaeFI"
      },
      "source": [
        "# Resample Target Data"
      ]
    },
    {
      "cell_type": "markdown",
      "metadata": {
        "id": "p8e8Y0rUaeFK"
      },
      "source": [
        "## Slight Injury (1) vs. Serious Injury (0) vs. Fatal Injury (2)"
      ]
    },
    {
      "cell_type": "code",
      "execution_count": 52,
      "metadata": {
        "colab": {
          "base_uri": "https://localhost:8080/"
        },
        "id": "l0Koe6bNseqU",
        "outputId": "47e2b923-3cd3-408e-c53b-11a5c81f0d6b"
      },
      "outputs": [
        {
          "name": "stdout",
          "output_type": "stream",
          "text": [
            "Accident_severity_mapped\n",
            "1    7082\n",
            "0    7082\n",
            "2    7082\n",
            "Name: count, dtype: int64\n"
          ]
        }
      ],
      "source": [
        "# Apply RandomOverSampler\n",
        "oversample = RandomOverSampler(random_state=42)\n",
        "\n",
        "X_resampled, y_resampled = oversample.fit_resample(X_scaled, y_mapped)\n",
        "\n",
        "# Check distribution\n",
        "print(y_resampled.value_counts())"
      ]
    },
    {
      "cell_type": "code",
      "execution_count": 53,
      "metadata": {
        "colab": {
          "base_uri": "https://localhost:8080/"
        },
        "id": "FzYOYjBBtw8Z",
        "outputId": "26cb07ee-203a-4fe9-aff3-3601ba059948"
      },
      "outputs": [
        {
          "name": "stdout",
          "output_type": "stream",
          "text": [
            "Best number of neighbors for Slight Injury vs. Serious Injury vs. Fatal Injury (oversampled): 1\n",
            "KNN with Oversampling (Slight Injury vs. Serious Injury vs. Fatal Injury):\n",
            "Accuracy:  0.9237527455287103\n",
            "Confusion Matrix:\n",
            " [[2090   70    7]\n",
            " [ 356 1737   23]\n",
            " [   0   30 2061]]\n",
            "Classification Report:\n",
            "               precision    recall  f1-score   support\n",
            "\n",
            "           0       0.85      0.96      0.91      2167\n",
            "           1       0.95      0.82      0.88      2116\n",
            "           2       0.99      0.99      0.99      2091\n",
            "\n",
            "    accuracy                           0.92      6374\n",
            "   macro avg       0.93      0.92      0.92      6374\n",
            "weighted avg       0.93      0.92      0.92      6374\n",
            "\n",
            "Cross-validation scores:  [0.84       0.84784314 0.84078431 0.83215686 0.83516484]\n",
            "Average score:  0.8391898297780651\n"
          ]
        }
      ],
      "source": [
        "#Split testing data\n",
        "X_train, X_test, y_train, y_test = train_test_split(X_resampled, y_resampled, test_size=0.3, random_state=42)\n",
        "\n",
        "#Train model with best number of neighbors\n",
        "knn_mapped = KNeighborsClassifier()\n",
        "grid_search_mapped = GridSearchCV(knn_mapped, param_grid, cv=5, scoring='accuracy')\n",
        "grid_search_mapped.fit(X_train, y_train)\n",
        "best_knn_mapped = grid_search_mapped.best_estimator_\n",
        "\n",
        "#Create prediction\n",
        "y_pred_mapped = best_knn_mapped.predict(X_test)\n",
        "\n",
        "\n",
        "print(\"Best number of neighbors for Slight Injury vs. Serious Injury vs. Fatal Injury (oversampled):\", grid_search_mapped.best_params_['n_neighbors'])\n",
        "print(\"KNN with Oversampling (Slight Injury vs. Serious Injury vs. Fatal Injury):\")\n",
        "print_evaluation_metrics(y_test, y_pred_mapped)\n",
        "score_mapped = cross_val_score(best_knn_mapped, X_test, y_test, cv=5)\n",
        "print_cross_val_scores(score_mapped)"
      ]
    },
    {
      "cell_type": "markdown",
      "metadata": {
        "id": "8gGsungGaeFM"
      },
      "source": [
        "##Slight Injury (0) vs. Serious Injury/Fatal Injury (1)"
      ]
    },
    {
      "cell_type": "code",
      "execution_count": 54,
      "metadata": {
        "colab": {
          "base_uri": "https://localhost:8080/"
        },
        "id": "5JJtNE1WteD0",
        "outputId": "422c0df1-e4b6-43f0-d4fd-a56ba0999bb2"
      },
      "outputs": [
        {
          "name": "stdout",
          "output_type": "stream",
          "text": [
            "Accident_slight\n",
            "0    7082\n",
            "1    7082\n",
            "Name: count, dtype: int64\n"
          ]
        }
      ],
      "source": [
        "X_resampled, y_resampled = oversample.fit_resample(X_scaled, y_slight)\n",
        "\n",
        "#Check distribution\n",
        "print(y_resampled.value_counts())"
      ]
    },
    {
      "cell_type": "code",
      "execution_count": 55,
      "metadata": {
        "colab": {
          "base_uri": "https://localhost:8080/"
        },
        "id": "bpZeOVd7uE3O",
        "outputId": "d6dc9b3e-fe0b-451e-810d-b41870bb2be8"
      },
      "outputs": [
        {
          "name": "stdout",
          "output_type": "stream",
          "text": [
            "Best number of neighbors for Slight Injury vs. Serious/Fatal Injury (oversampled): 1\n",
            "KNN with Oversampling (Slight Injury vs. Serious/Fatal Injury):\n",
            "Accuracy:  0.8847058823529412\n",
            "Confusion Matrix:\n",
            " [[1717  414]\n",
            " [  76 2043]]\n",
            "Classification Report:\n",
            "               precision    recall  f1-score   support\n",
            "\n",
            "           0       0.96      0.81      0.88      2131\n",
            "           1       0.83      0.96      0.89      2119\n",
            "\n",
            "    accuracy                           0.88      4250\n",
            "   macro avg       0.89      0.88      0.88      4250\n",
            "weighted avg       0.89      0.88      0.88      4250\n",
            "\n",
            "Cross-validation scores:  [0.78117647 0.75294118 0.76705882 0.76       0.77882353]\n",
            "Average score:  0.768\n"
          ]
        }
      ],
      "source": [
        "#Split testing data\n",
        "X_train, X_test, y_train, y_test = train_test_split(X_resampled, y_resampled, test_size=0.3, random_state=42)\n",
        "\n",
        "#Train model with best number of neighbors\n",
        "knn_slight = KNeighborsClassifier()\n",
        "grid_search_slight = GridSearchCV(knn_slight, param_grid, cv=5, scoring='accuracy')\n",
        "grid_search_slight.fit(X_train, y_train)\n",
        "best_knn_slight = grid_search_slight.best_estimator_\n",
        "\n",
        "#Create prediction\n",
        "y_pred_slight = best_knn_slight.predict(X_test)\n",
        "\n",
        "print(\"Best number of neighbors for Slight Injury vs. Serious/Fatal Injury (oversampled):\", grid_search_slight.best_params_['n_neighbors'])\n",
        "print(\"KNN with Oversampling (Slight Injury vs. Serious/Fatal Injury):\")\n",
        "print_evaluation_metrics(y_test, y_pred_slight)\n",
        "score_slight = cross_val_score(best_knn_slight, X_test, y_test, cv=5)\n",
        "print_cross_val_scores(score_slight)"
      ]
    },
    {
      "cell_type": "markdown",
      "metadata": {
        "id": "z8MDsJ91aeFM"
      },
      "source": [
        "##Slight/Fatal Injury (1) vs. Serious Injury (0)"
      ]
    },
    {
      "cell_type": "code",
      "execution_count": 56,
      "metadata": {
        "colab": {
          "base_uri": "https://localhost:8080/"
        },
        "id": "voFItPlDtqLF",
        "outputId": "254ce3e7-fe30-4b52-a575-713561c1c4ac"
      },
      "outputs": [
        {
          "name": "stdout",
          "output_type": "stream",
          "text": [
            "Accident_serious\n",
            "1    7164\n",
            "0    7164\n",
            "Name: count, dtype: int64\n"
          ]
        }
      ],
      "source": [
        "X_resampled, y_resampled = oversample.fit_resample(X_scaled, y_serious)\n",
        "\n",
        "#Check distribution\n",
        "print(y_resampled.value_counts())\n"
      ]
    },
    {
      "cell_type": "code",
      "execution_count": 57,
      "metadata": {
        "colab": {
          "base_uri": "https://localhost:8080/"
        },
        "id": "y1l8VGdKtmsT",
        "outputId": "172b92ff-d488-4743-f2e0-be1ffae29d5c"
      },
      "outputs": [
        {
          "name": "stdout",
          "output_type": "stream",
          "text": [
            "Best number of neighbors for Slight/Fatal Injury vs. Serious Injury (oversampled): 1\n",
            "KNN with Oversampling (Slight/Fatal Injury vs. Serious Injury):\n",
            "Accuracy:  0.8941614328913701\n",
            "Confusion Matrix:\n",
            " [[2066   99]\n",
            " [ 356 1778]]\n",
            "Classification Report:\n",
            "               precision    recall  f1-score   support\n",
            "\n",
            "           0       0.85      0.95      0.90      2165\n",
            "           1       0.95      0.83      0.89      2134\n",
            "\n",
            "    accuracy                           0.89      4299\n",
            "   macro avg       0.90      0.89      0.89      4299\n",
            "weighted avg       0.90      0.89      0.89      4299\n",
            "\n",
            "Cross-validation scores:  [0.78023256 0.76162791 0.76627907 0.78488372 0.78230501]\n",
            "Average score:  0.775065652326935\n"
          ]
        }
      ],
      "source": [
        "#Split testing data\n",
        "X_train, X_test, y_train, y_test = train_test_split(X_resampled, y_resampled, test_size=0.3, random_state=42)\n",
        "\n",
        "\n",
        "#Train model with best number of neighbors\n",
        "knn_serious = KNeighborsClassifier()\n",
        "grid_search_serious = GridSearchCV(knn_serious, param_grid, cv=5, scoring='accuracy')\n",
        "grid_search_serious.fit(X_train, y_train)\n",
        "best_knn_serious = grid_search_serious.best_estimator_\n",
        "\n",
        "#Create predictiom\n",
        "y_pred_serious = best_knn_serious.predict(X_test)\n",
        "\n",
        "print(\"Best number of neighbors for Slight/Fatal Injury vs. Serious Injury (oversampled):\", grid_search_serious.best_params_['n_neighbors'])\n",
        "print(\"KNN with Oversampling (Slight/Fatal Injury vs. Serious Injury):\")\n",
        "print_evaluation_metrics(y_test, y_pred_serious)\n",
        "score_serious = cross_val_score(best_knn_serious, X_test, y_test, cv=5)\n",
        "print_cross_val_scores(score_serious)"
      ]
    },
    {
      "cell_type": "markdown",
      "metadata": {
        "id": "74XBjMByaeFN"
      },
      "source": [
        "### **KNN Model Summary**\n",
        "**Target: Slight Injury (1) vs. Serious Injury (0) vs. Fatal Injury (2)**\n",
        "\n",
        "**Without Oversampling:**\n",
        "\n",
        "Accuracy: 85.71%\n",
        "\n",
        "\n",
        "Precision Serious Injury: 86%\n",
        "\n",
        "\n",
        "Recall: 100%\n",
        "\n",
        "\n",
        "**With Oversampling:**\n",
        "\n",
        "\n",
        "Accuracy: 92.88%\n",
        "\n",
        "Precision Serious Injury: 96%\n",
        "\n",
        "Recall: 82%\n",
        "\n",
        "\n",
        "\n",
        "---\n",
        "\n",
        "\n",
        "**Target: Slight Injury (0) vs. Serious Injury/Fatal Injury (1)**\n",
        "\n",
        "**Without Oversampling:**\n",
        "\n",
        "Accuracy: 85.71%\n",
        "\n",
        "Precision Serious Injury: 0%\n",
        "\n",
        "Recall: 0%\n",
        "\n",
        "**With Oversampling:**\n",
        "\n",
        "Accuracy: 88.49%\n",
        "\n",
        "Precision Serious Injury: 83%\n",
        "\n",
        "Recall: 96%\n",
        "\n",
        "\n",
        "---\n",
        "\n",
        "\n",
        "**Target: Slight/Fatal Injury (1) vs. Serious Injury (0)**\n",
        "\n",
        "**Without Oversampling:**\n",
        "\n",
        "Accuracy: 86.60%\n",
        "\n",
        "Precision Serious Injury: 87%\n",
        "\n",
        "Recall: 100%\n",
        "\n",
        "**With Oversampling:**\n",
        "\n",
        "Accuracy: 89.46%\n",
        "\n",
        "Precision Serious Injury: 95%\n",
        "\n",
        "Recall: 83%"
      ]
    },
    {
      "cell_type": "code",
      "execution_count": null,
      "metadata": {
        "id": "wHgjONzpxe2k"
      },
      "outputs": [],
      "source": []
    }
  ],
  "metadata": {
    "colab": {
      "provenance": []
    },
    "kernelspec": {
      "display_name": "mambaML",
      "language": "python",
      "name": "python3"
    },
    "language_info": {
      "codemirror_mode": {
        "name": "ipython",
        "version": 3
      },
      "file_extension": ".py",
      "mimetype": "text/x-python",
      "name": "python",
      "nbconvert_exporter": "python",
      "pygments_lexer": "ipython3",
      "version": "3.10.14"
    }
  },
  "nbformat": 4,
  "nbformat_minor": 0
}

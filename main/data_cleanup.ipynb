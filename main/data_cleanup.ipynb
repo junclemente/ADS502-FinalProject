{
 "cells": [
  {
   "cell_type": "code",
   "execution_count": 1,
   "metadata": {},
   "outputs": [],
   "source": [
    "import pandas as pd\n",
    "import numpy as np\n",
    "import matplotlib.pyplot as plt\n",
    "import scipy.stats as stats\n",
    "import seaborn as sns\n",
    "\n",
    "from pathlib import Path\n",
    "from scipy.stats import chi2_contingency\n",
    "from sklearn.preprocessing import LabelEncoder\n",
    "from sklearn.feature_selection import SelectKBest, chi2\n",
    "from statsmodels.graphics.mosaicplot import mosaic\n",
    "from statsmodels.stats.outliers_influence import variance_inflation_factor"
   ]
  },
  {
   "cell_type": "code",
   "execution_count": 2,
   "metadata": {},
   "outputs": [],
   "source": [
    "%run ../custom/jc-functions.ipynb"
   ]
  },
  {
   "cell_type": "code",
   "execution_count": 3,
   "metadata": {},
   "outputs": [
    {
     "data": {
      "text/html": [
       "<div>\n",
       "<style scoped>\n",
       "    .dataframe tbody tr th:only-of-type {\n",
       "        vertical-align: middle;\n",
       "    }\n",
       "\n",
       "    .dataframe tbody tr th {\n",
       "        vertical-align: top;\n",
       "    }\n",
       "\n",
       "    .dataframe thead th {\n",
       "        text-align: right;\n",
       "    }\n",
       "</style>\n",
       "<table border=\"1\" class=\"dataframe\">\n",
       "  <thead>\n",
       "    <tr style=\"text-align: right;\">\n",
       "      <th></th>\n",
       "      <th>Num</th>\n",
       "      <th>Time</th>\n",
       "      <th>Day_of_week</th>\n",
       "      <th>Age_band_of_driver</th>\n",
       "      <th>Sex_of_driver</th>\n",
       "      <th>Educational_level</th>\n",
       "      <th>Vehicle_driver_relation</th>\n",
       "      <th>Driving_experience</th>\n",
       "      <th>Type_of_vehicle</th>\n",
       "      <th>Owner_of_vehicle</th>\n",
       "      <th>...</th>\n",
       "      <th>Vehicle_movement</th>\n",
       "      <th>Casualty_class</th>\n",
       "      <th>Sex_of_casualty</th>\n",
       "      <th>Age_band_of_casualty</th>\n",
       "      <th>Casualty_severity</th>\n",
       "      <th>Work_of_casuality</th>\n",
       "      <th>Fitness_of_casuality</th>\n",
       "      <th>Pedestrian_movement</th>\n",
       "      <th>Cause_of_accident</th>\n",
       "      <th>Accident_severity</th>\n",
       "    </tr>\n",
       "  </thead>\n",
       "  <tbody>\n",
       "    <tr>\n",
       "      <th>0</th>\n",
       "      <td>1</td>\n",
       "      <td>17:02:00</td>\n",
       "      <td>Monday</td>\n",
       "      <td>18-30</td>\n",
       "      <td>Male</td>\n",
       "      <td>Above high school</td>\n",
       "      <td>Employee</td>\n",
       "      <td>1-2yr</td>\n",
       "      <td>Automobile</td>\n",
       "      <td>Owner</td>\n",
       "      <td>...</td>\n",
       "      <td>Going straight</td>\n",
       "      <td>na</td>\n",
       "      <td>na</td>\n",
       "      <td>na</td>\n",
       "      <td>na</td>\n",
       "      <td>NaN</td>\n",
       "      <td>NaN</td>\n",
       "      <td>Not a Pedestrian</td>\n",
       "      <td>Moving Backward</td>\n",
       "      <td>Slight Injury</td>\n",
       "    </tr>\n",
       "    <tr>\n",
       "      <th>1</th>\n",
       "      <td>2</td>\n",
       "      <td>17:02:00</td>\n",
       "      <td>Monday</td>\n",
       "      <td>31-50</td>\n",
       "      <td>Male</td>\n",
       "      <td>Junior high school</td>\n",
       "      <td>Employee</td>\n",
       "      <td>Above 10yr</td>\n",
       "      <td>Public (&gt; 45 seats)</td>\n",
       "      <td>Owner</td>\n",
       "      <td>...</td>\n",
       "      <td>Going straight</td>\n",
       "      <td>na</td>\n",
       "      <td>na</td>\n",
       "      <td>na</td>\n",
       "      <td>na</td>\n",
       "      <td>NaN</td>\n",
       "      <td>NaN</td>\n",
       "      <td>Not a Pedestrian</td>\n",
       "      <td>Overtaking</td>\n",
       "      <td>Slight Injury</td>\n",
       "    </tr>\n",
       "    <tr>\n",
       "      <th>2</th>\n",
       "      <td>3</td>\n",
       "      <td>17:02:00</td>\n",
       "      <td>Monday</td>\n",
       "      <td>18-30</td>\n",
       "      <td>Male</td>\n",
       "      <td>Junior high school</td>\n",
       "      <td>Employee</td>\n",
       "      <td>1-2yr</td>\n",
       "      <td>Lorry (41?100Q)</td>\n",
       "      <td>Owner</td>\n",
       "      <td>...</td>\n",
       "      <td>Going straight</td>\n",
       "      <td>Driver or rider</td>\n",
       "      <td>Male</td>\n",
       "      <td>31-50</td>\n",
       "      <td>3</td>\n",
       "      <td>Driver</td>\n",
       "      <td>NaN</td>\n",
       "      <td>Not a Pedestrian</td>\n",
       "      <td>Changing lane to the left</td>\n",
       "      <td>Serious Injury</td>\n",
       "    </tr>\n",
       "    <tr>\n",
       "      <th>3</th>\n",
       "      <td>4</td>\n",
       "      <td>1:06:00</td>\n",
       "      <td>Sunday</td>\n",
       "      <td>18-30</td>\n",
       "      <td>Male</td>\n",
       "      <td>Junior high school</td>\n",
       "      <td>Employee</td>\n",
       "      <td>5-10yr</td>\n",
       "      <td>Public (&gt; 45 seats)</td>\n",
       "      <td>Governmental</td>\n",
       "      <td>...</td>\n",
       "      <td>Going straight</td>\n",
       "      <td>Pedestrian</td>\n",
       "      <td>Female</td>\n",
       "      <td>18-30</td>\n",
       "      <td>3</td>\n",
       "      <td>Driver</td>\n",
       "      <td>Normal</td>\n",
       "      <td>Not a Pedestrian</td>\n",
       "      <td>Changing lane to the right</td>\n",
       "      <td>Slight Injury</td>\n",
       "    </tr>\n",
       "    <tr>\n",
       "      <th>4</th>\n",
       "      <td>5</td>\n",
       "      <td>1:06:00</td>\n",
       "      <td>Sunday</td>\n",
       "      <td>18-30</td>\n",
       "      <td>Male</td>\n",
       "      <td>Junior high school</td>\n",
       "      <td>Employee</td>\n",
       "      <td>2-5yr</td>\n",
       "      <td>NaN</td>\n",
       "      <td>Owner</td>\n",
       "      <td>...</td>\n",
       "      <td>Going straight</td>\n",
       "      <td>na</td>\n",
       "      <td>na</td>\n",
       "      <td>na</td>\n",
       "      <td>na</td>\n",
       "      <td>NaN</td>\n",
       "      <td>NaN</td>\n",
       "      <td>Not a Pedestrian</td>\n",
       "      <td>Overtaking</td>\n",
       "      <td>Slight Injury</td>\n",
       "    </tr>\n",
       "  </tbody>\n",
       "</table>\n",
       "<p>5 rows × 33 columns</p>\n",
       "</div>"
      ],
      "text/plain": [
       "   Num      Time Day_of_week Age_band_of_driver Sex_of_driver  \\\n",
       "0    1  17:02:00      Monday              18-30          Male   \n",
       "1    2  17:02:00      Monday              31-50          Male   \n",
       "2    3  17:02:00      Monday              18-30          Male   \n",
       "3    4   1:06:00      Sunday              18-30          Male   \n",
       "4    5   1:06:00      Sunday              18-30          Male   \n",
       "\n",
       "    Educational_level Vehicle_driver_relation Driving_experience  \\\n",
       "0   Above high school                Employee              1-2yr   \n",
       "1  Junior high school                Employee         Above 10yr   \n",
       "2  Junior high school                Employee              1-2yr   \n",
       "3  Junior high school                Employee             5-10yr   \n",
       "4  Junior high school                Employee              2-5yr   \n",
       "\n",
       "       Type_of_vehicle Owner_of_vehicle  ... Vehicle_movement  \\\n",
       "0           Automobile            Owner  ...   Going straight   \n",
       "1  Public (> 45 seats)            Owner  ...   Going straight   \n",
       "2      Lorry (41?100Q)            Owner  ...   Going straight   \n",
       "3  Public (> 45 seats)     Governmental  ...   Going straight   \n",
       "4                  NaN            Owner  ...   Going straight   \n",
       "\n",
       "    Casualty_class Sex_of_casualty Age_band_of_casualty Casualty_severity  \\\n",
       "0               na              na                   na                na   \n",
       "1               na              na                   na                na   \n",
       "2  Driver or rider            Male                31-50                 3   \n",
       "3       Pedestrian          Female                18-30                 3   \n",
       "4               na              na                   na                na   \n",
       "\n",
       "  Work_of_casuality Fitness_of_casuality Pedestrian_movement  \\\n",
       "0               NaN                  NaN    Not a Pedestrian   \n",
       "1               NaN                  NaN    Not a Pedestrian   \n",
       "2            Driver                  NaN    Not a Pedestrian   \n",
       "3            Driver               Normal    Not a Pedestrian   \n",
       "4               NaN                  NaN    Not a Pedestrian   \n",
       "\n",
       "            Cause_of_accident Accident_severity  \n",
       "0             Moving Backward     Slight Injury  \n",
       "1                  Overtaking     Slight Injury  \n",
       "2   Changing lane to the left    Serious Injury  \n",
       "3  Changing lane to the right     Slight Injury  \n",
       "4                  Overtaking     Slight Injury  \n",
       "\n",
       "[5 rows x 33 columns]"
      ]
     },
     "execution_count": 3,
     "metadata": {},
     "output_type": "execute_result"
    }
   ],
   "source": [
    "dataset = Path('../dataset')\n",
    "df = pd.read_csv(dataset/\"accidents_train.csv\")\n",
    "df.head()"
   ]
  },
  {
   "cell_type": "markdown",
   "metadata": {},
   "source": [
    "## Features Selected per EDA"
   ]
  },
  {
   "cell_type": "code",
   "execution_count": 4,
   "metadata": {},
   "outputs": [],
   "source": [
    "columns = [\"Area_accident_occured\", \"Types_of_Junction\", \"Light_conditions\",\n",
    "           \"Number_of_vehicles_involved\", \"Number_of_casualties\", \"Cause_of_accident\",\n",
    "           \"Day_of_week\", \"Sex_of_driver\", \"Age_band_of_driver\", \n",
    "           \"Accident_severity\"]\n",
    "df1 = df[columns]\n"
   ]
  },
  {
   "cell_type": "code",
   "execution_count": 5,
   "metadata": {},
   "outputs": [
    {
     "data": {
      "text/plain": [
       "(8210, 10)"
      ]
     },
     "execution_count": 5,
     "metadata": {},
     "output_type": "execute_result"
    }
   ],
   "source": [
    "df1.shape"
   ]
  },
  {
   "cell_type": "code",
   "execution_count": 6,
   "metadata": {},
   "outputs": [
    {
     "name": "stdout",
     "output_type": "stream",
     "text": [
      "<class 'pandas.core.frame.DataFrame'>\n",
      "RangeIndex: 8210 entries, 0 to 8209\n",
      "Data columns (total 10 columns):\n",
      " #   Column                       Non-Null Count  Dtype \n",
      "---  ------                       --------------  ----- \n",
      " 0   Area_accident_occured        8050 non-null   object\n",
      " 1   Types_of_Junction            8210 non-null   object\n",
      " 2   Light_conditions             8210 non-null   object\n",
      " 3   Number_of_vehicles_involved  8210 non-null   int64 \n",
      " 4   Number_of_casualties         8210 non-null   int64 \n",
      " 5   Cause_of_accident            8210 non-null   object\n",
      " 6   Day_of_week                  8210 non-null   object\n",
      " 7   Sex_of_driver                8210 non-null   object\n",
      " 8   Age_band_of_driver           8210 non-null   object\n",
      " 9   Accident_severity            8210 non-null   object\n",
      "dtypes: int64(2), object(8)\n",
      "memory usage: 4.3 MB\n"
     ]
    }
   ],
   "source": [
    "df1.info(memory_usage='deep')"
   ]
  },
  {
   "cell_type": "code",
   "execution_count": 13,
   "metadata": {},
   "outputs": [],
   "source": [
    "# Discrete features\n",
    "disc_feat = ['Number_of_vehicles_involved', 'Number_of_casualties']\n",
    "# Categorical features\n",
    "cat_feat = [\"Area_accident_occured\", \"Types_of_Junction\", \"Light_conditions\",\n",
    "           \"Number_of_vehicles_involved\", \"Number_of_casualties\", \"Cause_of_accident\",\n",
    "           \"Day_of_week\", \"Sex_of_driver\", \"Age_band_of_driver\"]\n",
    "# Target variable\n",
    "target = [\"Accident_severity\"]"
   ]
  },
  {
   "cell_type": "markdown",
   "metadata": {},
   "source": [
    "## Data Quality Reports"
   ]
  },
  {
   "cell_type": "code",
   "execution_count": 8,
   "metadata": {},
   "outputs": [
    {
     "name": "stdout",
     "output_type": "stream",
     "text": [
      "Data Quality for Continous Features\n",
      "Total Features: 2\n",
      "                       Feature  Count  Missing  % missing  Cardinality\n",
      "0  Number_of_vehicles_involved   8210        0        0.0            6\n",
      "1         Number_of_casualties   8210        0        0.0            8\n",
      "\n",
      "\n",
      "Descriptive Stats\n",
      "                              count  mean   std  min  25%  50%  75%  max\n",
      "Number_of_vehicles_involved  8210.0  2.01  0.64  1.0  2.0  2.0  2.0  7.0\n",
      "Number_of_casualties         8210.0  1.51  0.97  1.0  1.0  1.0  2.0  8.0\n"
     ]
    }
   ],
   "source": [
    "data_quality_report_cont(df1, disc_feat)"
   ]
  },
  {
   "cell_type": "code",
   "execution_count": 9,
   "metadata": {},
   "outputs": [
    {
     "name": "stdout",
     "output_type": "stream",
     "text": [
      "Data Quality Report for Categorical Features\n",
      "============================================\n",
      "Stats\n",
      "-----\n",
      "                       Feature  Count  Missing  % Missing  Cardinality\n",
      "0        Area_accident_occured   8050      160       1.99           15\n",
      "1            Types_of_Junction   8210        0       0.00            8\n",
      "2             Light_conditions   8210        0       0.00            4\n",
      "3  Number_of_vehicles_involved   8210        0       0.00            6\n",
      "4         Number_of_casualties   8210        0       0.00            8\n",
      "5            Cause_of_accident   8210        0       0.00           20\n",
      "6                  Day_of_week   8210        0       0.00            7\n",
      "7                Sex_of_driver   8210        0       0.00            3\n",
      "8           Age_band_of_driver   8210        0       0.00            5\n",
      "\n",
      "\n",
      "Mode 1\n",
      "------\n",
      "                       Feature         Mode 1  Mode 1 Freq.  Mode 1 %\n",
      "0        Area_accident_occured          Other          2511     31.19\n",
      "1            Types_of_Junction        Y Shape          3118     37.98\n",
      "2             Light_conditions       Daylight          5924     72.16\n",
      "3  Number_of_vehicles_involved              2          5740     69.91\n",
      "4         Number_of_casualties              1          5786     70.48\n",
      "5            Cause_of_accident  No distancing          1520     18.51\n",
      "6                  Day_of_week         Friday          1326     16.15\n",
      "7                Sex_of_driver           Male          7582     92.35\n",
      "8           Age_band_of_driver          18-30          2728     33.23\n",
      "\n",
      "\n",
      "Mode 2\n",
      "------\n",
      "                       Feature                      Mode 2  Mode 2 Freq.  \\\n",
      "0        Area_accident_occured                Office areas          2323   \n",
      "1            Types_of_Junction                 No junction          2924   \n",
      "2             Light_conditions       Darkness - lights lit          2171   \n",
      "3  Number_of_vehicles_involved                           1          1323   \n",
      "4         Number_of_casualties                           2          1440   \n",
      "5            Cause_of_accident  Changing lane to the right          1233   \n",
      "6                  Day_of_week                    Thursday          1288   \n",
      "7                Sex_of_driver                      Female           462   \n",
      "8           Age_band_of_driver                       31-50          2688   \n",
      "\n",
      "   Mode 2 %  \n",
      "0     28.86  \n",
      "1     35.62  \n",
      "2     26.44  \n",
      "3     16.11  \n",
      "4     17.54  \n",
      "5     15.02  \n",
      "6     15.69  \n",
      "7      5.63  \n",
      "8     32.74  \n",
      "\n",
      "\n",
      "Descriptive Stats\n",
      "-----------------\n",
      "                      count unique            top  freq\n",
      "Area_accident_occured  8050     14          Other  2511\n",
      "Types_of_Junction      8210      8        Y Shape  3118\n",
      "Light_conditions       8210      4       Daylight  5924\n",
      "Cause_of_accident      8210     20  No distancing  1520\n",
      "Day_of_week            8210      7         Friday  1326\n",
      "Sex_of_driver          8210      3           Male  7582\n",
      "Age_band_of_driver     8210      5          18-30  2728\n"
     ]
    }
   ],
   "source": [
    "data_quality_report_cat(df1, cat_feat)"
   ]
  },
  {
   "cell_type": "markdown",
   "metadata": {},
   "source": [
    "#### Data clean up (Missing records)"
   ]
  },
  {
   "cell_type": "code",
   "execution_count": 10,
   "metadata": {},
   "outputs": [
    {
     "name": "stderr",
     "output_type": "stream",
     "text": [
      "C:\\Users\\manuel.clemente\\AppData\\Local\\Temp\\ipykernel_2196\\2051851754.py:1: SettingWithCopyWarning: \n",
      "A value is trying to be set on a copy of a slice from a DataFrame.\n",
      "Try using .loc[row_indexer,col_indexer] = value instead\n",
      "\n",
      "See the caveats in the documentation: https://pandas.pydata.org/pandas-docs/stable/user_guide/indexing.html#returning-a-view-versus-a-copy\n",
      "  df1['Area_accident_occured'] = df1['Area_accident_occured'].fillna(df1['Area_accident_occured'].mode()[0])\n"
     ]
    }
   ],
   "source": [
    "df1['Area_accident_occured'] = df1['Area_accident_occured'].fillna(df1['Area_accident_occured'].mode()[0]) "
   ]
  },
  {
   "cell_type": "markdown",
   "metadata": {},
   "source": [
    "### Verify clean up"
   ]
  },
  {
   "cell_type": "code",
   "execution_count": 11,
   "metadata": {},
   "outputs": [
    {
     "name": "stdout",
     "output_type": "stream",
     "text": [
      "Data Quality Report for Categorical Features\n",
      "============================================\n",
      "Stats\n",
      "-----\n",
      "                       Feature  Count  Missing  % Missing  Cardinality\n",
      "0        Area_accident_occured   8210        0        0.0           14\n",
      "1            Types_of_Junction   8210        0        0.0            8\n",
      "2             Light_conditions   8210        0        0.0            4\n",
      "3  Number_of_vehicles_involved   8210        0        0.0            6\n",
      "4         Number_of_casualties   8210        0        0.0            8\n",
      "5            Cause_of_accident   8210        0        0.0           20\n",
      "6                  Day_of_week   8210        0        0.0            7\n",
      "7                Sex_of_driver   8210        0        0.0            3\n",
      "8           Age_band_of_driver   8210        0        0.0            5\n",
      "\n",
      "\n",
      "Mode 1\n",
      "------\n",
      "                       Feature         Mode 1  Mode 1 Freq.  Mode 1 %\n",
      "0        Area_accident_occured          Other          2671     32.53\n",
      "1            Types_of_Junction        Y Shape          3118     37.98\n",
      "2             Light_conditions       Daylight          5924     72.16\n",
      "3  Number_of_vehicles_involved              2          5740     69.91\n",
      "4         Number_of_casualties              1          5786     70.48\n",
      "5            Cause_of_accident  No distancing          1520     18.51\n",
      "6                  Day_of_week         Friday          1326     16.15\n",
      "7                Sex_of_driver           Male          7582     92.35\n",
      "8           Age_band_of_driver          18-30          2728     33.23\n",
      "\n",
      "\n",
      "Mode 2\n",
      "------\n",
      "                       Feature                      Mode 2  Mode 2 Freq.  \\\n",
      "0        Area_accident_occured                Office areas          2323   \n",
      "1            Types_of_Junction                 No junction          2924   \n",
      "2             Light_conditions       Darkness - lights lit          2171   \n",
      "3  Number_of_vehicles_involved                           1          1323   \n",
      "4         Number_of_casualties                           2          1440   \n",
      "5            Cause_of_accident  Changing lane to the right          1233   \n",
      "6                  Day_of_week                    Thursday          1288   \n",
      "7                Sex_of_driver                      Female           462   \n",
      "8           Age_band_of_driver                       31-50          2688   \n",
      "\n",
      "   Mode 2 %  \n",
      "0     28.29  \n",
      "1     35.62  \n",
      "2     26.44  \n",
      "3     16.11  \n",
      "4     17.54  \n",
      "5     15.02  \n",
      "6     15.69  \n",
      "7      5.63  \n",
      "8     32.74  \n",
      "\n",
      "\n",
      "Descriptive Stats\n",
      "-----------------\n",
      "                      count unique            top  freq\n",
      "Area_accident_occured  8210     14          Other  2671\n",
      "Types_of_Junction      8210      8        Y Shape  3118\n",
      "Light_conditions       8210      4       Daylight  5924\n",
      "Cause_of_accident      8210     20  No distancing  1520\n",
      "Day_of_week            8210      7         Friday  1326\n",
      "Sex_of_driver          8210      3           Male  7582\n",
      "Age_band_of_driver     8210      5          18-30  2728\n"
     ]
    }
   ],
   "source": [
    "data_quality_report_cat(df1, cat_feat)"
   ]
  },
  {
   "cell_type": "markdown",
   "metadata": {},
   "source": [
    "## Export dataset"
   ]
  },
  {
   "cell_type": "code",
   "execution_count": 12,
   "metadata": {},
   "outputs": [],
   "source": [
    "df1.to_csv('../dataset/accidents_clean_train.csv', index=False)"
   ]
  },
  {
   "cell_type": "code",
   "execution_count": null,
   "metadata": {},
   "outputs": [],
   "source": []
  }
 ],
 "metadata": {
  "kernelspec": {
   "display_name": "cobRa",
   "language": "python",
   "name": "python3"
  },
  "language_info": {
   "codemirror_mode": {
    "name": "ipython",
    "version": 3
   },
   "file_extension": ".py",
   "mimetype": "text/x-python",
   "name": "python",
   "nbconvert_exporter": "python",
   "pygments_lexer": "ipython3",
   "version": "3.10.12"
  }
 },
 "nbformat": 4,
 "nbformat_minor": 2
}
